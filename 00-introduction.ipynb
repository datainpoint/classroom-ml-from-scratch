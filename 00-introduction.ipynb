{
 "cells": [
  {
   "cell_type": "markdown",
   "metadata": {
    "slideshow": {
     "slide_type": "slide"
    }
   },
   "source": [
    "# Python 機器學習從零至一\n",
    "\n",
    "> 簡介\n",
    "\n",
    "[數據交點](https://www.datainpoint.com) | 郭耀仁 <yaojenkuo@datainpoint.com>"
   ]
  },
  {
   "cell_type": "code",
   "execution_count": 1,
   "metadata": {
    "slideshow": {
     "slide_type": "subslide"
    }
   },
   "outputs": [],
   "source": [
    "import matplotlib.pyplot as plt"
   ]
  },
  {
   "cell_type": "markdown",
   "metadata": {
    "slideshow": {
     "slide_type": "slide"
    }
   },
   "source": [
    "## 資料科學專案"
   ]
  },
  {
   "cell_type": "markdown",
   "metadata": {
    "slideshow": {
     "slide_type": "subslide"
    }
   },
   "source": [
    "## 資料科學專案可能會包含的工作內容\n",
    "\n",
    "- 討論需求規格。\n",
    "- 取得測試資料。\n",
    "- 載入環境。\n",
    "- 整理資料。\n",
    "- 視覺化探索資料。"
   ]
  },
  {
   "cell_type": "markdown",
   "metadata": {
    "slideshow": {
     "slide_type": "subslide"
    }
   },
   "source": [
    "## 資料科學專案可能會包含的工作內容（續）\n",
    "\n",
    "- 利用統計分析、機器學習建構模型。\n",
    "- 部署專案到正式環境。\n",
    "- 將專案的洞察以淺顯易懂方式與組織內部其他團隊溝通。"
   ]
  },
  {
   "cell_type": "markdown",
   "metadata": {
    "slideshow": {
     "slide_type": "subslide"
    }
   },
   "source": [
    "## 完成專案的最主要工具是程式語言\n",
    "\n",
    "![](images/0001.png)\n",
    "\n",
    "來源：[R for Data Science](https://r4ds.had.co.nz/program-intro.html)"
   ]
  },
  {
   "cell_type": "markdown",
   "metadata": {
    "slideshow": {
     "slide_type": "subslide"
    }
   },
   "source": [
    "## 程式語言的選擇\n",
    "\n",
    "- 以 2021 年而論，Python 基本上在機器學習、深度學習與人工智慧領域處於一方獨尊的態勢。\n",
    "- 專精統計分析的使用者才有理由首選 R。"
   ]
  },
  {
   "cell_type": "markdown",
   "metadata": {
    "slideshow": {
     "slide_type": "subslide"
    }
   },
   "source": [
    "## 如何學習「機器學習」\n",
    "\n",
    "- 聽起來像是繞口令：How to learn machine learning?\n",
    "- 取捨天秤兩端的平衡：實作與理論。"
   ]
  },
  {
   "cell_type": "markdown",
   "metadata": {
    "slideshow": {
     "slide_type": "subslide"
    }
   },
   "source": [
    "## 偏重實作的學習\n",
    "\n",
    "- [Udacity](https://www.udacity.com/) \n",
    "- [Kaggle Learn](https://www.kaggle.com/learn)\n",
    "- ...etc."
   ]
  },
  {
   "cell_type": "markdown",
   "metadata": {
    "slideshow": {
     "slide_type": "subslide"
    }
   },
   "source": [
    "## 偏重理論的學習\n",
    "\n",
    "- [Christopher M. Bishop: Pattern Recognition and Machine Learning](https://www.amazon.com/Pattern-Recognition-Learning-Information-Statistics/dp/0387310738)\n",
    "- [Ian Goodfellow ,Yoshua Bengio, and Aaron Courville: Deep Learning](https://www.amazon.com/Deep-Learning-Adaptive-Computation-Machine/dp/0262035618/) \n",
    "- [Trevor Hastie, Robert Tibshirani, and Jerome Friedman: The Elements of Statistical Learning: Data Mining, Inference, and Prediction](https://www.amazon.com/Elements-Statistical-Learning-Prediction-Statistics/dp/0387848576)\n",
    "- ...etc."
   ]
  },
  {
   "cell_type": "markdown",
   "metadata": {
    "slideshow": {
     "slide_type": "subslide"
    }
   },
   "source": [
    "## 取捨天秤兩端的平衡\n",
    "\n",
    "- 映襯機器學習的哲學：配適（Fitting）。\n",
    "    - 使用第三方模組的類別、函數。\n",
    "    - 自行定義機器學習演算法的類別、函數。"
   ]
  },
  {
   "cell_type": "markdown",
   "metadata": {
    "slideshow": {
     "slide_type": "subslide"
    }
   },
   "source": [
    "## 自行定義的好處\n",
    "\n",
    "> If you can code it, you certainly understand it."
   ]
  },
  {
   "cell_type": "markdown",
   "metadata": {
    "slideshow": {
     "slide_type": "slide"
    }
   },
   "source": [
    "## 關於機器學習"
   ]
  },
  {
   "cell_type": "markdown",
   "metadata": {
    "slideshow": {
     "slide_type": "subslide"
    }
   },
   "source": [
    "## 傳統透過電腦程式解決問題的方式示意圖\n",
    "\n",
    "![Imgur](https://i.imgur.com/3pojPXW.png?1)\n",
    "\n",
    "來源：<https://www.coursera.org/learn/introduction-tensorflow>"
   ]
  },
  {
   "cell_type": "markdown",
   "metadata": {
    "slideshow": {
     "slide_type": "subslide"
    }
   },
   "source": [
    "## 給定規則 $w$ 以及資料 $X$，我們就可以定義出函數 $f$ 生成答案 $y$\n",
    "\n",
    "\\begin{equation}\n",
    "y = f(X;w) = Xw\n",
    "\\end{equation}"
   ]
  },
  {
   "cell_type": "markdown",
   "metadata": {
    "slideshow": {
     "slide_type": "subslide"
    }
   },
   "source": [
    "## 以機器學習的電腦程式解決問題的方式示意圖\n",
    "\n",
    "![Imgur](https://i.imgur.com/YunyLd7.png)\n",
    "\n",
    "來源：<https://www.coursera.org/learn/introduction-tensorflow>"
   ]
  },
  {
   "cell_type": "markdown",
   "metadata": {
    "slideshow": {
     "slide_type": "subslide"
    }
   },
   "source": [
    "## 給定答案 $y$ 以及資料 $X$，機器學習的電腦程式在最小化損失函數 $J$ 的前提下生成規則 $w$\n",
    "\n",
    "\\begin{equation}\n",
    "\\text{minimize} \\; J(w) \\\\\n",
    "\\text{subject} \\; to \\; \\hat{y} = h(X; w) = Xw \\\\\n",
    "\\text{where} \\; J(w) \\; \\text{measures the loss between} \\; y \\; \\text{and} \\; \\hat{y}\n",
    "\\end{equation}"
   ]
  },
  {
   "cell_type": "markdown",
   "metadata": {
    "slideshow": {
     "slide_type": "slide"
    }
   },
   "source": [
    "## 什麼是機器學習"
   ]
  },
  {
   "cell_type": "markdown",
   "metadata": {
    "slideshow": {
     "slide_type": "subslide"
    }
   },
   "source": [
    "## 機器學習的描述定義\n",
    "\n",
    "- 致力於透過歷史資料將預測或挖掘特徵能力內化於電腦程式的學科。\n",
    "- 一段具備預測數值、預測類別或挖掘特徵的電腦程式，俗稱的「模型」。\n",
    "- 應該符合「三個要素」、「一個但書」的特性。"
   ]
  },
  {
   "cell_type": "markdown",
   "metadata": {
    "slideshow": {
     "slide_type": "subslide"
    }
   },
   "source": [
    "## 機器學習的精準定義\n",
    "\n",
    "> A computer program is said to learn from experience E with respect to some class of tasks T and performance measure P if its performance at tasks in T, as measured by P, improves with experience E.\n",
    "> \n",
    "> [Tom Mitchel](https://en.wikipedia.org/wiki/Tom_M._Mitchell)"
   ]
  },
  {
   "cell_type": "markdown",
   "metadata": {
    "slideshow": {
     "slide_type": "subslide"
    }
   },
   "source": [
    "## 三個要素\n",
    "\n",
    "1. 資料（**E**xperience）\n",
    "2. 任務（**T**ask）\n",
    "3. 評估（**P**erformance）"
   ]
  },
  {
   "cell_type": "markdown",
   "metadata": {
    "slideshow": {
     "slide_type": "subslide"
    }
   },
   "source": [
    "## 一個但書\n",
    "\n",
    "- 隨著歷史資料觀測值數量增加，在其他條件不變前提下，模型的表現應該要變得更優秀。\n",
    "- 預測的誤差降低、挖掘資料特徵的能力提升。"
   ]
  },
  {
   "cell_type": "markdown",
   "metadata": {
    "slideshow": {
     "slide_type": "subslide"
    }
   },
   "source": [
    "## 資料的表達\n",
    "\n",
    "- 外型 $(m, n)$ 的特徵矩陣 $X$。\n",
    "- 外型 $(m,)$ 或 $(m, 1)$ 的目標向量 $y$（或 $Y$）。"
   ]
  },
  {
   "cell_type": "code",
   "execution_count": 4,
   "metadata": {
    "slideshow": {
     "slide_type": "skip"
    }
   },
   "outputs": [],
   "source": [
    "def plot_X_y():\n",
    "    fig = plt.figure(figsize=(6, 4))\n",
    "    ax = fig.add_axes([0, 0, 1, 1])\n",
    "    ax.axis('off')\n",
    "    ax.axis('equal')\n",
    "    # Draw features matrix\n",
    "    ax.vlines(range(6), ymin=0, ymax=9, lw=1)\n",
    "    ax.hlines(range(10), xmin=0, xmax=5, lw=1)\n",
    "    font_prop = dict(size=12, family='monospace')\n",
    "    ax.text(-1, -1, \"Feature Matrix ($X$)\", size=14)\n",
    "    ax.text(0.1, -0.3, r'n_features $\\longrightarrow$', **font_prop)\n",
    "    ax.text(-0.1, 0.1, r'$\\longleftarrow$ m_samples', rotation=90,\n",
    "            va='top', ha='right', **font_prop)\n",
    "    # Draw labels vector\n",
    "    ax.vlines(range(8, 10), ymin=0, ymax=9, lw=1)\n",
    "    ax.hlines(range(10), xmin=8, xmax=9, lw=1)\n",
    "    ax.text(7, -1, \"Target Vector ($y$)\", size=14)\n",
    "    ax.text(7.9, 0.1, r'$\\longleftarrow$ m_samples', rotation=90,\n",
    "            va='top', ha='right', **font_prop)\n",
    "    ax.set_ylim(10, -2)\n",
    "    plt.show()"
   ]
  },
  {
   "cell_type": "code",
   "execution_count": 5,
   "metadata": {},
   "outputs": [
    {
     "data": {
      "image/png": "[encoded data removed]",
      "text/plain": [
       "<Figure size 432x288 with 1 Axes>"
      ]
     },
     "metadata": {
      "needs_background": "light"
     },
     "output_type": "display_data"
    }
   ],
   "source": [
    "# 來源：<https://jakevdp.github.io/PythonDataScienceHandbook>\n",
    "plot_X_y()"
   ]
  },
  {
   "cell_type": "markdown",
   "metadata": {
    "slideshow": {
     "slide_type": "subslide"
    }
   },
   "source": [
    "## 機器學習的理念\n",
    "\n",
    "**假設**有一個函數 $f$ 能夠完美描述特徵矩陣 $X$ 與目標向量 $y$ 的關係。\n",
    "\n",
    "\\begin{equation}\n",
    "y = f(X)\n",
    "\\end{equation}"
   ]
  },
  {
   "cell_type": "markdown",
   "metadata": {
    "slideshow": {
     "slide_type": "subslide"
    }
   },
   "source": [
    "## 由於函數 $f$ 未知，我們從已經實現的歷史資料 $X^{(train)}$ 與 $y^{(train)}$ 之中找出函數 $h$ 用來模擬、逼近函數 $f$\n",
    "\n",
    "\\begin{equation}\n",
    "\\hat{y} = h(X; w)\n",
    "\\end{equation}"
   ]
  },
  {
   "cell_type": "markdown",
   "metadata": {
    "slideshow": {
     "slide_type": "subslide"
    }
   },
   "source": [
    "## 函數 $h$ 有無限多種可能性\n",
    "\n",
    "必須根據 $y^{(train)}$ 與 $\\hat{y}^{(train)}$ 的差異程度來決定如何從有限選擇範圍內的 $H$ 中，選擇差異程度最小的 $h^*(X; w^*)$\n",
    "\n",
    "\\begin{equation}\n",
    "H = \\{h_1(X; w_1), h_2(X; w_2), ..., h_n(X; w_n)\\}\n",
    "\\end{equation}"
   ]
  },
  {
   "cell_type": "markdown",
   "metadata": {
    "slideshow": {
     "slide_type": "subslide"
    }
   },
   "source": [
    "## 機器學習粗分為監督式與非監督式學習\n",
    "\n",
    "- 監督式學習：訓練資料中具備已實現的數值或標籤。\n",
    "    - 迴歸：數值預測的任務。\n",
    "    - 分類：類別預測的任務。\n",
    "- 非監督式學習：訓練資料中「不」具備已實現的數值或標籤。"
   ]
  },
  {
   "cell_type": "markdown",
   "metadata": {
    "slideshow": {
     "slide_type": "subslide"
    }
   },
   "source": [
    "## 假若目標向量是連續的數值型態：數值預測的任務\n",
    "\n",
    "選擇的依據是取能讓均方誤差最小的 $h^*(X; w^*)$，其中 $m$ 代表觀測值筆數。\n",
    "\n",
    "\\begin{equation}\n",
    "\\operatorname*{arg\\,min}_w \\; \\frac{1}{m}\\sum_{i}^{m}{(y^{(train)}_i - \\hat{y_i}^{(train)})^2}\n",
    "\\end{equation}"
   ]
  },
  {
   "cell_type": "markdown",
   "metadata": {
    "slideshow": {
     "slide_type": "subslide"
    }
   },
   "source": [
    "## 假若目標向量是離散的類別型態：類別預測的任務\n",
    "\n",
    "選擇的依據是取能讓誤分類數總和最小的 $h^*(X; w)$。\n",
    "\n",
    "\\begin{equation}\n",
    "\\operatorname*{arg\\,min}_w \\; \\sum_{i}^{m} \\mid y^{(train)}_i \\neq \\hat{y_i}^{(train)} \\mid\n",
    "\\end{equation}"
   ]
  },
  {
   "cell_type": "markdown",
   "metadata": {
    "slideshow": {
     "slide_type": "subslide"
    }
   },
   "source": [
    "## 為何機器學習\n",
    "\n",
    "- 在什麼特定場合需要運用機器學習？\n",
    "- 不容易用語言描述出來的邏輯、難以撰寫規則的任務。"
   ]
  },
  {
   "cell_type": "markdown",
   "metadata": {
    "slideshow": {
     "slide_type": "subslide"
    }
   },
   "source": [
    "## 有明確且能夠描述的邏輯：判斷質數\n",
    "\n",
    "假如解決問題的邏輯清晰且可以用語言描述，我們可以將這個邏輯想像成為一個函數 $f$，將問題輸入就可以獲得解答 $f(x)$。"
   ]
  },
  {
   "cell_type": "code",
   "execution_count": 1,
   "metadata": {
    "slideshow": {
     "slide_type": "subslide"
    }
   },
   "outputs": [],
   "source": [
    "def f(x):\n",
    "    \"\"\"\n",
    "    判斷輸入 x 是否為質數，是質數則輸出 1，否則輸出 0\n",
    "    \"\"\"\n",
    "    n_divisors = 0\n",
    "    for i in range(1, x+1):\n",
    "        if x % i == 0:\n",
    "            n_divisors += 1\n",
    "        if n_divisors > 2:\n",
    "            break\n",
    "    return int(n_divisors == 2)"
   ]
  },
  {
   "cell_type": "code",
   "execution_count": 2,
   "metadata": {
    "slideshow": {
     "slide_type": "subslide"
    }
   },
   "outputs": [
    {
     "name": "stdout",
     "output_type": "stream",
     "text": [
      "0\n",
      "1\n",
      "1\n"
     ]
    }
   ],
   "source": [
    "print(f(1)) # 非質數\n",
    "print(f(2)) # 質數\n",
    "print(f(3)) # 質數"
   ]
  },
  {
   "cell_type": "markdown",
   "metadata": {
    "slideshow": {
     "slide_type": "subslide"
    }
   },
   "source": [
    "## 沒有明確且能夠描述的邏輯\n",
    "\n",
    "- 數值預測，給定一位 NBA 球員的身高來預測他的體重為何？\n",
    "- 類別預測，給定一位 NBA 球員的生涯場均助攻與場均籃板來預測的鋒衛位置為何？"
   ]
  },
  {
   "cell_type": "markdown",
   "metadata": {
    "slideshow": {
     "slide_type": "subslide"
    }
   },
   "source": [
    "## 運用機器學習解決沒有明確且能夠描述的邏輯\n",
    "\n",
    "想像有一個未知的函數 $f$ 能夠完美解決問題，假設另一個函數 $h$ 和 $f$ 很相似但不盡相同，將問題輸入它可以獲得解答 $h(x)$，但由於 $h$ 畢竟不是 $f$，機器學習演算法的目標，就是盡可能讓誤差減小、讓 $h$ 愈加逼近 $f$。"
   ]
  },
  {
   "cell_type": "markdown",
   "metadata": {
    "slideshow": {
     "slide_type": "subslide"
    }
   },
   "source": [
    "## 資料科學專案是否採用機器學習方法的常見準則\n",
    "\n",
    "「能否」使用清晰且可以語言描述的邏輯作為判斷、預測的依據。"
   ]
  }
 ],
 "metadata": {
  "celltoolbar": "Slideshow",
  "kernelspec": {
   "display_name": "Python Data Science",
   "language": "python",
   "name": "pyds"
  },
  "language_info": {
   "codemirror_mode": {
    "name": "ipython",
    "version": 3
   },
   "file_extension": ".py",
   "mimetype": "text/x-python",
   "name": "python",
   "nbconvert_exporter": "python",
   "pygments_lexer": "ipython3",
   "version": "3.8.10"
  }
 },
 "nbformat": 4,
 "nbformat_minor": 4
}
