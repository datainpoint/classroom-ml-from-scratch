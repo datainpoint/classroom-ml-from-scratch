{
 "cells": [
  {
   "cell_type": "markdown",
   "id": "heated-welding",
   "metadata": {
    "deletable": false
   },
   "source": [
    "# Python 機器學習從零至一\n",
    "\n",
    "> 使用 conda 管理環境\n",
    "\n",
    "[數據交點](https://www.datainpoint.com) | 郭耀仁 <yaojenkuo@datainpoint.com>"
   ]
  },
  {
   "cell_type": "markdown",
   "id": "typical-impact",
   "metadata": {},
   "source": [
    "## 01. 建立環境 `python3712`\n",
    "\n",
    "- 開啟終端機\n",
    "- 運用 conda\n",
    "- 環境名稱：`python3712`\n",
    "- Python 版本：3.7.12\n",
    "\n",
    "```bash\n",
    "conda env list\n",
    "# conda environments:\n",
    "#\n",
    "#base                     /srv/conda\n",
    "#python3712               /srv/conda/envs/python3712\n",
    "```"
   ]
  },
  {
   "cell_type": "markdown",
   "id": "familiar-airline",
   "metadata": {},
   "source": [
    "## 02. 建立環境 `python3615`\n",
    "\n",
    "- 開啟終端機\n",
    "- 運用 conda\n",
    "- 環境名稱：`python3615`\n",
    "- Python 版本：3.6.15\n",
    "\n",
    "```bash\n",
    "conda env list\n",
    "# conda environments:\n",
    "#\n",
    "#base                     /srv/conda\n",
    "#python3615               /srv/conda/envs/python3615\n",
    "```"
   ]
  }
 ],
 "metadata": {
  "kernelspec": {
   "display_name": "Python 3 (ipykernel)",
   "language": "python",
   "name": "python3"
  },
  "language_info": {
   "codemirror_mode": {
    "name": "ipython",
    "version": 3
   },
   "file_extension": ".py",
   "mimetype": "text/x-python",
   "name": "python",
   "nbconvert_exporter": "python",
   "pygments_lexer": "ipython3",
   "version": "3.9.5"
  }
 },
 "nbformat": 4,
 "nbformat_minor": 5
}
