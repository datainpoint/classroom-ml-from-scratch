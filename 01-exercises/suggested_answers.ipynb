{
 "cells": [
  {
   "cell_type": "markdown",
   "metadata": {
    "deletable": false
   },
   "source": [
    "# Python 機器學習從零至一 \n",
    "\n",
    "> 數列運算\n",
    "\n",
    "[數據交點](https://www.datainpoint.com) | 郭耀仁 <yaojenkuo@datainpoint.com>"
   ]
  },
  {
   "cell_type": "code",
   "execution_count": 1,
   "metadata": {
    "deletable": false
   },
   "outputs": [],
   "source": [
    "import numpy as np"
   ]
  },
  {
   "cell_type": "markdown",
   "metadata": {
    "deletable": false
   },
   "source": [
    "## Instructions\n",
    "\n",
    "- The assignment will be disconnected if idling over 10 minutes, we can reactivate a new session by clicking the assignment link again.\n",
    "- We've imported necessary modules at the top of each assignment.\n",
    "- We've put necessary files(if any) in `/home/jovyan/data`.\n",
    "- We've defined the names of functions/inputs/parameters for you.\n",
    "- Write down your solution between the comments `### BEGIN SOLUTION` and `### END SOLUTION`.\n",
    "- It is NECESSARY to `return` the answer, tests will fail by just printing out the answer.\n",
    "- It is known that `SyntaxError` and `IndentationError` might break our `test_runner.py` and results in a zero point grade. It is highly recommended testing your solution by calling functions/methods in notebook or running tests before submission.\n",
    "- Running tests to see if your solutions are right:\n",
    "    - File -> Save Notebook to save `exercises.ipynb`.\n",
    "    - File -> New -> Terminal to open a Terminal.\n",
    "    - Use command `python 01-exercises/test_runner.py` to run test."
   ]
  },
  {
   "cell_type": "markdown",
   "metadata": {},
   "source": [
    "## 01. Define a function named `add_intercepts` which horizontally combines a `(m, 1)` array of ones to a given array.\n",
    "\n",
    "- Expected inputs: `np.ndarray`\n",
    "- Expected outputs: `np.ndarray`"
   ]
  },
  {
   "cell_type": "code",
   "execution_count": 2,
   "metadata": {},
   "outputs": [],
   "source": [
    "def add_intercepts(arr: np.ndarray) -> np.ndarray:\n",
    "    \"\"\"\n",
    "    >>> A = np.array([5, 5, 6, 6]).reshape(-1, 1)\n",
    "    >>> add_intercepts(A)\n",
    "    array([[1, 5],\n",
    "           [1, 5],\n",
    "           [1, 6],\n",
    "           [1, 6]])\n",
    "    >>> B = np.zeros((5, 2), dtype=int)\n",
    "    >>> add_intercepts(B)\n",
    "    array([[1, 0, 0],\n",
    "           [1, 0, 0],\n",
    "           [1, 0, 0],\n",
    "           [1, 0, 0],\n",
    "           [1, 0, 0]])\n",
    "    \"\"\"\n",
    "    ### BEGIN SOLUTION\n",
    "    m = arr.shape[0]\n",
    "    intercepts = np.ones(m, dtype=int).reshape(-1, 1)\n",
    "    out = np.concatenate([intercepts, arr], axis=1)\n",
    "    return out\n",
    "    ### END SOLUTION"
   ]
  },
  {
   "cell_type": "markdown",
   "metadata": {},
   "source": [
    "## 02. Define a function named `split_train_test` which splits a given array vertically according to specified parameters.\n",
    "\n",
    "- Expected inputs: `np.ndarray`\n",
    "- Expected outputs: `tuple`"
   ]
  },
  {
   "cell_type": "code",
   "execution_count": 3,
   "metadata": {},
   "outputs": [],
   "source": [
    "def split_train_test(arr: np.ndarray, test_size: float) -> tuple:\n",
    "    \"\"\"\n",
    "    >>> A = np.ones((10, 2))\n",
    "    >>> A_train, A_test = split_train_test(A, test_size=0.3)\n",
    "    >>> A_train.shape\n",
    "    (7, 2)\n",
    "    >>> A_test.shape\n",
    "    (3, 2)\n",
    "    >>> B = np.ones((20, 3))\n",
    "    >>> B_train, B_test = split_train_test(B, test_size=0.4)\n",
    "    >>> B_train.shape\n",
    "    (12, 3)\n",
    "    >>> B_test.shape\n",
    "    (8, 3)\n",
    "    \"\"\"\n",
    "    ### BEGIN SOLUTION\n",
    "    m = arr.shape[0]\n",
    "    test_index = int(m * test_size)\n",
    "    arr_test, arr_train = np.split(arr, [test_index])\n",
    "    return arr_train, arr_test\n",
    "    ### END SOLUTION"
   ]
  },
  {
   "cell_type": "markdown",
   "metadata": {},
   "source": [
    "## 03. Define a function named `is_invertible` which determines if an inverse matrix exists for a given matrix.\n",
    "\n",
    "- Expected inputs: `np.ndarray`\n",
    "- Expected outputs: `bool`"
   ]
  },
  {
   "cell_type": "code",
   "execution_count": 4,
   "metadata": {},
   "outputs": [],
   "source": [
    "def is_invertible(arr: np.ndarray) -> bool:\n",
    "    \"\"\"\n",
    "    >>> A = np.array([1, 2, 2, 4]).reshape(2, 2)\n",
    "    >>> is_invertible(A)\n",
    "    False\n",
    "    >>> B = np.array([5, 5, 6, 6]).reshape(2, 2)\n",
    "    >>> is_invertible(B)\n",
    "    False\n",
    "    >>> C = np.array([5, 6, 7, 8]).reshape(2, 2)\n",
    "    >>> is_invertible(C)\n",
    "    True\n",
    "    \"\"\"\n",
    "    ### BEGIN SOLUTION\n",
    "    try:\n",
    "        np.linalg.inv(arr)\n",
    "        return True\n",
    "    except np.linalg.LinAlgError:\n",
    "        return False\n",
    "    ### END SOLUTION"
   ]
  },
  {
   "cell_type": "markdown",
   "metadata": {},
   "source": [
    "## 04. Define a function named `create_diagonal_split_matrix` which generates a diagonal matrix given `n` as the order, `fill_int` as the elements outside the main diagonal and zeros as the main diagonal.\n",
    "\n",
    "- Expected inputs: `int`\n",
    "- Expected outputs: `np.ndarray`"
   ]
  },
  {
   "cell_type": "code",
   "execution_count": 5,
   "metadata": {},
   "outputs": [],
   "source": [
    "def create_diagonal_split_matrix(n: int, fill_int: int) -> np.ndarray:\n",
    "    \"\"\"\n",
    "    >>> create_diagonal_split_matrix(2, 5566)\n",
    "    array([[   0, 5566],\n",
    "           [5566,    0]])\n",
    "    >>> create_diagonal_split_matrix(3, 55)\n",
    "    array([[ 0, 55, 55],\n",
    "           [55,  0, 55],\n",
    "           [55, 55,  0]])\n",
    "    >>> create_diagonal_split_matrix(4, 66)\n",
    "    array([[ 0, 66, 66, 66],\n",
    "           [66,  0, 66, 66],\n",
    "           [66, 66,  0, 66],\n",
    "           [66, 66, 66,  0]])\n",
    "    \"\"\"\n",
    "    ### BEGIN SOLUTION\n",
    "    arr_shape = (n, n)\n",
    "    out_arr = np.full(shape=arr_shape, fill_value=fill_int)\n",
    "    diags = np.diagonal(out_arr)\n",
    "    minus_arr = -np.diag(diags)\n",
    "    out_arr += minus_arr\n",
    "    return out_arr\n",
    "    ### END SOLUTION"
   ]
  },
  {
   "cell_type": "markdown",
   "metadata": {},
   "source": [
    "## 05. Define a function named `create_square_matrix` which generates a square matrix with elements equal to the multiplication of row numbers and column numbers.\n",
    "\n",
    "- Expected inputs: `int`\n",
    "- Expected outputs: `np.ndarray`"
   ]
  },
  {
   "cell_type": "code",
   "execution_count": 6,
   "metadata": {},
   "outputs": [],
   "source": [
    "def create_square_matrix(n: int) -> np.ndarray:\n",
    "    \"\"\"\n",
    "    >>> create_square_matrix(3)\n",
    "    array([[1, 2, 3],\n",
    "           [2, 4, 6],\n",
    "           [3, 6, 9]])\n",
    "    >>> create_square_matrix(4)\n",
    "    array([[ 1,  2,  3,  4],\n",
    "           [ 2,  4,  6,  8],\n",
    "           [ 3,  6,  9, 12],\n",
    "           [ 4,  8, 12, 16]])\n",
    "    >>> create_square_matrix(5)\n",
    "    array([[ 1,  2,  3,  4,  5],\n",
    "           [ 2,  4,  6,  8, 10],\n",
    "           [ 3,  6,  9, 12, 15],\n",
    "           [ 4,  8, 12, 16, 20],\n",
    "           [ 5, 10, 15, 20, 25]])\n",
    "    \"\"\"\n",
    "    ### BEGIN SOLUTION\n",
    "    arr = np.arange(1, n + 1).reshape(-1, 1)\n",
    "    out = arr.dot(arr.T)\n",
    "    return out\n",
    "    ### END SOLUTION"
   ]
  }
 ],
 "metadata": {
  "kernelspec": {
   "display_name": "Python Data Science",
   "language": "python",
   "name": "pyds"
  },
  "language_info": {
   "codemirror_mode": {
    "name": "ipython",
    "version": 3
   },
   "file_extension": ".py",
   "mimetype": "text/x-python",
   "name": "python",
   "nbconvert_exporter": "python",
   "pygments_lexer": "ipython3",
   "version": "3.8.10"
  }
 },
 "nbformat": 4,
 "nbformat_minor": 4
}
