{
 "cells": [
  {
   "cell_type": "markdown",
   "metadata": {
    "deletable": false
   },
   "source": [
    "# Python 機器學習從零至一 \n",
    "\n",
    "> 以 Scikit-Learn 做機器學習\n",
    "\n",
    "[數據交點](https://www.datainpoint.com) | 郭耀仁 <yaojenkuo@datainpoint.com>"
   ]
  },
  {
   "cell_type": "code",
   "execution_count": 1,
   "metadata": {
    "deletable": false
   },
   "outputs": [],
   "source": [
    "import numpy as np\n",
    "import pandas as pd\n",
    "from sklearn.preprocessing import StandardScaler\n",
    "from sklearn.preprocessing import MinMaxScaler\n",
    "from sklearn.preprocessing import PolynomialFeatures"
   ]
  },
  {
   "cell_type": "markdown",
   "metadata": {},
   "source": [
    "## Instructions\n",
    "\n",
    "- The assignment will be disconnected if idling over 10 minutes, we can reactivate a new session by clicking the assignment link again.\n",
    "- We've imported necessary modules at the top of each assignment.\n",
    "- We've put necessary files(if any) in `/home/jovyan/data`.\n",
    "- We've defined the names of functions/inputs/parameters for you.\n",
    "- Write down your solution between the comments `### BEGIN SOLUTION` and `### END SOLUTION`.\n",
    "- It is NECESSARY to `return` the answer, tests will fail by just printing out the answer.\n",
    "- It is known that `SyntaxError` and `IndentationError` might break our `test_runner.py` and results in a zero point grade. It is highly recommended testing your solution by calling functions/methods in notebook or running tests before submission.\n",
    "- Running tests to see if your solutions are right:\n",
    "    - File -> Save Notebook to save `exercises.ipynb`.\n",
    "    - File -> New -> Terminal to open a Terminal.\n",
    "    - Use command `python 02-exercises/test_runner.py` to run test."
   ]
  },
  {
   "cell_type": "markdown",
   "metadata": {},
   "source": [
    "## 01. Given `/home/jovyan/data/titanic/train.csv`, extract `Survived` as target vector and other variables as feature matrix.\n",
    "\n",
    "- Expected inputs: None.\n",
    "- Expected outputs: `ndarray`."
   ]
  },
  {
   "cell_type": "code",
   "execution_count": 2,
   "metadata": {},
   "outputs": [],
   "source": [
    "def extract_titanic_X_y() -> np.ndarray:\n",
    "    \"\"\"\n",
    "    >>> titanic_X, titanic_y = extract_titanic_X_y()\n",
    "    >>> type(titanic_X)\n",
    "    'numpy.ndarray'\n",
    "    >>> type(titanic_y)\n",
    "    'numpy.ndarray'\n",
    "    >>> titanic_X.shape\n",
    "    (891,11)\n",
    "    >>> titanic_y.shape\n",
    "    (891,)\n",
    "    \"\"\"\n",
    "    ### BEGIN SOLUTION\n",
    "    \n",
    "    ### END SOLUTION"
   ]
  },
  {
   "cell_type": "markdown",
   "metadata": {},
   "source": [
    "## 02. Given `/home/jovyan/data/house-prices/train.csv`, extract `SalePrice` as target vector and other variables as feature matrix.\n",
    "\n",
    "- Expected inputs: None.\n",
    "- Expected outputs: `ndarray`."
   ]
  },
  {
   "cell_type": "code",
   "execution_count": 3,
   "metadata": {},
   "outputs": [],
   "source": [
    "def extract_house_prices_X_y() -> np.ndarray:\n",
    "    \"\"\"\n",
    "    >>> house_prices_X, house_prices_y = extract_house_prices_X_y()\n",
    "    >>> type(house_prices_X)\n",
    "    'numpy.ndarray'\n",
    "    >>> type(house_prices_y)\n",
    "    'numpy.ndarray'\n",
    "    >>> house_prices_X.shape\n",
    "    (1460, 80)\n",
    "    >>> house_prices_y.shape\n",
    "    (1460,)\n",
    "    \"\"\"\n",
    "    ### BEGIN SOLUTION\n",
    "    \n",
    "    ### END SOLUTION"
   ]
  },
  {
   "cell_type": "markdown",
   "metadata": {},
   "source": [
    "## 03. Given `/home/jovyan/data/titanic/train.csv` in working directory, extract `Fare` as the feature matrix and apply `StandardScaler` to it.\n",
    "\n",
    "- Expected inputs: None.\n",
    "- Expected outputs: `ndarray`"
   ]
  },
  {
   "cell_type": "code",
   "execution_count": 4,
   "metadata": {},
   "outputs": [],
   "source": [
    "def get_standard_scaled_fare() -> np.ndarray:\n",
    "    \"\"\"\n",
    "    >>> standard_scaled_fare = get_standard_scaled_fare()\n",
    "    >>> type(standard_scaled_fare)\n",
    "    'numpy.ndarray'\n",
    "    >>> standard_scaled_fare.shape\n",
    "    (891, 1)\n",
    "    >>> standard_scaled_fare[:5]\n",
    "    array([[-0.50244517],\n",
    "           [ 0.78684529],\n",
    "           [-0.48885426],\n",
    "           [ 0.42073024],\n",
    "           [-0.48633742]])\n",
    "    >>> standard_scaled_fare.std()\n",
    "    1.0\n",
    "    \"\"\"\n",
    "    ### BEGIN SOLUTION\n",
    "    \n",
    "    ### END SOLUTION"
   ]
  },
  {
   "cell_type": "markdown",
   "metadata": {},
   "source": [
    "## 04. Given `/home/jovyan/data/house-prices/train.csv`, extract `GrLivArea` as the feature matrix and apply `MinMaxScaler` to it. \n",
    "\n",
    "- Expected inputs: None.\n",
    "- Expected outputs: `ndarray`."
   ]
  },
  {
   "cell_type": "code",
   "execution_count": 6,
   "metadata": {},
   "outputs": [],
   "source": [
    "def get_min_max_scaled_gr_liv_area() -> np.ndarray:\n",
    "    \"\"\"\n",
    "    >>> min_max_scaled_gr_liv_area = get_min_max_scaled_gr_liv_area()\n",
    "    >>> type(min_max_scaled_gr_liv_area)\n",
    "    'numpy.ndarray'\n",
    "    >>> min_max_scaled_gr_liv_area.shape\n",
    "    (1460, 1)\n",
    "    >>> min_max_scaled_gr_liv_area[:5]\n",
    "    array([[0.25923135],\n",
    "           [0.17483044],\n",
    "           [0.27354936],\n",
    "           [0.26055011],\n",
    "           [0.35116805]])\n",
    "    >>> min_max_scaled_gr_liv_area.max()\n",
    "    1.0\n",
    "    >>> min_max_scaled_gr_liv_area.min()\n",
    "    0.0\n",
    "    \"\"\"\n",
    "    ### BEGIN SOLUTION\n",
    "    \n",
    "    ### END SOLUTION"
   ]
  },
  {
   "cell_type": "markdown",
   "metadata": {},
   "source": [
    "## 05. Given `/home/jovyan/data/house-prices/train.csv`, extract `GrLivArea` as the feature matrix and apply `PolynomialFeatures` to it with a hyperparameter `degree=3` adding intercepts, linear, and non-linear attributes to the feature matrix. \n",
    "\n",
    "- Expected inputs: None.\n",
    "- Expected outputs: `ndarray`."
   ]
  },
  {
   "cell_type": "code",
   "execution_count": 7,
   "metadata": {},
   "outputs": [],
   "source": [
    "def get_polynomial_gr_liv_area() -> np.ndarray:\n",
    "    \"\"\"\n",
    "    >>> polynomial_gr_liv_area = get_polynomial_gr_liv_area()\n",
    "    >>> type(polynomial_gr_liv_area)\n",
    "    'numpy.ndarray'\n",
    "    >>> polynomial_gr_liv_area.shape\n",
    "    (1460, 4)\n",
    "    >>> polynomial_gr_liv_area[:5]\n",
    "    array([[1.00000000e+00, 1.71000000e+03, 2.92410000e+06, 5.00021100e+09],\n",
    "           [1.00000000e+00, 1.26200000e+03, 1.59264400e+06, 2.00991673e+09],\n",
    "           [1.00000000e+00, 1.78600000e+03, 3.18979600e+06, 5.69697566e+09],\n",
    "           [1.00000000e+00, 1.71700000e+03, 2.94808900e+06, 5.06186881e+09],\n",
    "           [1.00000000e+00, 2.19800000e+03, 4.83120400e+06, 1.06189864e+10]])\n",
    "    \"\"\"\n",
    "    ### BEGIN SOLUTION\n",
    "    \n",
    "    ### END SOLUTION"
   ]
  }
 ],
 "metadata": {
  "kernelspec": {
   "display_name": "ML from Scratch",
   "language": "python",
   "name": "mlfromscratch"
  },
  "language_info": {
   "codemirror_mode": {
    "name": "ipython",
    "version": 3
   },
   "file_extension": ".py",
   "mimetype": "text/x-python",
   "name": "python",
   "nbconvert_exporter": "python",
   "pygments_lexer": "ipython3",
   "version": "3.8.12"
  }
 },
 "nbformat": 4,
 "nbformat_minor": 4
}
