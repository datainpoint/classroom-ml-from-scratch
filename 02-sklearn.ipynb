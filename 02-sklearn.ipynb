{
 "cells": [
  {
   "cell_type": "markdown",
   "metadata": {
    "slideshow": {
     "slide_type": "slide"
    }
   },
   "source": [
    "# Python 機器學習從零至一 \n",
    "\n",
    "> 以 Scikit-Learn 做機器學習\n",
    "\n",
    "[數據交點](https://www.datainpoint.com/) | 郭耀仁 <yaojenkuo@datainpoint.com>"
   ]
  },
  {
   "cell_type": "code",
   "execution_count": 1,
   "metadata": {
    "slideshow": {
     "slide_type": "subslide"
    }
   },
   "outputs": [],
   "source": [
    "import numpy as np\n",
    "import pandas as pd\n",
    "import matplotlib.pyplot as plt\n",
    "from sklearn.preprocessing import PolynomialFeatures\n",
    "from sklearn.preprocessing import StandardScaler\n",
    "from sklearn.linear_model import LinearRegression\n",
    "from sklearn.linear_model import Ridge\n",
    "from sklearn.linear_model import LogisticRegression\n",
    "from sklearn.svm import SVC\n",
    "from sklearn.pipeline import Pipeline\n",
    "from sklearn.model_selection import train_test_split\n",
    "from sklearn.metrics import mean_squared_error\n",
    "from sklearn.metrics import accuracy_score\n",
    "from xgboost import XGBRegressor\n",
    "from xgboost import XGBClassifier"
   ]
  },
  {
   "cell_type": "markdown",
   "metadata": {
    "slideshow": {
     "slide_type": "slide"
    }
   },
   "source": [
    "## 關於 Scikit-Learn"
   ]
  },
  {
   "cell_type": "markdown",
   "metadata": {
    "slideshow": {
     "slide_type": "subslide"
    }
   },
   "source": [
    "## 什麼是 Scikit-Learn?\n",
    "\n",
    "> Scikit-learn 是開源的機器學習模組，透過它可以進行監督式以及非監督式學習，它提供了模型配適、資料預處理、模型選擇以及模型評估等功能。\n",
    "\n",
    "來源：<https://scikit-learn.org>"
   ]
  },
  {
   "cell_type": "markdown",
   "metadata": {
    "slideshow": {
     "slide_type": "subslide"
    }
   },
   "source": [
    "## 以 `import` 指令載入 `sklearn`"
   ]
  },
  {
   "cell_type": "code",
   "execution_count": 2,
   "metadata": {},
   "outputs": [],
   "source": [
    "import sklearn"
   ]
  },
  {
   "cell_type": "markdown",
   "metadata": {
    "slideshow": {
     "slide_type": "subslide"
    }
   },
   "source": [
    "## 如果環境中沒有安裝 Scikit-Learn，載入時會遭遇 `ModuleNotFoundError`\n",
    "\n",
    "```\n",
    "Traceback (most recent call last):\n",
    "  File \"<stdin>\", line 1, in <module>\n",
    "ModuleNotFoundError: No module named 'sklearn'\n",
    "```"
   ]
  },
  {
   "cell_type": "markdown",
   "metadata": {
    "slideshow": {
     "slide_type": "subslide"
    }
   },
   "source": [
    "## 如果遭遇 ModuleNotFoundError 可以在終端機使用 `pip install` 指令安裝\n",
    "\n",
    "```bash\n",
    "pip install scikit-learn\n",
    "```"
   ]
  },
  {
   "cell_type": "markdown",
   "metadata": {
    "slideshow": {
     "slide_type": "subslide"
    }
   },
   "source": [
    "## 可以透過兩個屬性檢查版本號與安裝路徑\n",
    "\n",
    "- `__version__` 屬性檢查版本號。\n",
    "- `__file__` 屬性檢查安裝路徑。"
   ]
  },
  {
   "cell_type": "code",
   "execution_count": 3,
   "metadata": {},
   "outputs": [
    {
     "name": "stdout",
     "output_type": "stream",
     "text": [
      "0.24.2\n",
      "/Users/kuoyaojen/opt/miniconda3/envs/pyds/lib/python3.8/site-packages/sklearn/__init__.py\n"
     ]
    }
   ],
   "source": [
    "print(sklearn.__version__)\n",
    "print(sklearn.__file__)"
   ]
  },
  {
   "cell_type": "markdown",
   "metadata": {
    "slideshow": {
     "slide_type": "subslide"
    }
   },
   "source": [
    "## 我們通常使用 Scikit-Learn 特定類別或函數，因此多數的時候我們以 `from sklearn import FUNCTIONALITY` 載入指定的功能，而非 `import sklearn`"
   ]
  },
  {
   "cell_type": "markdown",
   "metadata": {
    "slideshow": {
     "slide_type": "subslide"
    }
   },
   "source": [
    "## 為什麼選擇 Scikit-Learn？\n",
    "\n",
    "Scikit-Learn 有著簡潔、一致且設計良善的應用程式介面設計，它的文件撰寫得相當完整而豐富，使用 Scikit-Learn 最大的好處在於它一致的應用程式介面，這讓使用者只要理解基礎用法和語法，就能延伸切換到其他的演算法或模型。"
   ]
  },
  {
   "cell_type": "markdown",
   "metadata": {
    "slideshow": {
     "slide_type": "subslide"
    }
   },
   "source": [
    "## Scikit-Learn 應用程式介面設計原則\n",
    "\n",
    "- 一致性。\n",
    "- 可檢查性。\n",
    "- 不擴增新類別。\n",
    "- 可組合性。\n",
    "- 合理預設超參數。"
   ]
  },
  {
   "cell_type": "markdown",
   "metadata": {
    "slideshow": {
     "slide_type": "slide"
    }
   },
   "source": [
    "## Scikit-Learn 起步走"
   ]
  },
  {
   "cell_type": "markdown",
   "metadata": {
    "slideshow": {
     "slide_type": "subslide"
    }
   },
   "source": [
    "## Scikit-Learn 的資料表達與機器學習一致\n",
    "\n",
    "- 外型 $(m, n)$ 的特徵矩陣 $X$。\n",
    "- 外型 $(m,)$ 或 $(m, 1)$ 的目標向量 $y$（或 $Y$）。"
   ]
  },
  {
   "cell_type": "code",
   "execution_count": 4,
   "metadata": {
    "slideshow": {
     "slide_type": "skip"
    }
   },
   "outputs": [],
   "source": [
    "def plot_X_y():\n",
    "    fig = plt.figure(figsize=(6, 4))\n",
    "    ax = fig.add_axes([0, 0, 1, 1])\n",
    "    ax.axis('off')\n",
    "    ax.axis('equal')\n",
    "    # Draw features matrix\n",
    "    ax.vlines(range(6), ymin=0, ymax=9, lw=1)\n",
    "    ax.hlines(range(10), xmin=0, xmax=5, lw=1)\n",
    "    font_prop = dict(size=12, family='monospace')\n",
    "    ax.text(-1, -1, \"Feature Matrix ($X$)\", size=14)\n",
    "    ax.text(0.1, -0.3, r'n_features $\\longrightarrow$', **font_prop)\n",
    "    ax.text(-0.1, 0.1, r'$\\longleftarrow$ m_samples', rotation=90,\n",
    "            va='top', ha='right', **font_prop)\n",
    "    # Draw labels vector\n",
    "    ax.vlines(range(8, 10), ymin=0, ymax=9, lw=1)\n",
    "    ax.hlines(range(10), xmin=8, xmax=9, lw=1)\n",
    "    ax.text(7, -1, \"Target Vector ($y$)\", size=14)\n",
    "    ax.text(7.9, 0.1, r'$\\longleftarrow$ m_samples', rotation=90,\n",
    "            va='top', ha='right', **font_prop)\n",
    "    ax.set_ylim(10, -2)\n",
    "    plt.show()"
   ]
  },
  {
   "cell_type": "code",
   "execution_count": 5,
   "metadata": {
    "slideshow": {
     "slide_type": "subslide"
    }
   },
   "outputs": [
    {
     "data": {
      "image/png": "[encoded data removed]",
      "text/plain": [
       "<Figure size 432x288 with 1 Axes>"
      ]
     },
     "metadata": {
      "needs_background": "light"
     },
     "output_type": "display_data"
    }
   ],
   "source": [
    "# 來源：<https://jakevdp.github.io/PythonDataScienceHandbook>\n",
    "plot_X_y()"
   ]
  },
  {
   "cell_type": "markdown",
   "metadata": {
    "slideshow": {
     "slide_type": "subslide"
    }
   },
   "source": [
    "## 如何從資料框中取出特徵矩陣與目標向量"
   ]
  },
  {
   "cell_type": "code",
   "execution_count": 6,
   "metadata": {},
   "outputs": [
    {
     "name": "stdout",
     "output_type": "stream",
     "text": [
      "<class 'pandas.core.frame.DataFrame'>\n",
      "(503, 50)\n"
     ]
    }
   ],
   "source": [
    "csv_url = \"https://raw.githubusercontent.com/yaojenkuo/ml-newbies/master/player_stats.csv\"\n",
    "player_stats = pd.read_csv(csv_url)\n",
    "print(type(player_stats))\n",
    "print(player_stats.shape)"
   ]
  },
  {
   "cell_type": "code",
   "execution_count": 7,
   "metadata": {
    "slideshow": {
     "slide_type": "subslide"
    }
   },
   "outputs": [
    {
     "data": {
      "text/html": [
       "<div>\n",
       "<style scoped>\n",
       "    .dataframe tbody tr th:only-of-type {\n",
       "        vertical-align: middle;\n",
       "    }\n",
       "\n",
       "    .dataframe tbody tr th {\n",
       "        vertical-align: top;\n",
       "    }\n",
       "\n",
       "    .dataframe thead th {\n",
       "        text-align: right;\n",
       "    }\n",
       "</style>\n",
       "<table border=\"1\" class=\"dataframe\">\n",
       "  <thead>\n",
       "    <tr style=\"text-align: right;\">\n",
       "      <th></th>\n",
       "      <th>firstName</th>\n",
       "      <th>lastName</th>\n",
       "      <th>temporaryDisplayName</th>\n",
       "      <th>personId</th>\n",
       "      <th>teamId</th>\n",
       "      <th>jersey</th>\n",
       "      <th>isActive</th>\n",
       "      <th>pos</th>\n",
       "      <th>heightFeet</th>\n",
       "      <th>heightInches</th>\n",
       "      <th>...</th>\n",
       "      <th>ftm</th>\n",
       "      <th>fta</th>\n",
       "      <th>pFouls</th>\n",
       "      <th>points</th>\n",
       "      <th>gamesPlayed</th>\n",
       "      <th>gamesStarted</th>\n",
       "      <th>plusMinus</th>\n",
       "      <th>min</th>\n",
       "      <th>dd2</th>\n",
       "      <th>td3</th>\n",
       "    </tr>\n",
       "  </thead>\n",
       "  <tbody>\n",
       "    <tr>\n",
       "      <th>0</th>\n",
       "      <td>Precious</td>\n",
       "      <td>Achiuwa</td>\n",
       "      <td>Achiuwa, Precious</td>\n",
       "      <td>1630173</td>\n",
       "      <td>1610612748</td>\n",
       "      <td>5.0</td>\n",
       "      <td>True</td>\n",
       "      <td>F</td>\n",
       "      <td>6</td>\n",
       "      <td>8</td>\n",
       "      <td>...</td>\n",
       "      <td>56.0</td>\n",
       "      <td>110.0</td>\n",
       "      <td>91.0</td>\n",
       "      <td>304.0</td>\n",
       "      <td>61.0</td>\n",
       "      <td>4.0</td>\n",
       "      <td>-116.0</td>\n",
       "      <td>737.0</td>\n",
       "      <td>3.0</td>\n",
       "      <td>0.0</td>\n",
       "    </tr>\n",
       "    <tr>\n",
       "      <th>1</th>\n",
       "      <td>Steven</td>\n",
       "      <td>Adams</td>\n",
       "      <td>Adams, Steven</td>\n",
       "      <td>203500</td>\n",
       "      <td>1610612740</td>\n",
       "      <td>12.0</td>\n",
       "      <td>True</td>\n",
       "      <td>C</td>\n",
       "      <td>6</td>\n",
       "      <td>11</td>\n",
       "      <td>...</td>\n",
       "      <td>936.0</td>\n",
       "      <td>1708.0</td>\n",
       "      <td>1497.0</td>\n",
       "      <td>5629.0</td>\n",
       "      <td>588.0</td>\n",
       "      <td>524.0</td>\n",
       "      <td>1638.0</td>\n",
       "      <td>15812.0</td>\n",
       "      <td>125.0</td>\n",
       "      <td>1.0</td>\n",
       "    </tr>\n",
       "    <tr>\n",
       "      <th>2</th>\n",
       "      <td>Bam</td>\n",
       "      <td>Adebayo</td>\n",
       "      <td>Adebayo, Bam</td>\n",
       "      <td>1628389</td>\n",
       "      <td>1610612748</td>\n",
       "      <td>13.0</td>\n",
       "      <td>True</td>\n",
       "      <td>C-F</td>\n",
       "      <td>6</td>\n",
       "      <td>9</td>\n",
       "      <td>...</td>\n",
       "      <td>842.0</td>\n",
       "      <td>1141.0</td>\n",
       "      <td>668.0</td>\n",
       "      <td>3549.0</td>\n",
       "      <td>287.0</td>\n",
       "      <td>183.0</td>\n",
       "      <td>258.0</td>\n",
       "      <td>7840.0</td>\n",
       "      <td>91.0</td>\n",
       "      <td>5.0</td>\n",
       "    </tr>\n",
       "    <tr>\n",
       "      <th>3</th>\n",
       "      <td>Ty-Shon</td>\n",
       "      <td>Alexander</td>\n",
       "      <td>Alexander, Ty-Shon</td>\n",
       "      <td>1630234</td>\n",
       "      <td>1610612756</td>\n",
       "      <td>0.0</td>\n",
       "      <td>True</td>\n",
       "      <td>G</td>\n",
       "      <td>6</td>\n",
       "      <td>3</td>\n",
       "      <td>...</td>\n",
       "      <td>1.0</td>\n",
       "      <td>2.0</td>\n",
       "      <td>2.0</td>\n",
       "      <td>9.0</td>\n",
       "      <td>15.0</td>\n",
       "      <td>0.0</td>\n",
       "      <td>-8.0</td>\n",
       "      <td>47.0</td>\n",
       "      <td>0.0</td>\n",
       "      <td>0.0</td>\n",
       "    </tr>\n",
       "    <tr>\n",
       "      <th>4</th>\n",
       "      <td>Nickeil</td>\n",
       "      <td>Alexander-Walker</td>\n",
       "      <td>Alexander-Walker, Nickeil</td>\n",
       "      <td>1629638</td>\n",
       "      <td>1610612740</td>\n",
       "      <td>6.0</td>\n",
       "      <td>True</td>\n",
       "      <td>G</td>\n",
       "      <td>6</td>\n",
       "      <td>6</td>\n",
       "      <td>...</td>\n",
       "      <td>73.0</td>\n",
       "      <td>103.0</td>\n",
       "      <td>145.0</td>\n",
       "      <td>775.0</td>\n",
       "      <td>93.0</td>\n",
       "      <td>14.0</td>\n",
       "      <td>-105.0</td>\n",
       "      <td>1597.0</td>\n",
       "      <td>0.0</td>\n",
       "      <td>0.0</td>\n",
       "    </tr>\n",
       "  </tbody>\n",
       "</table>\n",
       "<p>5 rows × 50 columns</p>\n",
       "</div>"
      ],
      "text/plain": [
       "  firstName          lastName       temporaryDisplayName  personId  \\\n",
       "0  Precious           Achiuwa          Achiuwa, Precious   1630173   \n",
       "1    Steven             Adams              Adams, Steven    203500   \n",
       "2       Bam           Adebayo               Adebayo, Bam   1628389   \n",
       "3   Ty-Shon         Alexander         Alexander, Ty-Shon   1630234   \n",
       "4   Nickeil  Alexander-Walker  Alexander-Walker, Nickeil   1629638   \n",
       "\n",
       "       teamId  jersey  isActive  pos  heightFeet  heightInches  ...    ftm  \\\n",
       "0  1610612748     5.0      True    F           6             8  ...   56.0   \n",
       "1  1610612740    12.0      True    C           6            11  ...  936.0   \n",
       "2  1610612748    13.0      True  C-F           6             9  ...  842.0   \n",
       "3  1610612756     0.0      True    G           6             3  ...    1.0   \n",
       "4  1610612740     6.0      True    G           6             6  ...   73.0   \n",
       "\n",
       "      fta  pFouls  points  gamesPlayed  gamesStarted plusMinus      min  \\\n",
       "0   110.0    91.0   304.0         61.0           4.0    -116.0    737.0   \n",
       "1  1708.0  1497.0  5629.0        588.0         524.0    1638.0  15812.0   \n",
       "2  1141.0   668.0  3549.0        287.0         183.0     258.0   7840.0   \n",
       "3     2.0     2.0     9.0         15.0           0.0      -8.0     47.0   \n",
       "4   103.0   145.0   775.0         93.0          14.0    -105.0   1597.0   \n",
       "\n",
       "     dd2  td3  \n",
       "0    3.0  0.0  \n",
       "1  125.0  1.0  \n",
       "2   91.0  5.0  \n",
       "3    0.0  0.0  \n",
       "4    0.0  0.0  \n",
       "\n",
       "[5 rows x 50 columns]"
      ]
     },
     "execution_count": 7,
     "metadata": {},
     "output_type": "execute_result"
    }
   ],
   "source": [
    "player_stats.head()"
   ]
  },
  {
   "cell_type": "code",
   "execution_count": 8,
   "metadata": {
    "slideshow": {
     "slide_type": "subslide"
    }
   },
   "outputs": [
    {
     "name": "stdout",
     "output_type": "stream",
     "text": [
      "(503, 2)\n",
      "(503,)\n"
     ]
    }
   ],
   "source": [
    "X = player_stats[['apg', 'rpg']].values\n",
    "y = player_stats['pos'].values\n",
    "print(X.shape)\n",
    "print(y.shape)"
   ]
  },
  {
   "cell_type": "code",
   "execution_count": 9,
   "metadata": {
    "slideshow": {
     "slide_type": "subslide"
    }
   },
   "outputs": [
    {
     "name": "stdout",
     "output_type": "stream",
     "text": [
      "(503, 1)\n",
      "(503,)\n"
     ]
    }
   ],
   "source": [
    "X = player_stats['heightMeters'].values.reshape(-1, 1)\n",
    "y = player_stats['weightKilograms'].values\n",
    "print(X.shape)\n",
    "print(y.shape)"
   ]
  },
  {
   "cell_type": "markdown",
   "metadata": {
    "slideshow": {
     "slide_type": "slide"
    }
   },
   "source": [
    "## Scikit-Learn 估計器"
   ]
  },
  {
   "cell_type": "markdown",
   "metadata": {
    "slideshow": {
     "slide_type": "subslide"
    }
   },
   "source": [
    "## 估計器（Estimators）是 Scikit-Learn 創造的重要類別"
   ]
  },
  {
   "cell_type": "markdown",
   "metadata": {
    "slideshow": {
     "slide_type": "subslide"
    }
   },
   "source": [
    "## 兩種估計器\n",
    "\n",
    "1. 轉換器（Transformers）：用來預處理資料。\n",
    "2. 預測器（Predictors）：用來訓練資料、生成規則 $w$。"
   ]
  },
  {
   "cell_type": "markdown",
   "metadata": {
    "slideshow": {
     "slide_type": "subslide"
    }
   },
   "source": [
    "## 複習：Scikit-Learn 應用程式介面設計原則\n",
    "\n",
    "- 一致性。\n",
    "- 可檢查性。\n",
    "- 不擴增新類別。\n",
    "- 可組合性。\n",
    "- 合理預設超參數。"
   ]
  },
  {
   "cell_type": "markdown",
   "metadata": {
    "slideshow": {
     "slide_type": "subslide"
    }
   },
   "source": [
    "## 合理預設超參數原則\n",
    "\n",
    "每個估計器類別都可以用預設超參數實例化為物件。"
   ]
  },
  {
   "cell_type": "code",
   "execution_count": 10,
   "metadata": {
    "slideshow": {
     "slide_type": "subslide"
    }
   },
   "outputs": [],
   "source": [
    "# Two transformers\n",
    "poly = PolynomialFeatures()\n",
    "ss = StandardScaler()"
   ]
  },
  {
   "cell_type": "code",
   "execution_count": 11,
   "metadata": {
    "slideshow": {
     "slide_type": "subslide"
    }
   },
   "outputs": [],
   "source": [
    "# Two predictors\n",
    "lr = LinearRegression()\n",
    "ridge = Ridge()"
   ]
  },
  {
   "cell_type": "markdown",
   "metadata": {
    "slideshow": {
     "slide_type": "subslide"
    }
   },
   "source": [
    "## 一致性原則\n",
    "\n",
    "- 每個轉換器類別實例化的物件都有 `fit_transform()` 方法。\n",
    "- 每個預測器類別實例化的物件都有 `fit()` 與 `predict()` 方法。"
   ]
  },
  {
   "cell_type": "code",
   "execution_count": 12,
   "metadata": {
    "slideshow": {
     "slide_type": "subslide"
    }
   },
   "outputs": [],
   "source": [
    "# Two transformers\n",
    "X_poly = poly.fit_transform(X)\n",
    "X_ss = ss.fit_transform(X)"
   ]
  },
  {
   "cell_type": "code",
   "execution_count": 13,
   "metadata": {
    "slideshow": {
     "slide_type": "subslide"
    }
   },
   "outputs": [
    {
     "data": {
      "text/plain": [
       "Ridge()"
      ]
     },
     "execution_count": 13,
     "metadata": {},
     "output_type": "execute_result"
    }
   ],
   "source": [
    "# Two predictors\n",
    "lr.fit(X, y)\n",
    "ridge.fit(X, y)"
   ]
  },
  {
   "cell_type": "markdown",
   "metadata": {
    "slideshow": {
     "slide_type": "subslide"
    }
   },
   "source": [
    "## 可檢查性原則\n",
    "\n",
    "每個估計器類別實例化的物件都有屬性或方法讓使用者檢視轉換與預測的規則。"
   ]
  },
  {
   "cell_type": "code",
   "execution_count": 14,
   "metadata": {
    "slideshow": {
     "slide_type": "subslide"
    }
   },
   "outputs": [
    {
     "name": "stdout",
     "output_type": "stream",
     "text": [
      "{'degree': 2, 'include_bias': True, 'interaction_only': False, 'order': 'C'}\n",
      "[1.9887674]\n",
      "[0.08491413]\n"
     ]
    }
   ],
   "source": [
    "# Two transformers\n",
    "print(poly.get_params())\n",
    "print(ss.mean_)\n",
    "print(ss.scale_)"
   ]
  },
  {
   "cell_type": "code",
   "execution_count": 15,
   "metadata": {
    "slideshow": {
     "slide_type": "subslide"
    }
   },
   "outputs": [
    {
     "name": "stdout",
     "output_type": "stream",
     "text": [
      "-103.98696452290916\n",
      "[101.73033754]\n",
      "1.0\n"
     ]
    }
   ],
   "source": [
    "# Two predictors\n",
    "print(lr.intercept_)\n",
    "print(lr.coef_)\n",
    "print(ridge.alpha)"
   ]
  },
  {
   "cell_type": "markdown",
   "metadata": {
    "slideshow": {
     "slide_type": "subslide"
    }
   },
   "source": [
    "## 不擴增新類別原則\n",
    "\n",
    "預測器訓練完成之後，其 `intercept_` 屬性是 `np.float64`、 `coef_` 屬性則是 `ndarray`。"
   ]
  },
  {
   "cell_type": "code",
   "execution_count": 16,
   "metadata": {},
   "outputs": [
    {
     "name": "stdout",
     "output_type": "stream",
     "text": [
      "<class 'numpy.float64'>\n",
      "<class 'numpy.ndarray'>\n"
     ]
    }
   ],
   "source": [
    "print(type(lr.intercept_))\n",
    "print(type(lr.coef_))"
   ]
  },
  {
   "cell_type": "markdown",
   "metadata": {
    "slideshow": {
     "slide_type": "subslide"
    }
   },
   "source": [
    "## 可組合性原則\n",
    "\n",
    "可以將 `ss` 轉換器與 `lr` 預測器組裝起來成為一個管線（Pipeline）類別。"
   ]
  },
  {
   "cell_type": "code",
   "execution_count": 17,
   "metadata": {
    "slideshow": {
     "slide_type": "-"
    }
   },
   "outputs": [
    {
     "name": "stdout",
     "output_type": "stream",
     "text": [
      "<class 'sklearn.pipeline.Pipeline'>\n"
     ]
    }
   ],
   "source": [
    "pipeline = Pipeline([('scaler', ss), ('lr', lr)])\n",
    "print(type(pipeline))"
   ]
  },
  {
   "cell_type": "markdown",
   "metadata": {
    "slideshow": {
     "slide_type": "subslide"
    }
   },
   "source": [
    "## 使用 Scikit-Learn 估計器的標準步驟\n",
    "\n",
    "1. 準備特徵矩陣 $X$ 與目標向量 $y$。\n",
    "2. 切割訓練與驗證資料集。\n",
    "3. 初始化估計器。\n",
    "4. 訓練、配適並檢查規則。\n",
    "5. 在驗證資料集評估。"
   ]
  },
  {
   "cell_type": "markdown",
   "metadata": {
    "slideshow": {
     "slide_type": "slide"
    }
   },
   "source": [
    "## 訓練、驗證與測試資料"
   ]
  },
  {
   "cell_type": "markdown",
   "metadata": {
    "slideshow": {
     "slide_type": "subslide"
    }
   },
   "source": [
    "## 什麼是訓練資料（Training data）\n",
    "\n",
    "- 具有實際值或標籤的已實現歷史資料。\n",
    "- 作用是讓機器學習演算法在尋找 $h$ 函數。\n",
    "- 就像求學時課本中附有詳解的練習題一般，訓練我們對一個觀念的暸解。"
   ]
  },
  {
   "cell_type": "markdown",
   "metadata": {
    "slideshow": {
     "slide_type": "subslide"
    }
   },
   "source": [
    "## 什麼是驗證資料（Validation data）\n",
    "\n",
    "- 同樣是具有實際值或標籤的已實現歷史資料，但是在使用上偽裝成不具有實際值或標籤的待預測資料。\n",
    "- 作用是在把 $h$ 函數拿去面對未知資料之前，就能夠對其可能表現心底有數。\n",
    "- 就像求學時參加模擬考試一般，過程中就像真的參加考試一般，但是之後馬上有解答可以參考。"
   ]
  },
  {
   "cell_type": "markdown",
   "metadata": {
    "slideshow": {
     "slide_type": "subslide"
    }
   },
   "source": [
    "## 什麼是測試資料（Test data）\n",
    "\n",
    "- 是不具有實際值或標籤的待預測資料。\n",
    "- 作為訓練完成的 $h$ 函數之輸入資料，達成資料預測目的。\n",
    "- 就像求學時參加的大型考試一般。"
   ]
  },
  {
   "cell_type": "markdown",
   "metadata": {
    "slideshow": {
     "slide_type": "subslide"
    }
   },
   "source": [
    "## 以 [Kaggle](https://www.kaggle.com/) 網站的資料為例\n",
    "\n",
    "- `train.csv` 分割為訓練與驗證資料。\n",
    "- 待預測資料 `test.csv` 即為測試資料。\n",
    "- 兩個資料的維度差別就是目標向量 $y$。"
   ]
  },
  {
   "cell_type": "markdown",
   "metadata": {
    "slideshow": {
     "slide_type": "subslide"
    }
   },
   "source": [
    "## [Titanic - Machine Learning from Disaster](https://www.kaggle.com/c/titanic)"
   ]
  },
  {
   "cell_type": "code",
   "execution_count": 18,
   "metadata": {},
   "outputs": [
    {
     "data": {
      "text/plain": [
       "Index(['Survived'], dtype='object')"
      ]
     },
     "execution_count": 18,
     "metadata": {},
     "output_type": "execute_result"
    }
   ],
   "source": [
    "file_path = \"data/titanic/{}\"\n",
    "train = pd.read_csv(file_path.format(\"train.csv\"))\n",
    "test = pd.read_csv(file_path.format(\"test.csv\"))\n",
    "train_columns = train.columns\n",
    "test_columns = test.columns\n",
    "train_columns.difference(test_columns)"
   ]
  },
  {
   "cell_type": "markdown",
   "metadata": {
    "slideshow": {
     "slide_type": "subslide"
    }
   },
   "source": [
    "## [House Prices - Advanced Regression Techniques](https://www.kaggle.com/c/house-prices-advanced-regression-techniques)"
   ]
  },
  {
   "cell_type": "code",
   "execution_count": 19,
   "metadata": {},
   "outputs": [
    {
     "data": {
      "text/plain": [
       "Index(['SalePrice'], dtype='object')"
      ]
     },
     "execution_count": 19,
     "metadata": {},
     "output_type": "execute_result"
    }
   ],
   "source": [
    "file_path = \"data/house-prices/{}\"\n",
    "train = pd.read_csv(file_path.format(\"train.csv\"))\n",
    "test = pd.read_csv(file_path.format(\"test.csv\"))\n",
    "train_columns = train.columns\n",
    "test_columns = test.columns\n",
    "train_columns.difference(test_columns)"
   ]
  },
  {
   "cell_type": "markdown",
   "metadata": {
    "slideshow": {
     "slide_type": "subslide"
    }
   },
   "source": [
    "## 使用 `train_test_split()` 函數可以分割為訓練與驗證資料\n",
    "\n",
    "- 常見的訓練對驗證比例 `6:4` 到 `9:1` 不等。\n",
    "- 原則是訓練資料筆數應該大過於驗證資料筆數，透過 `test_size` 參數來設定驗證資料的比例。"
   ]
  },
  {
   "cell_type": "code",
   "execution_count": 20,
   "metadata": {
    "slideshow": {
     "slide_type": "subslide"
    }
   },
   "outputs": [
    {
     "name": "stdout",
     "output_type": "stream",
     "text": [
      "(1460, 1)\n",
      "(1022, 1)\n",
      "(438, 1)\n"
     ]
    }
   ],
   "source": [
    "X = train[[\"GrLivArea\"]].values\n",
    "y = train[\"SalePrice\"].values\n",
    "X_train, X_valid = train_test_split(X, test_size=0.3)\n",
    "print(X.shape)\n",
    "print(X_train.shape)\n",
    "print(X_valid.shape)"
   ]
  },
  {
   "cell_type": "code",
   "execution_count": 21,
   "metadata": {
    "slideshow": {
     "slide_type": "subslide"
    }
   },
   "outputs": [
    {
     "name": "stdout",
     "output_type": "stream",
     "text": [
      "(1460, 1)\n",
      "(1460,)\n",
      "(1022, 1)\n",
      "(438, 1)\n",
      "(1022,)\n",
      "(438,)\n"
     ]
    }
   ],
   "source": [
    "X_train, X_valid, y_train, y_valid = train_test_split(X, y, test_size=0.3)\n",
    "print(X.shape)\n",
    "print(y.shape)\n",
    "print(X_train.shape)\n",
    "print(X_valid.shape)\n",
    "print(y_train.shape)\n",
    "print(y_valid.shape)"
   ]
  },
  {
   "cell_type": "markdown",
   "metadata": {
    "slideshow": {
     "slide_type": "subslide"
    }
   },
   "source": [
    "## 分割訓練與驗證資料的兩個步驟\n",
    "\n",
    "1. 觀測值的隨機排序，像是玩撲克牌時的洗牌（Shuffle），避免 $h$ 函數的配適受到資料本來的排序樣態影響。\n",
    "2. 依據 `test_size` 參數將資料水平分割。"
   ]
  },
  {
   "cell_type": "code",
   "execution_count": 22,
   "metadata": {
    "slideshow": {
     "slide_type": "subslide"
    }
   },
   "outputs": [],
   "source": [
    "def trainTestSplit(X_arr: np.array, y_arr: np.array, test_size: float, random_state: int=0) -> tuple:\n",
    "    np.random.seed(random_state)\n",
    "    np.random.shuffle(X_arr)\n",
    "    np.random.seed(random_state)\n",
    "    np.random.shuffle(y_arr)\n",
    "    m = X_arr.shape[0]\n",
    "    split_threshold = int(np.ceil(m * test_size))\n",
    "    X_arr_valid, X_arr_train = np.split(X_arr, [split_threshold])\n",
    "    y_arr_valid, y_arr_train = np.split(y_arr, [split_threshold])\n",
    "    return X_arr_train, X_arr_valid, y_arr_train, y_arr_valid"
   ]
  },
  {
   "cell_type": "code",
   "execution_count": 23,
   "metadata": {
    "slideshow": {
     "slide_type": "subslide"
    }
   },
   "outputs": [
    {
     "name": "stdout",
     "output_type": "stream",
     "text": [
      "(1460, 1)\n",
      "(1460,)\n",
      "(1022, 1)\n",
      "(438, 1)\n",
      "(1022,)\n",
      "(438,)\n"
     ]
    }
   ],
   "source": [
    "X_train, X_valid, y_train, y_valid = trainTestSplit(X, y, test_size=0.3)\n",
    "print(X.shape)\n",
    "print(y.shape)\n",
    "print(X_train.shape)\n",
    "print(X_valid.shape)\n",
    "print(y_train.shape)\n",
    "print(y_valid.shape)"
   ]
  },
  {
   "cell_type": "markdown",
   "metadata": {
    "slideshow": {
     "slide_type": "slide"
    }
   },
   "source": [
    "## 使用估計器的標準步驟"
   ]
  },
  {
   "cell_type": "markdown",
   "metadata": {
    "slideshow": {
     "slide_type": "subslide"
    }
   },
   "source": [
    "## 複習：Scikit-Learn 估計器的標準步驟\n",
    "\n",
    "1. 準備特徵矩陣 $X$ 與目標向量 $y$。\n",
    "2. 切割訓練與驗證資料集。\n",
    "3. 初始化估計器。\n",
    "4. 訓練、配適並檢查規則。\n",
    "5. 在驗證資料集評估。"
   ]
  },
  {
   "cell_type": "markdown",
   "metadata": {
    "slideshow": {
     "slide_type": "subslide"
    }
   },
   "source": [
    "## 不同的任務\n",
    "\n",
    "- 預測數值。\n",
    "- 預測類別。"
   ]
  },
  {
   "cell_type": "markdown",
   "metadata": {
    "slideshow": {
     "slide_type": "subslide"
    }
   },
   "source": [
    "## 預測數值：NBA 球員的體重"
   ]
  },
  {
   "cell_type": "markdown",
   "metadata": {
    "slideshow": {
     "slide_type": "subslide"
    }
   },
   "source": [
    "## 準備特徵矩陣 $X$ 與目標向量 $y$"
   ]
  },
  {
   "cell_type": "code",
   "execution_count": 24,
   "metadata": {
    "slideshow": {
     "slide_type": "-"
    }
   },
   "outputs": [
    {
     "name": "stdout",
     "output_type": "stream",
     "text": [
      "(503, 3)\n",
      "(503,)\n"
     ]
    }
   ],
   "source": [
    "csv_url = \"https://raw.githubusercontent.com/yaojenkuo/ml-newbies/master/player_stats.csv\"\n",
    "player_stats = pd.read_csv(csv_url)\n",
    "X = player_stats[['heightMeters', 'apg', 'rpg']].values\n",
    "y = player_stats['weightKilograms'].values\n",
    "print(X.shape)\n",
    "print(y.shape)"
   ]
  },
  {
   "cell_type": "markdown",
   "metadata": {
    "slideshow": {
     "slide_type": "subslide"
    }
   },
   "source": [
    "## 切割訓練與驗證資料集"
   ]
  },
  {
   "cell_type": "code",
   "execution_count": 25,
   "metadata": {},
   "outputs": [
    {
     "name": "stdout",
     "output_type": "stream",
     "text": [
      "(402, 3)\n",
      "(101, 3)\n",
      "(402,)\n",
      "(101,)\n"
     ]
    }
   ],
   "source": [
    "X_train, X_valid, y_train, y_valid = train_test_split(X, y, test_size=0.2, random_state=42)\n",
    "print(X_train.shape)\n",
    "print(X_valid.shape)\n",
    "print(y_train.shape)\n",
    "print(y_valid.shape)"
   ]
  },
  {
   "cell_type": "markdown",
   "metadata": {
    "slideshow": {
     "slide_type": "subslide"
    }
   },
   "source": [
    "## 初始化估計器"
   ]
  },
  {
   "cell_type": "code",
   "execution_count": 26,
   "metadata": {},
   "outputs": [],
   "source": [
    "lr = LinearRegression()\n",
    "ridge = Ridge()"
   ]
  },
  {
   "cell_type": "markdown",
   "metadata": {
    "slideshow": {
     "slide_type": "subslide"
    }
   },
   "source": [
    "## 訓練、配適並檢查規則"
   ]
  },
  {
   "cell_type": "code",
   "execution_count": 27,
   "metadata": {},
   "outputs": [
    {
     "name": "stdout",
     "output_type": "stream",
     "text": [
      "[70.55073073 -1.03712458  1.61454939]\n",
      "[41.71730648 -1.79495279  2.2969704 ]\n"
     ]
    }
   ],
   "source": [
    "lr.fit(X_train, y_train)\n",
    "ridge.fit(X_train, y_train)\n",
    "print(lr.coef_)\n",
    "print(ridge.coef_)"
   ]
  },
  {
   "cell_type": "markdown",
   "metadata": {
    "slideshow": {
     "slide_type": "subslide"
    }
   },
   "source": [
    "## 在驗證資料集評估"
   ]
  },
  {
   "cell_type": "code",
   "execution_count": 28,
   "metadata": {},
   "outputs": [
    {
     "name": "stdout",
     "output_type": "stream",
     "text": [
      "53.63580742285261\n",
      "60.2499055659857\n"
     ]
    }
   ],
   "source": [
    "y_pred = lr.predict(X_valid)\n",
    "print(mean_squared_error(y_valid, y_pred))\n",
    "y_pred = ridge.predict(X_valid)\n",
    "print(mean_squared_error(y_valid, y_pred))"
   ]
  },
  {
   "cell_type": "markdown",
   "metadata": {
    "slideshow": {
     "slide_type": "subslide"
    }
   },
   "source": [
    "## 預測類別：NBA 球員的鋒衛位置"
   ]
  },
  {
   "cell_type": "markdown",
   "metadata": {
    "slideshow": {
     "slide_type": "subslide"
    }
   },
   "source": [
    "## 準備特徵矩陣 $X$ 與目標向量 $y$"
   ]
  },
  {
   "cell_type": "code",
   "execution_count": 29,
   "metadata": {},
   "outputs": [
    {
     "name": "stdout",
     "output_type": "stream",
     "text": [
      "(503, 3)\n",
      "(503,)\n"
     ]
    }
   ],
   "source": [
    "pos_dict = {\n",
    "    'G': 0,\n",
    "    'F': 1,\n",
    "    'C': 2\n",
    "}\n",
    "pos_recoded = player_stats['pos'].map(lambda x: x[0])\n",
    "pos_recoded_int = pos_recoded.map(pos_dict)\n",
    "X = player_stats[['heightMeters', 'apg', 'rpg']].values\n",
    "y = pos_recoded_int.values\n",
    "print(X.shape)\n",
    "print(y.shape)"
   ]
  },
  {
   "cell_type": "markdown",
   "metadata": {
    "slideshow": {
     "slide_type": "subslide"
    }
   },
   "source": [
    "## 切割訓練與驗證資料集"
   ]
  },
  {
   "cell_type": "code",
   "execution_count": 30,
   "metadata": {},
   "outputs": [
    {
     "name": "stdout",
     "output_type": "stream",
     "text": [
      "(402, 3)\n",
      "(101, 3)\n",
      "(402,)\n",
      "(101,)\n"
     ]
    }
   ],
   "source": [
    "X_train, X_valid, y_train, y_valid = train_test_split(X, y, test_size=0.2, random_state=42)\n",
    "print(X_train.shape)\n",
    "print(X_valid.shape)\n",
    "print(y_train.shape)\n",
    "print(y_valid.shape)"
   ]
  },
  {
   "cell_type": "markdown",
   "metadata": {
    "slideshow": {
     "slide_type": "subslide"
    }
   },
   "source": [
    "## 初始化估計器"
   ]
  },
  {
   "cell_type": "code",
   "execution_count": 31,
   "metadata": {},
   "outputs": [],
   "source": [
    "logreg = LogisticRegression()\n",
    "svc = SVC(kernel='linear', probability=True)"
   ]
  },
  {
   "cell_type": "markdown",
   "metadata": {
    "slideshow": {
     "slide_type": "subslide"
    }
   },
   "source": [
    "## 訓練、配適並檢查規則"
   ]
  },
  {
   "cell_type": "code",
   "execution_count": 32,
   "metadata": {},
   "outputs": [
    {
     "name": "stdout",
     "output_type": "stream",
     "text": [
      "[[-2.79855675  1.44081639 -1.11626655]\n",
      " [ 0.77311683 -0.181357    0.29423135]\n",
      " [ 2.02543992 -1.2594594   0.8220352 ]]\n",
      "[[-3.56870681  1.17220423 -1.02617682]\n",
      " [-2.28        1.07865176 -0.67415719]\n",
      " [-2.06        0.55268973 -0.26909661]]\n"
     ]
    }
   ],
   "source": [
    "logreg.fit(X_train, y_train)\n",
    "svc.fit(X_train, y_train)\n",
    "print(logreg.coef_)\n",
    "print(svc.coef_)"
   ]
  },
  {
   "cell_type": "code",
   "execution_count": 33,
   "metadata": {
    "slideshow": {
     "slide_type": "subslide"
    }
   },
   "outputs": [
    {
     "name": "stdout",
     "output_type": "stream",
     "text": [
      "[[3.28277259e-01 6.11285172e-01 6.04375685e-02]\n",
      " [1.58983789e-01 7.83373574e-01 5.76426368e-02]\n",
      " [9.63152975e-01 3.65027894e-02 3.44235186e-04]\n",
      " [1.11232339e-01 7.84153939e-01 1.04613722e-01]\n",
      " [1.79113159e-01 7.25169360e-01 9.57174807e-02]]\n",
      "[[0.30799636 0.63708457 0.05491907]\n",
      " [0.14723912 0.81636574 0.03639514]\n",
      " [0.95875794 0.03698834 0.00425372]\n",
      " [0.09609978 0.82165481 0.08224541]\n",
      " [0.16543966 0.76708982 0.06747052]]\n"
     ]
    }
   ],
   "source": [
    "print(logreg.predict_proba(X_valid)[:5, :])\n",
    "print(svc.predict_proba(X_valid)[:5, :])"
   ]
  },
  {
   "cell_type": "markdown",
   "metadata": {
    "slideshow": {
     "slide_type": "subslide"
    }
   },
   "source": [
    "## 在驗證資料集評估"
   ]
  },
  {
   "cell_type": "code",
   "execution_count": 34,
   "metadata": {},
   "outputs": [
    {
     "name": "stdout",
     "output_type": "stream",
     "text": [
      "0.7524752475247525\n",
      "0.7623762376237624\n"
     ]
    }
   ],
   "source": [
    "y_pred = logreg.predict(X_valid)\n",
    "print(accuracy_score(y_valid, y_pred))\n",
    "y_pred = svc.predict(X_valid)\n",
    "print(accuracy_score(y_valid, y_pred))"
   ]
  },
  {
   "cell_type": "markdown",
   "metadata": {
    "slideshow": {
     "slide_type": "slide"
    }
   },
   "source": [
    "## 延伸到其他機器學習框架"
   ]
  },
  {
   "cell_type": "markdown",
   "metadata": {
    "slideshow": {
     "slide_type": "subslide"
    }
   },
   "source": [
    "## 什麼是機器學習框架\n",
    "\n",
    "機器學習框架是讓開發者能更快、更簡單地建立與部署機器學習模型的應用程式介面，受歡迎的機器學習框架包括 Scikit-Learn、TensorFlow 與 PyTorch...等。"
   ]
  },
  {
   "cell_type": "markdown",
   "metadata": {
    "slideshow": {
     "slide_type": "subslide"
    }
   },
   "source": [
    "## 如果沒有機器學習框架\n",
    "\n",
    "- 我們就必須自行定義評估器。\n",
    "- 機器學習框架的存在，讓我們得以快速建立與部署機器學習模型。"
   ]
  },
  {
   "cell_type": "markdown",
   "metadata": {
    "slideshow": {
     "slide_type": "subslide"
    }
   },
   "source": [
    "## 自行定義評估器\n",
    "\n",
    "- 花費比使用機器學習框架更多的時間、不一定能達到更好的效果。\n",
    "- 聽起來像重複造輪，但實際上是能夠學習「機器學習」的好方法。\n",
    "- 獲得比使用機器學習框架更大的客製化彈性。"
   ]
  },
  {
   "cell_type": "markdown",
   "metadata": {
    "slideshow": {
     "slide_type": "subslide"
    }
   },
   "source": [
    "## 機器學習框架分為兩類\n",
    "\n",
    "1. 泛用的機器學習框架：Scikit-Learn、h2O、XGBoost、MLlib...等。\n",
    "2. 專用的神經網路框架：TensorFlow, PyTorch...等。"
   ]
  },
  {
   "cell_type": "markdown",
   "metadata": {
    "slideshow": {
     "slide_type": "subslide"
    }
   },
   "source": [
    "## 我們可以將 Scikit-Learn 的所學延伸到其他機器學習框架"
   ]
  },
  {
   "cell_type": "markdown",
   "metadata": {
    "slideshow": {
     "slide_type": "subslide"
    }
   },
   "source": [
    "## 什麼是 XGBoost？\n",
    "\n",
    "> XGBoost 是一個開源軟體，為 C++、Java、Python、R、和 Julia 提供了一個梯度提升機器學習演算法，由於這個演算法受到許多在機器學習競賽中獲獎團隊的青睞，因而受到了廣泛的歡迎和關注。\n",
    "\n",
    "來源：<https://en.wikipedia.org/wiki/XGBoost>"
   ]
  },
  {
   "cell_type": "markdown",
   "metadata": {
    "slideshow": {
     "slide_type": "subslide"
    }
   },
   "source": [
    "## 以 XGBoost 預測數值：NBA 球員的體重\n",
    "\n",
    "1. 準備特徵矩陣 $X$ 與目標向量 $y$。\n",
    "2. 切割訓練與驗證資料集。\n",
    "3. 初始化估計器。\n",
    "4. 訓練、配適並檢查規則。\n",
    "5. 在驗證資料集評估。"
   ]
  },
  {
   "cell_type": "markdown",
   "metadata": {
    "slideshow": {
     "slide_type": "subslide"
    }
   },
   "source": [
    "## 準備特徵矩陣 $X$ 與目標向量 $y$"
   ]
  },
  {
   "cell_type": "code",
   "execution_count": 35,
   "metadata": {},
   "outputs": [],
   "source": [
    "X = player_stats[['heightMeters', 'apg', 'rpg']].values\n",
    "y = player_stats['weightKilograms'].values"
   ]
  },
  {
   "cell_type": "markdown",
   "metadata": {
    "slideshow": {
     "slide_type": "subslide"
    }
   },
   "source": [
    "## 切割訓練與驗證資料集"
   ]
  },
  {
   "cell_type": "code",
   "execution_count": 36,
   "metadata": {},
   "outputs": [
    {
     "name": "stdout",
     "output_type": "stream",
     "text": [
      "(402, 3)\n",
      "(101, 3)\n",
      "(402,)\n",
      "(101,)\n"
     ]
    }
   ],
   "source": [
    "X_train, X_valid, y_train, y_valid = train_test_split(X, y, test_size=0.2, random_state=42)\n",
    "print(X_train.shape)\n",
    "print(X_valid.shape)\n",
    "print(y_train.shape)\n",
    "print(y_valid.shape)"
   ]
  },
  {
   "cell_type": "markdown",
   "metadata": {
    "slideshow": {
     "slide_type": "subslide"
    }
   },
   "source": [
    "## 初始化估計器"
   ]
  },
  {
   "cell_type": "code",
   "execution_count": 37,
   "metadata": {},
   "outputs": [],
   "source": [
    "xgb_r = XGBRegressor()"
   ]
  },
  {
   "cell_type": "markdown",
   "metadata": {
    "slideshow": {
     "slide_type": "subslide"
    }
   },
   "source": [
    "## 訓練、配適並檢查規則"
   ]
  },
  {
   "cell_type": "code",
   "execution_count": 38,
   "metadata": {},
   "outputs": [
    {
     "data": {
      "text/plain": [
       "XGBRegressor(base_score=0.5, booster='gbtree', colsample_bylevel=1,\n",
       "             colsample_bynode=1, colsample_bytree=1, gamma=0, gpu_id=-1,\n",
       "             importance_type='gain', interaction_constraints='',\n",
       "             learning_rate=0.300000012, max_delta_step=0, max_depth=6,\n",
       "             min_child_weight=1, missing=nan, monotone_constraints='()',\n",
       "             n_estimators=100, n_jobs=4, num_parallel_tree=1, random_state=0,\n",
       "             reg_alpha=0, reg_lambda=1, scale_pos_weight=1, subsample=1,\n",
       "             tree_method='exact', validate_parameters=1, verbosity=None)"
      ]
     },
     "execution_count": 38,
     "metadata": {},
     "output_type": "execute_result"
    }
   ],
   "source": [
    "xgb_r.fit(X_train, y_train)"
   ]
  },
  {
   "cell_type": "markdown",
   "metadata": {
    "slideshow": {
     "slide_type": "subslide"
    }
   },
   "source": [
    "## 在驗證資料集評估"
   ]
  },
  {
   "cell_type": "code",
   "execution_count": 39,
   "metadata": {},
   "outputs": [
    {
     "name": "stdout",
     "output_type": "stream",
     "text": [
      "71.92242945541291\n"
     ]
    }
   ],
   "source": [
    "y_pred = xgb_r.predict(X_valid)\n",
    "print(mean_squared_error(y_valid, y_pred))"
   ]
  },
  {
   "cell_type": "markdown",
   "metadata": {
    "slideshow": {
     "slide_type": "subslide"
    }
   },
   "source": [
    "## 以 XGBoost 預測類別：NBA 球員的鋒衛位置\n",
    "\n",
    "1. 準備特徵矩陣 $X$ 與目標向量 $y$。\n",
    "2. 切割訓練與驗證資料集。\n",
    "3. 初始化估計器。\n",
    "4. 訓練、配適並檢查規則。\n",
    "5. 在驗證資料集評估。"
   ]
  },
  {
   "cell_type": "markdown",
   "metadata": {
    "slideshow": {
     "slide_type": "subslide"
    }
   },
   "source": [
    "## 準備特徵矩陣 $X$ 與目標向量 $y$"
   ]
  },
  {
   "cell_type": "code",
   "execution_count": 40,
   "metadata": {},
   "outputs": [
    {
     "name": "stdout",
     "output_type": "stream",
     "text": [
      "(503, 3)\n",
      "(503,)\n"
     ]
    }
   ],
   "source": [
    "X = player_stats[['heightMeters', 'apg', 'rpg']].values\n",
    "y = pos_recoded_int.values\n",
    "print(X.shape)\n",
    "print(y.shape)"
   ]
  },
  {
   "cell_type": "markdown",
   "metadata": {
    "slideshow": {
     "slide_type": "subslide"
    }
   },
   "source": [
    "## 切割訓練與驗證資料集"
   ]
  },
  {
   "cell_type": "code",
   "execution_count": 41,
   "metadata": {},
   "outputs": [
    {
     "name": "stdout",
     "output_type": "stream",
     "text": [
      "(402, 3)\n",
      "(101, 3)\n",
      "(402,)\n",
      "(101,)\n"
     ]
    }
   ],
   "source": [
    "X_train, X_valid, y_train, y_valid = train_test_split(X, y, test_size=0.2, random_state=42)\n",
    "print(X_train.shape)\n",
    "print(X_valid.shape)\n",
    "print(y_train.shape)\n",
    "print(y_valid.shape)"
   ]
  },
  {
   "cell_type": "markdown",
   "metadata": {
    "slideshow": {
     "slide_type": "subslide"
    }
   },
   "source": [
    "## 初始化估計器"
   ]
  },
  {
   "cell_type": "code",
   "execution_count": 42,
   "metadata": {},
   "outputs": [],
   "source": [
    "xgb_c = XGBClassifier(use_label_encoder=False, eval_metric='mlogloss')"
   ]
  },
  {
   "cell_type": "markdown",
   "metadata": {
    "slideshow": {
     "slide_type": "subslide"
    }
   },
   "source": [
    "## 訓練、配適並檢查規則"
   ]
  },
  {
   "cell_type": "code",
   "execution_count": 43,
   "metadata": {},
   "outputs": [
    {
     "data": {
      "text/plain": [
       "XGBClassifier(base_score=0.5, booster='gbtree', colsample_bylevel=1,\n",
       "              colsample_bynode=1, colsample_bytree=1, eval_metric='mlogloss',\n",
       "              gamma=0, gpu_id=-1, importance_type='gain',\n",
       "              interaction_constraints='', learning_rate=0.300000012,\n",
       "              max_delta_step=0, max_depth=6, min_child_weight=1, missing=nan,\n",
       "              monotone_constraints='()', n_estimators=100, n_jobs=4,\n",
       "              num_parallel_tree=1, objective='multi:softprob', random_state=0,\n",
       "              reg_alpha=0, reg_lambda=1, scale_pos_weight=None, subsample=1,\n",
       "              tree_method='exact', use_label_encoder=False,\n",
       "              validate_parameters=1, verbosity=None)"
      ]
     },
     "execution_count": 43,
     "metadata": {},
     "output_type": "execute_result"
    }
   ],
   "source": [
    "xgb_c.fit(X_train, y_train)"
   ]
  },
  {
   "cell_type": "markdown",
   "metadata": {
    "slideshow": {
     "slide_type": "subslide"
    }
   },
   "source": [
    "## 在驗證資料集評估"
   ]
  },
  {
   "cell_type": "code",
   "execution_count": 44,
   "metadata": {},
   "outputs": [
    {
     "name": "stdout",
     "output_type": "stream",
     "text": [
      "0.8811881188118812\n"
     ]
    }
   ],
   "source": [
    "y_pred = xgb_c.predict(X_valid)\n",
    "print(accuracy_score(y_valid, y_pred))"
   ]
  }
 ],
 "metadata": {
  "celltoolbar": "Slideshow",
  "kernelspec": {
   "display_name": "Python Data Science",
   "language": "python",
   "name": "pyds"
  },
  "language_info": {
   "codemirror_mode": {
    "name": "ipython",
    "version": 3
   },
   "file_extension": ".py",
   "mimetype": "text/x-python",
   "name": "python",
   "nbconvert_exporter": "python",
   "pygments_lexer": "ipython3",
   "version": "3.8.10"
  }
 },
 "nbformat": 4,
 "nbformat_minor": 4
}
