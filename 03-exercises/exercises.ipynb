{
 "cells": [
  {
   "cell_type": "markdown",
   "metadata": {
    "deletable": false
   },
   "source": [
    "# Python 機器學習從零至一 \n",
    "\n",
    "> 數值預測的任務\n",
    "\n",
    "[數據交點](https://www.datainpoint.com) | 郭耀仁 <yaojenkuo@datainpoint.com>"
   ]
  },
  {
   "cell_type": "code",
   "execution_count": null,
   "metadata": {
    "deletable": false
   },
   "outputs": [],
   "source": [
    "import numpy as np\n",
    "import pandas as pd\n",
    "from sklearn.linear_model import LinearRegression"
   ]
  },
  {
   "cell_type": "markdown",
   "metadata": {},
   "source": [
    "## Instructions\n",
    "\n",
    "- The assignment will be disconnected if idling over 10 minutes, we can reactivate a new session by clicking the assignment link again.\n",
    "- We've imported necessary modules at the top of each assignment.\n",
    "- We've put necessary files(if any) in `/home/jovyan/data`.\n",
    "- We've defined the names of functions/inputs/parameters for you.\n",
    "- Write down your solution between the comments `### BEGIN SOLUTION` and `### END SOLUTION`.\n",
    "- It is NECESSARY to `return` the answer, tests will fail by just printing out the answer.\n",
    "- It is known that `SyntaxError` and `IndentationError` might break our `test_runner.py` and results in a zero point grade. It is highly recommended testing your solution by calling functions/methods in notebook or running tests before submission.\n",
    "- Running tests to see if your solutions are right:\n",
    "    - File -> Save Notebook to save `exercises.ipynb`.\n",
    "    - File -> New -> Terminal to open a Terminal.\n",
    "    - Use command `python 03-exercises/test_runner.py` to run test."
   ]
  },
  {
   "cell_type": "markdown",
   "metadata": {},
   "source": [
    "## 01. Given `/home/jovyan/data/house-prices/test.csv` and `/home/jovyan/data/house-prices/train.csv`, create a chimp model to predict `SalePrice` for each observation in `test.csv`.\n",
    "\n",
    "- Expected inputs: None.\n",
    "- Expected outputs: `ndarray`."
   ]
  },
  {
   "cell_type": "code",
   "execution_count": null,
   "metadata": {},
   "outputs": [],
   "source": [
    "def predict_sale_price_chimp_model() -> np.ndarray:\n",
    "    \"\"\"\n",
    "    >>> sale_price_chimp_model = predict_sale_price_chimp_model()\n",
    "    >>> type(sale_price_chimp_model)\n",
    "    'numpy.ndarray'\n",
    "    >>> sale_price_chimp_model.shape\n",
    "    (1459,)\n",
    "    \"\"\"\n",
    "    ### BEGIN SOLUTION\n",
    "    \n",
    "    ### END SOLUTION"
   ]
  },
  {
   "cell_type": "markdown",
   "metadata": {},
   "source": [
    "## 02. Given `/home/jovyan/data/house-prices/test.csv` and `/home/jovyan/data/house-prices/train.csv`, create an expert model to predict `SalePrice` according to `OverallQual` for each observation in `test.csv`.\n",
    "\n",
    "- Expected inputs: None.\n",
    "- Expected outputs: `ndarray`."
   ]
  },
  {
   "cell_type": "code",
   "execution_count": null,
   "metadata": {},
   "outputs": [],
   "source": [
    "def predict_sale_price_expert_model() -> np.ndarray:\n",
    "    \"\"\"\n",
    "    >>> sale_price_expert_model = predict_sale_price_expert_model()\n",
    "    >>> type(sale_price_expert_model)\n",
    "    'numpy.ndarray'\n",
    "    >>> sale_price_expert_model.shape\n",
    "    (1459,)\n",
    "    \"\"\"\n",
    "    ### BEGIN SOLUTION\n",
    "    \n",
    "    ### END SOLUTION"
   ]
  },
  {
   "cell_type": "markdown",
   "metadata": {},
   "source": [
    "## 03. Given `/home/jovyan/data/house-prices/train.csv`, extract `GrLivArea` as the feature matrix and apply Scikit-Learn's `LinearRegression` to predict `SalePrice`. Return the intercept and coefficients in an array.\n",
    "\n",
    "- Expected inputs: None.\n",
    "- Expected outputs: `ndarray`."
   ]
  },
  {
   "cell_type": "code",
   "execution_count": null,
   "metadata": {},
   "outputs": [],
   "source": [
    "def predict_sale_price_sklearn_model() -> np.ndarray:\n",
    "    \"\"\"\n",
    "    >>> sale_price_sklearn_model = predict_sale_price_sklearn_model()\n",
    "    >>> type(sale_price_sklearn_model)\n",
    "    'numpy.ndarray'\n",
    "    >>> sale_price_sklearn_model\n",
    "    array([18569.02585649,   107.13035897])\n",
    "    \"\"\"\n",
    "    ### BEGIN SOLUTION\n",
    "    \n",
    "    ### END SOLUTION"
   ]
  },
  {
   "cell_type": "markdown",
   "metadata": {},
   "source": [
    "## 04. Given `/home/jovyan/data/house-prices/train.csv`, extract `GrLivArea` as the feature matrix and apply your self-defined normal equation model to predict `SalePrice`. Return the intercept and coefficients in an array.\n",
    "\n",
    "- Expected inputs: None.\n",
    "- Expected outputs: `ndarray`."
   ]
  },
  {
   "cell_type": "code",
   "execution_count": null,
   "metadata": {},
   "outputs": [],
   "source": [
    "def predict_sale_price_normal_equation_model() -> np.ndarray:\n",
    "    \"\"\"\n",
    "    >>> sale_price_normal_equation_model = predict_sale_price_normal_equation_model()\n",
    "    >>> type(sale_price_normal_equation_model)\n",
    "    'numpy.ndarray'\n",
    "    >>> sale_price_normal_equation_model\n",
    "    array([18569.02585649,   107.13035897])\n",
    "    \"\"\"\n",
    "    ### BEGIN SOLUTION\n",
    "    \n",
    "    ### END SOLUTION"
   ]
  },
  {
   "cell_type": "markdown",
   "metadata": {},
   "source": [
    "## 05. Given `/home/jovyan/data/nba/player_stats.csv` extract `apg` and `rpg` as the feature matrix and apply Scikit-Learn's `LinearRegression` to predict `heightMeters`. Return the intercept and coefficients in an array.\n",
    "\n",
    "- Expected inputs: None.\n",
    "- Expected outputs: `ndarray`."
   ]
  },
  {
   "cell_type": "code",
   "execution_count": null,
   "metadata": {},
   "outputs": [],
   "source": [
    "def predict_height_meters_sklearn_model() -> np.ndarray:\n",
    "    \"\"\"\n",
    "    >>> height_meters_sklearn_model = predict_height_meters_sklearn_model()\n",
    "    >>> type(height_meters_sklearn_model)\n",
    "    'numpy.ndarray'\n",
    "    >>> height_meters_sklearn_model\n",
    "    array([ 1.95251514, -0.02754199,  0.02407157])\n",
    "    \"\"\"\n",
    "    ### BEGIN SOLUTION\n",
    "    \n",
    "    ### END SOLUTION"
   ]
  },
  {
   "cell_type": "markdown",
   "metadata": {},
   "source": [
    "## 06. Given `/home/jovyan/data/nba/player_stats.csv` extract `apg` and `rpg` as the feature matrix and apply self-defined gradient descent model to predict `heightMeters`. Return the intercept and coefficients in an array.\n",
    "\n",
    "- Expected inputs: None.\n",
    "- Expected outputs: `ndarray`."
   ]
  },
  {
   "cell_type": "code",
   "execution_count": null,
   "metadata": {},
   "outputs": [],
   "source": [
    "def predict_height_meters_gradient_descent_model() -> np.ndarray:\n",
    "    \"\"\"\n",
    "    >>> height_meters_grdient_descent_model = predict_height_meters_gradient_descent_model()\n",
    "    >>> type(height_meters_gradient_descent_model)\n",
    "    'numpy.ndarray'\n",
    "    >>> height_meters_gradient_descent_model.size\n",
    "    3\n",
    "    >>> height_meters_gradient_descent_model[1] < 0\n",
    "    True\n",
    "    >>> height_meters_gradient_descent_model[2] > 0\n",
    "    True\n",
    "    \"\"\"\n",
    "    ### BEGIN SOLUTION\n",
    "    \n",
    "    ### END SOLUTION"
   ]
  }
 ],
 "metadata": {
  "kernelspec": {
   "display_name": "ML from Scratch",
   "language": "python",
   "name": "mlfromscratch"
  },
  "language_info": {
   "codemirror_mode": {
    "name": "ipython",
    "version": 3
   },
   "file_extension": ".py",
   "mimetype": "text/x-python",
   "name": "python",
   "nbconvert_exporter": "python",
   "pygments_lexer": "ipython3",
   "version": "3.8.12"
  }
 },
 "nbformat": 4,
 "nbformat_minor": 4
}
