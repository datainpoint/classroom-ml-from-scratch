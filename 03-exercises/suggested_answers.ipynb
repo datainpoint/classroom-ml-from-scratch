{
 "cells": [
  {
   "cell_type": "markdown",
   "metadata": {
    "deletable": false
   },
   "source": [
    "# Python 機器學習從零至一 \n",
    "\n",
    "> 數值預測的任務\n",
    "\n",
    "[數據交點](https://www.datainpoint.com) | 郭耀仁 <yaojenkuo@datainpoint.com>"
   ]
  },
  {
   "cell_type": "code",
   "execution_count": 1,
   "metadata": {
    "deletable": false
   },
   "outputs": [],
   "source": [
    "import numpy as np\n",
    "import pandas as pd\n",
    "from sklearn.linear_model import LinearRegression"
   ]
  },
  {
   "cell_type": "markdown",
   "metadata": {},
   "source": [
    "## Instructions\n",
    "\n",
    "- The assignment will be disconnected if idling over 10 minutes, we can reactivate a new session by clicking the assignment link again.\n",
    "- We've imported necessary modules at the top of each assignment.\n",
    "- We've put necessary files(if any) in `/home/jovyan/data`.\n",
    "- We've defined the names of functions/inputs/parameters for you.\n",
    "- Write down your solution between the comments `### BEGIN SOLUTION` and `### END SOLUTION`.\n",
    "- It is NECESSARY to `return` the answer, tests will fail by just printing out the answer.\n",
    "- It is known that `SyntaxError` and `IndentationError` might break our `test_runner.py` and results in a zero point grade. It is highly recommended testing your solution by calling functions/methods in notebook or running tests before submission.\n",
    "- Running tests to see if your solutions are right:\n",
    "    - File -> Save Notebook to save `exercises.ipynb`.\n",
    "    - File -> New -> Terminal to open a Terminal.\n",
    "    - Use command `python 03-exercises/test_runner.py` to run test."
   ]
  },
  {
   "cell_type": "markdown",
   "metadata": {},
   "source": [
    "## 01. Given `/home/jovyan/data/house-prices/test.csv` and `/home/jovyan/data/house-prices/train.csv`, create a chimp model to predict `SalePrice` for each observation in `test.csv`.\n",
    "\n",
    "- Expected inputs: None.\n",
    "- Expected outputs: `ndarray`."
   ]
  },
  {
   "cell_type": "code",
   "execution_count": 2,
   "metadata": {},
   "outputs": [],
   "source": [
    "def predict_sale_price_chimp_model() -> np.ndarray:\n",
    "    \"\"\"\n",
    "    >>> sale_price_chimp_model = predict_sale_price_chimp_model()\n",
    "    >>> type(sale_price_chimp_model)\n",
    "    'numpy.ndarray'\n",
    "    >>> sale_price_chimp_model.shape\n",
    "    (1459,)\n",
    "    \"\"\"\n",
    "    ### BEGIN SOLUTION\n",
    "    train = pd.read_csv(\"/home/jovyan/data/house-prices/train.csv\")\n",
    "    test = pd.read_csv(\"/home/jovyan/data/house-prices/test.csv\")\n",
    "    sale_price_max = train[\"SalePrice\"].max()\n",
    "    sale_price_min = train[\"SalePrice\"].min()\n",
    "    m = test.shape[0]\n",
    "    y_hat = np.random.randint(low=sale_price_min, high=sale_price_max, size=m)\n",
    "    return y_hat\n",
    "    ### END SOLUTION"
   ]
  },
  {
   "cell_type": "markdown",
   "metadata": {},
   "source": [
    "## 02. Given `/home/jovyan/data/house-prices/test.csv` and `/home/jovyan/data/house-prices/train.csv`, create an expert model to predict `SalePrice` according to `OverallQual` for each observation in `test.csv`.\n",
    "\n",
    "- Expected inputs: None.\n",
    "- Expected outputs: `ndarray`."
   ]
  },
  {
   "cell_type": "code",
   "execution_count": 3,
   "metadata": {},
   "outputs": [],
   "source": [
    "def predict_sale_price_expert_model() -> np.ndarray:\n",
    "    \"\"\"\n",
    "    >>> sale_price_expert_model = predict_sale_price_expert_model()\n",
    "    >>> type(sale_price_expert_model)\n",
    "    'numpy.ndarray'\n",
    "    >>> sale_price_expert_model.shape\n",
    "    (1459,)\n",
    "    \"\"\"\n",
    "    ### BEGIN SOLUTION\n",
    "    train = pd.read_csv(\"/home/jovyan/data/house-prices/train.csv\")\n",
    "    test = pd.read_csv(\"/home/jovyan/data/house-prices/test.csv\")\n",
    "    mean_sale_price_by_overall_qual = train.groupby(\"OverallQual\")[\"SalePrice\"].mean()\n",
    "    y_hat = test[\"OverallQual\"].map(mean_sale_price_by_overall_qual).values\n",
    "    return y_hat\n",
    "    ### END SOLUTION"
   ]
  },
  {
   "cell_type": "markdown",
   "metadata": {},
   "source": [
    "## 03. Given `/home/jovyan/data/house-prices/train.csv`, extract `GrLivArea` and `OverallQual` as the feature matrix and apply Scikit-Learn's `LinearRegression` to predict `SalePrice`. Return the intercept and coefficients in an array.\n",
    "\n",
    "- Expected inputs: None.\n",
    "- Expected outputs: `ndarray`."
   ]
  },
  {
   "cell_type": "code",
   "execution_count": 4,
   "metadata": {},
   "outputs": [],
   "source": [
    "def predict_sale_price_sklearn_model() -> np.ndarray:\n",
    "    \"\"\"\n",
    "    >>> sale_price_sklearn_model = predict_sale_price_sklearn_model()\n",
    "    >>> type(sale_price_sklearn_model)\n",
    "    'numpy.ndarray'\n",
    "    >>> sale_price_sklearn_model\n",
    "    array([18569.02585649,   107.13035897])\n",
    "    \"\"\"\n",
    "    ### BEGIN SOLUTION\n",
    "    train = pd.read_csv(\"/home/jovyan/data/house-prices/train.csv\")\n",
    "    X = train[\"GrLivArea\"].values.reshape(-1, 1)\n",
    "    y = train[\"SalePrice\"].values\n",
    "    model = LinearRegression()\n",
    "    model.fit(X, y)\n",
    "    w = model.coef_\n",
    "    w = np.insert(w, 0, model.intercept_)\n",
    "    return w\n",
    "    ### END SOLUTION"
   ]
  },
  {
   "cell_type": "markdown",
   "metadata": {},
   "source": [
    "## 04. Given `/home/jovyan/data/house-prices/train.csv`, extract `GrLivArea` and `OverallQual` as the feature matrix and apply your self-defined normal equation model to predict `SalePrice`. Return the intercept and coefficients in an array.\n",
    "\n",
    "- Expected inputs: None.\n",
    "- Expected outputs: `ndarray`."
   ]
  },
  {
   "cell_type": "code",
   "execution_count": 5,
   "metadata": {},
   "outputs": [],
   "source": [
    "def predict_sale_price_normal_equation_model() -> np.ndarray:\n",
    "    \"\"\"\n",
    "    >>> sale_price_normal_equation_model = predict_sale_price_normal_equation_model()\n",
    "    >>> type(sale_price_normal_equation_model)\n",
    "    'numpy.ndarray'\n",
    "    >>> sale_price_normal_equation_model\n",
    "    array([18569.02585649,   107.13035897])\n",
    "    \"\"\"\n",
    "    ### BEGIN SOLUTION\n",
    "    train = pd.read_csv(\"/home/jovyan/data/house-prices/train.csv\")\n",
    "    X = train[\"GrLivArea\"].values.reshape(-1, 1)\n",
    "    m = X.shape[0]\n",
    "    intercepts = np.ones(m).reshape(-1, 1)\n",
    "    X = np.concatenate((intercepts, X), axis=1)\n",
    "    y = train[\"SalePrice\"].values\n",
    "    X_T = np.transpose(X)\n",
    "    left_matrix = np.dot(X_T, X)\n",
    "    right_matrix = np.dot(X_T, y)\n",
    "    left_matrix_inv = np.linalg.inv(left_matrix)\n",
    "    w = np.dot(left_matrix_inv, right_matrix)\n",
    "    return w.ravel()\n",
    "    ### END SOLUTION"
   ]
  },
  {
   "cell_type": "markdown",
   "metadata": {},
   "source": [
    "## 05. Given `/home/jovyan/data/nba/player_stats.csv` extract `apg` and `rpg` as the feature matrix and apply Scikit-Learn's `LinearRegression` to predict `heightMeters`. Return the intercept and coefficients in an array.\n",
    "\n",
    "- Expected inputs: None.\n",
    "- Expected outputs: `ndarray`."
   ]
  },
  {
   "cell_type": "code",
   "execution_count": 6,
   "metadata": {},
   "outputs": [],
   "source": [
    "def predict_height_meters_sklearn_model() -> np.ndarray:\n",
    "    \"\"\"\n",
    "    >>> height_meters_sklearn_model = predict_height_meters_sklearn_model()\n",
    "    >>> type(height_meters_sklearn_model)\n",
    "    'numpy.ndarray'\n",
    "    >>> height_meters_sklearn_model\n",
    "    array([ 1.95251514, -0.02754199,  0.02407157])\n",
    "    \"\"\"\n",
    "    ### BEGIN SOLUTION\n",
    "    player_stats = pd.read_csv(\"/home/jovyan/data/nba/player_stats.csv\")\n",
    "    X = player_stats[[\"apg\", \"rpg\"]].values\n",
    "    y = player_stats[\"heightMeters\"].values\n",
    "    model = LinearRegression()\n",
    "    model.fit(X, y)\n",
    "    w = model.coef_\n",
    "    w = np.insert(w, 0, model.intercept_)\n",
    "    return w\n",
    "    ### END SOLUTION"
   ]
  },
  {
   "cell_type": "markdown",
   "metadata": {},
   "source": [
    "## 06. Given `/home/jovyan/data/nba/player_stats.csv` extract `apg` and `rpg` as the feature matrix and apply self-defined gradient descent model to predict `heightMeters`. Return the intercept and coefficients in an array.\n",
    "\n",
    "- Expected inputs: None.\n",
    "- Expected outputs: `ndarray`."
   ]
  },
  {
   "cell_type": "code",
   "execution_count": 7,
   "metadata": {},
   "outputs": [],
   "source": [
    "def predict_height_meters_gradient_descent_model() -> np.ndarray:\n",
    "    \"\"\"\n",
    "    >>> height_meters_grdient_descent_model = predict_height_meters_gradient_descent_model()\n",
    "    >>> type(height_meters_gradient_descent_model)\n",
    "    'numpy.ndarray'\n",
    "    >>> height_meters_gradient_descent_model.size\n",
    "    3\n",
    "    >>> height_meters_gradient_descent_model[1] < 0\n",
    "    True\n",
    "    >>> height_meters_gradient_descent_model[2] > 0\n",
    "    True\n",
    "    \"\"\"\n",
    "    ### BEGIN SOLUTION\n",
    "    player_stats = pd.read_csv(\"/home/jovyan/data/nba/player_stats.csv\")\n",
    "    X = player_stats[[\"apg\", \"rpg\"]].values\n",
    "    m = X.shape[0]\n",
    "    intercepts = np.ones(m).reshape(-1, 1)\n",
    "    X = np.concatenate((intercepts, X), axis=1)\n",
    "    n = X.shape[1]\n",
    "    y = player_stats[\"heightMeters\"].values\n",
    "    w = np.random.rand(n)\n",
    "    epochs = 10000\n",
    "    learning_rate=0.001\n",
    "    for i in range(epochs):\n",
    "        y_hat = np.dot(X, w)\n",
    "        mse = ((y_hat - y).T.dot(y_hat - y)) / m\n",
    "        gradient = (2/m) * np.dot(X.T, y_hat - y)\n",
    "        if i % 1000 == 0:\n",
    "            print(\"epoch: {:6} - loss: {:.6f}\".format(i, mse))\n",
    "        w -= learning_rate*gradient\n",
    "    return w.ravel()\n",
    "    ### END SOLUTION"
   ]
  }
 ],
 "metadata": {
  "kernelspec": {
   "display_name": "ML from Scratch",
   "language": "python",
   "name": "mlfromscratch"
  },
  "language_info": {
   "codemirror_mode": {
    "name": "ipython",
    "version": 3
   },
   "file_extension": ".py",
   "mimetype": "text/x-python",
   "name": "python",
   "nbconvert_exporter": "python",
   "pygments_lexer": "ipython3",
   "version": "3.8.12"
  }
 },
 "nbformat": 4,
 "nbformat_minor": 4
}
