{
 "cells": [
  {
   "cell_type": "markdown",
   "metadata": {
    "deletable": false
   },
   "source": [
    "# Python 機器學習從零至一\n",
    "\n",
    "> 資料科學模組 Scikit-Learn 入門\n",
    "\n",
    "[數據交點](https://www.datainpoint.com) | 郭耀仁 <yaojenkuo@datainpoint.com>"
   ]
  },
  {
   "cell_type": "markdown",
   "metadata": {
    "deletable": false
   },
   "source": [
    "## 練習題指引\n",
    "\n",
    "- 練習題閒置超過 15 分鐘會自動斷線，只要重新點選練習題連結即可重新啟動。\n",
    "- 第一個程式碼儲存格會將可能用得到的模組載入。\n",
    "- 如果練習題需要載入檔案，檔案存放於練習題的工作目錄。\n",
    "- 練習題已經給定函數、類別、預期輸入或參數名稱，我們只需要寫作程式區塊。同時也給定函數的類別提示，說明預期輸入以及預期輸出的類別。\n",
    "- 說明（Docstring）會描述測試如何進行，閱讀說明能夠暸解預期輸入以及預期輸出之間的關係，幫助我們更快解題。\n",
    "- 請在 `### BEGIN SOLUTION` 與 `### END SOLUTION` 這兩個註解之間寫作函數或者類別的程式區塊。\n",
    "- 將預期輸出放置在 `return` 保留字之後，若只是用 `print()` 函數將預期輸出印出無法通過測試。\n",
    "- 語法錯誤（`SyntaxError`）或縮排錯誤（`IndentationError`）等將會導致測試失效，測試之前應該先在筆記本使用函數觀察是否與說明（Docstring）描述的功能相符。\n",
    "- 執行測試：點選上方選單的 Kernel -> Restart & Run All -> Restart and Run All Cells"
   ]
  },
  {
   "cell_type": "code",
   "execution_count": 1,
   "metadata": {},
   "outputs": [],
   "source": [
    "import unittest\n",
    "import numpy as np\n",
    "import pandas as pd\n",
    "import sklearn\n",
    "from sklearn.preprocessing import PolynomialFeatures\n",
    "from sklearn.preprocessing import StandardScaler\n",
    "from sklearn.preprocessing import MinMaxScaler\n",
    "from sklearn.linear_model import LinearRegression\n",
    "from sklearn.linear_model import LogisticRegression"
   ]
  },
  {
   "cell_type": "markdown",
   "metadata": {},
   "source": [
    "## 01. 建立一個多項式特徵轉換器\n",
    "\n",
    "定義函數 `create_a_polynomial_feature()` 能夠回傳一個 `PolynomialFeatures`\n",
    "\n",
    "- 使用 `PolynomialFeatures` 類別。\n",
    "- 將預期輸出寫在 `return` 之後。"
   ]
  },
  {
   "cell_type": "code",
   "execution_count": 2,
   "metadata": {},
   "outputs": [],
   "source": [
    "def create_a_polynomial_feature() -> sklearn.preprocessing._polynomial.PolynomialFeatures:\n",
    "    \"\"\"\n",
    "    >>> a_polynomial_feature = create_a_polynomial_feature()\n",
    "    >>> type(a_polynomial_feature)\n",
    "    sklearn.preprocessing._polynomial.PolynomialFeatures\n",
    "    \"\"\"\n",
    "    ### BEGIN SOLUTION\n",
    "    polynomial_features = PolynomialFeatures()\n",
    "    return polynomial_features\n",
    "    ### END SOLUTION"
   ]
  },
  {
   "cell_type": "markdown",
   "metadata": {},
   "source": [
    "## 02. 添加截距與二次項\n",
    "\n",
    "定義函數 `create_polynomial_features_for_ndarray()` 能夠將輸入的 `ndarray` 添加截距與二次項後回傳。\n",
    "\n",
    "- 使用 `create_a_polynomial_feature()` 函數。\n",
    "- 使用 `PolynomialFeatures.fit_transform()`\n",
    "- 將預期輸出寫在 `return` 之後。"
   ]
  },
  {
   "cell_type": "code",
   "execution_count": 3,
   "metadata": {},
   "outputs": [],
   "source": [
    "def create_polynomial_features_for_ndarray(X: np.ndarray) -> np.ndarray:\n",
    "    \"\"\"\n",
    "    >>> input_ndarray = np.arange(10).reshape(-1, 1)\n",
    "    >>> input_ndarray\n",
    "    array([[0],\n",
    "           [1],\n",
    "           [2],\n",
    "           [3],\n",
    "           [4],\n",
    "           [5],\n",
    "           [6],\n",
    "           [7],\n",
    "           [8],\n",
    "           [9]])\n",
    "    >>> create_polynomial_features_for_ndarray(input_ndarray)\n",
    "    array([[ 1.,  0.,  0.],\n",
    "           [ 1.,  1.,  1.],\n",
    "           [ 1.,  2.,  4.],\n",
    "           [ 1.,  3.,  9.],\n",
    "           [ 1.,  4., 16.],\n",
    "           [ 1.,  5., 25.],\n",
    "           [ 1.,  6., 36.],\n",
    "           [ 1.,  7., 49.],\n",
    "           [ 1.,  8., 64.],\n",
    "           [ 1.,  9., 81.]])\n",
    "    \"\"\"\n",
    "    ### BEGIN SOLUTION\n",
    "    polynomial_features = create_a_polynomial_feature()\n",
    "    return polynomial_features.fit_transform(X)\n",
    "    ### END SOLUTION"
   ]
  },
  {
   "cell_type": "markdown",
   "metadata": {},
   "source": [
    "## 03. 添加截距\n",
    "\n",
    "定義函數 `add_intercepts_for_ndarray()` 能夠將輸入的 `ndarray` 添加截距後回傳。\n",
    "\n",
    "- 使用 `PolynomialFeatures` 類別。\n",
    "- 設定參數 `degree=1`\n",
    "- 使用 `PolynomialFeatures.fit_transform()`\n",
    "- 將預期輸出寫在 `return` 之後。"
   ]
  },
  {
   "cell_type": "code",
   "execution_count": 4,
   "metadata": {},
   "outputs": [],
   "source": [
    "def add_intercepts_for_ndarray(X: np.ndarray) -> np.ndarray:\n",
    "    \"\"\"\n",
    "    >>> input_ndarray = np.arange(10).reshape(-1, 1)\n",
    "    >>> input_ndarray\n",
    "    array([[0],\n",
    "           [1],\n",
    "           [2],\n",
    "           [3],\n",
    "           [4],\n",
    "           [5],\n",
    "           [6],\n",
    "           [7],\n",
    "           [8],\n",
    "           [9]])\n",
    "    >>> add_intercepts_for_ndarray(input_ndarray)\n",
    "    array([[1., 0.],\n",
    "           [1., 1.],\n",
    "           [1., 2.],\n",
    "           [1., 3.],\n",
    "           [1., 4.],\n",
    "           [1., 5.],\n",
    "           [1., 6.],\n",
    "           [1., 7.],\n",
    "           [1., 8.],\n",
    "           [1., 9.]])\n",
    "    \"\"\"\n",
    "    ### BEGIN SOLUTION\n",
    "    polynomial_features = PolynomialFeatures(degree=1)\n",
    "    return polynomial_features.fit_transform(X)\n",
    "    ### END SOLUTION"
   ]
  },
  {
   "cell_type": "markdown",
   "metadata": {},
   "source": [
    "## 04. 建立一個 z-score 標準化轉換器\n",
    "\n",
    "定義函數 `create_a_standard_scaler()` 能夠回傳一個 `StandardScaler`\n",
    "\n",
    "- 使用 `StandardScaler` 類別。\n",
    "- 將預期輸出寫在 `return` 之後。"
   ]
  },
  {
   "cell_type": "code",
   "execution_count": 5,
   "metadata": {},
   "outputs": [],
   "source": [
    "def create_a_standard_scaler() -> sklearn.preprocessing._data.StandardScaler:\n",
    "    \"\"\"\n",
    "    >>> a_standard_scaler = create_a_standard_scaler()\n",
    "    >>> type(a_standard_scaler)\n",
    "    sklearn.preprocessing._data.StandardScaler\n",
    "    \"\"\"\n",
    "    ### BEGIN SOLUTION\n",
    "    standard_scaler = StandardScaler()\n",
    "    return standard_scaler\n",
    "    ### END SOLUTION"
   ]
  },
  {
   "cell_type": "markdown",
   "metadata": {},
   "source": [
    "## 05. z-score 標準化\n",
    "\n",
    "定義函數 `standardize_a_ndarray()` 能夠將輸入的 `ndarray` 進行 z-score 標準化後回傳。\n",
    "\n",
    "\\begin{equation}\n",
    "z = \\frac{X - \\mu}{\\sigma}\n",
    "\\end{equation}\n",
    "\n",
    "- 使用 `create_a_standard_scaler()` 函數。\n",
    "- 使用 `StandardScaler.fit_transform()`\n",
    "- 將預期輸出寫在 `return` 之後。"
   ]
  },
  {
   "cell_type": "code",
   "execution_count": 6,
   "metadata": {},
   "outputs": [],
   "source": [
    "def standardize_a_ndarray(X: np.ndarray) -> np.ndarray:\n",
    "    \"\"\"\n",
    "    >>> input_ndarray = np.arange(10).reshape(-1, 1)\n",
    "    >>> input_ndarray\n",
    "    array([[0],\n",
    "           [1],\n",
    "           [2],\n",
    "           [3],\n",
    "           [4],\n",
    "           [5],\n",
    "           [6],\n",
    "           [7],\n",
    "           [8],\n",
    "           [9]])\n",
    "    >>> standardize_a_ndarray(input_ndarray)\n",
    "    array([[-1.5666989 ],\n",
    "           [-1.21854359],\n",
    "           [-0.87038828],\n",
    "           [-0.52223297],\n",
    "           [-0.17407766],\n",
    "           [ 0.17407766],\n",
    "           [ 0.52223297],\n",
    "           [ 0.87038828],\n",
    "           [ 1.21854359],\n",
    "           [ 1.5666989 ]])\n",
    "    \"\"\"\n",
    "    ### BEGIN SOLUTION\n",
    "    standard_scaler = create_a_standard_scaler()\n",
    "    return standard_scaler.fit_transform(X)\n",
    "    ### END SOLUTION"
   ]
  },
  {
   "cell_type": "markdown",
   "metadata": {},
   "source": [
    "## 06. 標準化轉換器的屬性\n",
    "\n",
    "定義函數 `get_standard_scalers_attributes()` 能夠將輸入的 `ndarray` 的平均數 $\\mu$ 與標準差 $\\sigma$ 回傳。\n",
    "\n",
    "\\begin{equation}\n",
    "z = \\frac{X - \\mu}{\\sigma}\n",
    "\\end{equation}\n",
    "\n",
    "- 使用 `create_a_standard_scaler()` 函數。\n",
    "- 使用 `StandardScaler.fit_transform()`\n",
    "- 運用 `StandardScaler.mean_`\n",
    "- 運用 `StandardScaler.scale_`\n",
    "- 將預期輸出寫在 `return` 之後。"
   ]
  },
  {
   "cell_type": "code",
   "execution_count": 7,
   "metadata": {},
   "outputs": [],
   "source": [
    "def get_standard_scalers_attributes(X: np.ndarray) -> tuple:\n",
    "    \"\"\"\n",
    "    >>> input_ndarray = np.arange(10).reshape(-1, 1)\n",
    "    >>> input_ndarray\n",
    "    array([[0],\n",
    "           [1],\n",
    "           [2],\n",
    "           [3],\n",
    "           [4],\n",
    "           [5],\n",
    "           [6],\n",
    "           [7],\n",
    "           [8],\n",
    "           [9]])\n",
    "    >>> mu, sigma = get_standard_scalers_attributes(input_ndarray)\n",
    "    >>> mu\n",
    "    4.5\n",
    "    >>> sigma\n",
    "    2.8722813232690143\n",
    "    \"\"\"\n",
    "    ### BEGIN SOLUTION\n",
    "    standard_scaler = create_a_standard_scaler()\n",
    "    standard_scaler.fit_transform(X)\n",
    "    return standard_scaler.mean_[0], standard_scaler.scale_[0]\n",
    "    ### END SOLUTION"
   ]
  },
  {
   "cell_type": "markdown",
   "metadata": {},
   "source": [
    "## 07. 建立一個 Min Max 標準化轉換器\n",
    "\n",
    "定義函數 `create_a_minmax_scaler()` 能夠回傳一個 `MinMaxScaler`\n",
    "\n",
    "- 使用 `MinMaxScaler` 類別。\n",
    "- 將預期輸出寫在 `return` 之後。"
   ]
  },
  {
   "cell_type": "code",
   "execution_count": 8,
   "metadata": {},
   "outputs": [],
   "source": [
    "def create_a_minmax_scaler() -> sklearn.preprocessing._data.MinMaxScaler:\n",
    "    \"\"\"\n",
    "    >>> a_minmax_scaler = create_a_minmax_scaler()\n",
    "    >>> type(a_minmax_scaler)\n",
    "    sklearn.preprocessing._data.MinMaxScaler\n",
    "    \"\"\"\n",
    "    ### BEGIN SOLUTION\n",
    "    min_max_scaler = MinMaxScaler()\n",
    "    return min_max_scaler\n",
    "    ### END SOLUTION"
   ]
  },
  {
   "cell_type": "markdown",
   "metadata": {},
   "source": [
    "## 08. 最小最大標準化\n",
    "\n",
    "定義函數 `min_max_a_ndarray()` 能夠將輸入的 `ndarray` 進行最小最大標準化後回傳。\n",
    "\n",
    "```\n",
    "X_std = (X - X.min(axis=0)) / (X.max(axis=0) - X.min(axis=0))\n",
    "X_scaled = X_std * (max - min) + min\n",
    "```\n",
    "\n",
    "- 使用 `create_a_minmax_scaler()` 函數。\n",
    "- 使用 `MinMaxScaler.fit_transform()`\n",
    "- 將預期輸出寫在 `return` 之後。"
   ]
  },
  {
   "cell_type": "code",
   "execution_count": 9,
   "metadata": {},
   "outputs": [],
   "source": [
    "def min_max_a_ndarray(X: np.ndarray) -> np.ndarray:\n",
    "    \"\"\"\n",
    "    >>> input_ndarray = np.arange(10).reshape(-1, 1)\n",
    "    >>> input_ndarray\n",
    "    array([[0],\n",
    "           [1],\n",
    "           [2],\n",
    "           [3],\n",
    "           [4],\n",
    "           [5],\n",
    "           [6],\n",
    "           [7],\n",
    "           [8],\n",
    "           [9]])\n",
    "    >>> min_max_a_ndarray(input_ndarray)\n",
    "    array([[0.        ],\n",
    "           [0.11111111],\n",
    "           [0.22222222],\n",
    "           [0.33333333],\n",
    "           [0.44444444],\n",
    "           [0.55555556],\n",
    "           [0.66666667],\n",
    "           [0.77777778],\n",
    "           [0.88888889],\n",
    "           [1.        ]])\n",
    "    \"\"\"\n",
    "    ### BEGIN SOLUTION\n",
    "    min_max_scaler = create_a_minmax_scaler()\n",
    "    return min_max_scaler.fit_transform(X)\n",
    "    ### END SOLUTION"
   ]
  },
  {
   "cell_type": "markdown",
   "metadata": {},
   "source": [
    "## 09. 最小最大標準化轉換器的屬性\n",
    "\n",
    "定義函數 `get_minmax_scalers_attributes()` 能夠將輸入的 `ndarray` 的最小值與最大值回傳。\n",
    "\n",
    "- 使用 `create_a_minmax_scaler()` 函數。\n",
    "- 使用 `MinMaxScaler.fit_transform()`\n",
    "- 運用 `MinMaxScaler.data_min_`\n",
    "- 運用 `MinMaxScaler.data_max_`\n",
    "- 將預期輸出寫在 `return` 之後。"
   ]
  },
  {
   "cell_type": "code",
   "execution_count": 10,
   "metadata": {},
   "outputs": [],
   "source": [
    "def get_minmax_scalers_attributes(X: np.ndarray) -> tuple:\n",
    "    \"\"\"\n",
    "    >>> input_ndarray = np.arange(10).reshape(-1, 1)\n",
    "    >>> input_ndarray\n",
    "    array([[0],\n",
    "           [1],\n",
    "           [2],\n",
    "           [3],\n",
    "           [4],\n",
    "           [5],\n",
    "           [6],\n",
    "           [7],\n",
    "           [8],\n",
    "           [9]])\n",
    "    >>> Xmin, Xmax = get_minmax_scalers_attributes(input_ndarray)\n",
    "    >>> Xmin\n",
    "    0.0\n",
    "    >>> Xmax\n",
    "    9.0\n",
    "    \"\"\"\n",
    "    ### BEGIN SOLUTION\n",
    "    min_max_scaler = create_a_minmax_scaler()\n",
    "    min_max_scaler.fit_transform(X)\n",
    "    return min_max_scaler.data_min_[0], min_max_scaler.data_max_[0]\n",
    "    ### END SOLUTION"
   ]
  },
  {
   "cell_type": "markdown",
   "metadata": {},
   "source": [
    "## 10. 建立兩個預測器\n",
    "\n",
    "定義函數 `create_linear_logistic_regression()` 能夠回傳 `LinearRegression` 與 `LogisticRegression`\n",
    "\n",
    "- 使用 `LinearRegression` 類別。\n",
    "- 使用 `LogisticRegression` 類別。\n",
    "- 將預期輸出寫在 `return` 之後。"
   ]
  },
  {
   "cell_type": "code",
   "execution_count": 11,
   "metadata": {},
   "outputs": [],
   "source": [
    "def create_linear_logistic_regression() -> tuple:\n",
    "    \"\"\"\n",
    "    >>> linear_regression, logistic_regression = create_linear_logistic_regression()\n",
    "    >>> type(linear_regression)\n",
    "    sklearn.linear_model._base.LinearRegression\n",
    "    >>> type(logistic_regression)\n",
    "    sklearn.linear_model._logistic.LogisticRegression\n",
    "    \"\"\"\n",
    "    ### BEGIN SOLUTION\n",
    "    return LinearRegression(), LogisticRegression()\n",
    "    ### END SOLUTION"
   ]
  },
  {
   "cell_type": "markdown",
   "metadata": {},
   "source": [
    "## 練習題結束，以下儲存格為批改測試使用。"
   ]
  },
  {
   "cell_type": "code",
   "execution_count": 12,
   "metadata": {},
   "outputs": [
    {
     "name": "stderr",
     "output_type": "stream",
     "text": [
      "test_01_create_a_polynomial_feature (__main__.TestSklearn) ... ok\n",
      "test_02_create_polynomial_features_for_ndarray (__main__.TestSklearn) ... ok\n",
      "test_03_add_intercepts_for_ndarray (__main__.TestSklearn) ... ok\n",
      "test_04_create_a_standard_scaler (__main__.TestSklearn) ... ok\n",
      "test_05_standardize_a_ndarray (__main__.TestSklearn) ... ok\n",
      "test_06_get_standard_scalers_attributes (__main__.TestSklearn) ... ok\n",
      "test_07_create_a_minmax_scaler (__main__.TestSklearn) ... ok\n",
      "test_08_min_max_a_ndarray (__main__.TestSklearn) ... ok\n",
      "test_09_get_minmax_scalers_attributes (__main__.TestSklearn) ... ok\n",
      "test_10_create_linear_logistic_regression (__main__.TestSklearn) ... ok\n",
      "\n",
      "----------------------------------------------------------------------\n",
      "Ran 10 tests in 0.022s\n",
      "\n",
      "OK\n"
     ]
    }
   ],
   "source": [
    "class TestSklearn(unittest.TestCase):\n",
    "    def test_01_create_a_polynomial_feature(self):\n",
    "        a_polynomial_feature = create_a_polynomial_feature()\n",
    "        self.assertIsInstance(a_polynomial_feature, sklearn.preprocessing._polynomial.PolynomialFeatures)\n",
    "    def test_02_create_polynomial_features_for_ndarray(self):\n",
    "        input_ndarray = np.arange(10).reshape(-1, 1)\n",
    "        self.assertEqual(create_polynomial_features_for_ndarray(input_ndarray).shape, (10, 3))\n",
    "    def test_03_add_intercepts_for_ndarray(self):\n",
    "        input_ndarray = np.arange(10).reshape(-1, 1)\n",
    "        self.assertEqual(add_intercepts_for_ndarray(input_ndarray).shape, (10, 2))\n",
    "    def test_04_create_a_standard_scaler(self):\n",
    "        a_standard_scaler = create_a_standard_scaler()\n",
    "        self.assertIsInstance(a_standard_scaler, sklearn.preprocessing._data.StandardScaler)\n",
    "    def test_05_standardize_a_ndarray(self):\n",
    "        input_ndarray = np.arange(10).reshape(-1, 1)\n",
    "        self.assertEqual(standardize_a_ndarray(input_ndarray).shape, (10, 1))\n",
    "    def test_06_get_standard_scalers_attributes(self):\n",
    "        input_ndarray = np.arange(10).reshape(-1, 1)\n",
    "        mu, sigma = get_standard_scalers_attributes(input_ndarray)\n",
    "        self.assertTrue(mu >= 4.5)\n",
    "        self.assertTrue(sigma >= 2.8)\n",
    "    def test_07_create_a_minmax_scaler(self):\n",
    "        a_minmax_scaler = create_a_minmax_scaler()\n",
    "        self.assertIsInstance(a_minmax_scaler, sklearn.preprocessing._data.MinMaxScaler)\n",
    "    def test_08_min_max_a_ndarray(self):\n",
    "        input_ndarray = np.arange(10).reshape(-1, 1)\n",
    "        self.assertEqual(min_max_a_ndarray(input_ndarray).shape, (10, 1))\n",
    "    def test_09_get_minmax_scalers_attributes(self):\n",
    "        input_ndarray = np.arange(10).reshape(-1, 1)\n",
    "        Xmin, Xmax = get_minmax_scalers_attributes(input_ndarray)\n",
    "        self.assertAlmostEqual(Xmin, 0.0)\n",
    "        self.assertAlmostEqual(Xmax, 9.0)\n",
    "    def test_10_create_linear_logistic_regression(self):\n",
    "        linear_regression, logistic_regression = create_linear_logistic_regression()\n",
    "        self.assertIsInstance(linear_regression, sklearn.linear_model._base.LinearRegression)\n",
    "        self.assertIsInstance(logistic_regression, sklearn.linear_model._logistic.LogisticRegression)\n",
    "\n",
    "suite = unittest.TestLoader().loadTestsFromTestCase(TestSklearn)\n",
    "runner = unittest.TextTestRunner(verbosity=2)\n",
    "test_results = runner.run(suite)\n",
    "number_of_failures = len(test_results.failures)\n",
    "number_of_errors = len(test_results.errors)\n",
    "number_of_test_runs = test_results.testsRun\n",
    "number_of_successes = number_of_test_runs - (number_of_failures + number_of_errors)"
   ]
  },
  {
   "cell_type": "code",
   "execution_count": 13,
   "metadata": {},
   "outputs": [
    {
     "name": "stdout",
     "output_type": "stream",
     "text": [
      "你在資料科學模組 Scikit-Learn 入門的 10 個問題中答對了 10 題。\n"
     ]
    }
   ],
   "source": [
    "print(\"你在資料科學模組 Scikit-Learn 入門的 {} 個問題中答對了 {} 題。\".format(number_of_test_runs, number_of_successes))"
   ]
  }
 ],
 "metadata": {
  "kernelspec": {
   "display_name": "Python 3 (ipykernel)",
   "language": "python",
   "name": "python3"
  },
  "language_info": {
   "codemirror_mode": {
    "name": "ipython",
    "version": 3
   },
   "file_extension": ".py",
   "mimetype": "text/x-python",
   "name": "python",
   "nbconvert_exporter": "python",
   "pygments_lexer": "ipython3",
   "version": "3.11.4"
  }
 },
 "nbformat": 4,
 "nbformat_minor": 4
}
