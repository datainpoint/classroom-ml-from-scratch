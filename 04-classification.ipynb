{
 "cells": [
  {
   "cell_type": "markdown",
   "metadata": {
    "slideshow": {
     "slide_type": "slide"
    }
   },
   "source": [
    "# Python 機器學習從零至一 \n",
    "\n",
    "> 類別預測的任務\n",
    "\n",
    "[數據交點](https://www.datainpoint.com/) | 郭耀仁 <yaojenkuo@datainpoint.com>"
   ]
  },
  {
   "cell_type": "code",
   "execution_count": 1,
   "metadata": {
    "slideshow": {
     "slide_type": "subslide"
    }
   },
   "outputs": [],
   "source": [
    "import numpy as np\n",
    "import pandas as pd\n",
    "import matplotlib.pyplot as plt\n",
    "from sklearn.model_selection import train_test_split\n",
    "from sklearn.linear_model import LogisticRegression\n",
    "from sklearn.preprocessing import LabelEncoder\n",
    "from sklearn.preprocessing import OneHotEncoder\n",
    "from pyvizml import LogitReg"
   ]
  },
  {
   "cell_type": "markdown",
   "metadata": {
    "slideshow": {
     "slide_type": "slide"
    }
   },
   "source": [
    "## 關於類別預測的任務"
   ]
  },
  {
   "cell_type": "markdown",
   "metadata": {
    "slideshow": {
     "slide_type": "subslide"
    }
   },
   "source": [
    "## 類別預測的任務：分類器\n",
    "\n",
    "- 「類別預測」是「監督式學習」的其中一種應用類型。\n",
    "- 預測的目標向量 $y$ 屬於離散型的類別變數。\n",
    "- 更常被稱為「分類器」。"
   ]
  },
  {
   "cell_type": "markdown",
   "metadata": {
    "slideshow": {
     "slide_type": "subslide"
    }
   },
   "source": [
    "## 預測 NBA 球員的鋒衛位置\n",
    "\n",
    "- 資料（Experience）：一定數量的球員資料。\n",
    "- 任務（Task）：利用模型預測球員的是前鋒或後衛。\n",
    "- 評估（Performance）：模型預測的鋒衛位置與球員實際鋒衛位置的誤分類數。\n",
    "- 但書（Condition）：隨著資料觀測值筆數增加，預測誤分類數應該要減少。"
   ]
  },
  {
   "cell_type": "code",
   "execution_count": 2,
   "metadata": {
    "slideshow": {
     "slide_type": "subslide"
    }
   },
   "outputs": [
    {
     "data": {
      "text/plain": [
       "dtype('O')"
      ]
     },
     "execution_count": 2,
     "metadata": {},
     "output_type": "execute_result"
    }
   ],
   "source": [
    "# players_stats 資料中的 pos\n",
    "csv_url = \"https://raw.githubusercontent.com/yaojenkuo/ml-newbies/master/player_stats.csv\"\n",
    "player_stats = pd.read_csv(csv_url)\n",
    "y = player_stats[\"pos\"].values\n",
    "y.dtype"
   ]
  },
  {
   "cell_type": "markdown",
   "metadata": {
    "slideshow": {
     "slide_type": "subslide"
    }
   },
   "source": [
    "## `player_stats` 資料中的 `pos` 有 7 個不同的類別"
   ]
  },
  {
   "cell_type": "code",
   "execution_count": 3,
   "metadata": {},
   "outputs": [
    {
     "name": "stdout",
     "output_type": "stream",
     "text": [
      "['F' 'C' 'C-F' 'G' 'F-G' 'G-F' 'F-C']\n",
      "7\n"
     ]
    }
   ],
   "source": [
    "print(player_stats[\"pos\"].unique())\n",
    "print(player_stats[\"pos\"].nunique())"
   ]
  },
  {
   "cell_type": "markdown",
   "metadata": {
    "slideshow": {
     "slide_type": "subslide"
    }
   },
   "source": [
    "## 先將多元分類問題簡化為二元分類問題\n",
    "\n",
    "- 鋒衛位置分作後衛（G）與前鋒（F）。\n",
    "- 分別對應整數 0 與整數 1。"
   ]
  },
  {
   "cell_type": "code",
   "execution_count": 4,
   "metadata": {},
   "outputs": [
    {
     "data": {
      "text/plain": [
       "array([0, 1])"
      ]
     },
     "execution_count": 4,
     "metadata": {},
     "output_type": "execute_result"
    }
   ],
   "source": [
    "pos_binary = player_stats[\"pos\"].map(lambda x: 0 if x[0] == \"G\" else 1)\n",
    "y = pos_binary.values\n",
    "np.unique(y)"
   ]
  },
  {
   "cell_type": "markdown",
   "metadata": {
    "slideshow": {
     "slide_type": "subslide"
    }
   },
   "source": [
    "## 該如何預測 NBA 球員的鋒衛位置\n",
    "\n",
    "- 隨意猜測的黑猩猩模型。\n",
    "- 基於規則（Rule-based）的專家模型。\n",
    "- 基於最小化損失函數的機器學習模型。\n",
    "- ...等。"
   ]
  },
  {
   "cell_type": "markdown",
   "metadata": {
    "slideshow": {
     "slide_type": "subslide"
    }
   },
   "source": [
    "## 隨意猜測的黑猩猩模型\n",
    "\n",
    "像投擲硬幣一般決定整數 0 （後衛）或整數 1（前鋒）。"
   ]
  },
  {
   "cell_type": "code",
   "execution_count": 5,
   "metadata": {},
   "outputs": [],
   "source": [
    "y_train, y_valid = train_test_split(y, test_size=0.33, random_state=42)\n",
    "y_hat = np.random.randint(0, 2, size=y_valid.size)"
   ]
  },
  {
   "cell_type": "markdown",
   "metadata": {
    "slideshow": {
     "slide_type": "subslide"
    }
   },
   "source": [
    "## 評估隨意猜測的黑猩猩模型：誤分類數\n",
    "\n",
    "\\begin{equation}\n",
    "\\sum_{i}^{m} \\mid y^{(train)}_i \\neq \\hat{y_i}^{(train)} \\mid\n",
    "\\end{equation}"
   ]
  },
  {
   "cell_type": "code",
   "execution_count": 6,
   "metadata": {},
   "outputs": [
    {
     "data": {
      "text/plain": [
       "96"
      ]
     },
     "execution_count": 6,
     "metadata": {},
     "output_type": "execute_result"
    }
   ],
   "source": [
    "errors_chimp = np.sum(y_valid != y_hat)\n",
    "errors_chimp"
   ]
  },
  {
   "cell_type": "markdown",
   "metadata": {
    "slideshow": {
     "slide_type": "subslide"
    }
   },
   "source": [
    "## 基於規則的專家模型\n",
    "\n",
    "根據 NBA 球員的場均助攻數決定。"
   ]
  },
  {
   "cell_type": "code",
   "execution_count": 7,
   "metadata": {},
   "outputs": [],
   "source": [
    "mean_apg = player_stats[\"apg\"].mean()\n",
    "mean_apg_train_y_hat = player_stats[\"apg\"].map(lambda x: 0 if x > mean_apg else 1).values\n",
    "mean_apg_train, y_hat = train_test_split(mean_apg_train_y_hat, test_size=0.33, random_state=42)"
   ]
  },
  {
   "cell_type": "markdown",
   "metadata": {
    "slideshow": {
     "slide_type": "subslide"
    }
   },
   "source": [
    "## 評估基於規則的專家模型：誤分類數\n",
    "\n",
    "\\begin{equation}\n",
    "\\sum_{i}^{m} \\mid y^{(train)}_i \\neq \\hat{y_i}^{(train)} \\mid\n",
    "\\end{equation}"
   ]
  },
  {
   "cell_type": "code",
   "execution_count": 8,
   "metadata": {},
   "outputs": [
    {
     "data": {
      "text/plain": [
       "58"
      ]
     },
     "execution_count": 8,
     "metadata": {},
     "output_type": "execute_result"
    }
   ],
   "source": [
    "errors_expert = np.sum(y_valid != y_hat)\n",
    "errors_expert"
   ]
  },
  {
   "cell_type": "markdown",
   "metadata": {
    "slideshow": {
     "slide_type": "subslide"
    }
   },
   "source": [
    "## 基於最小化損失函數的機器學習模型\n",
    "\n",
    "將 `apg` 與 `rpg` 當作特徵矩陣 $X$ 作為鋒衛位置的預測依據。\n",
    "\n",
    "\\begin{equation}\n",
    "\\operatorname*{arg\\,min}_w \\; \\frac{1}{m}(-ylog(\\sigma(Xw)) - (1-y)log(1-\\sigma(Xw))) \\\\\n",
    "\\text{where} \\; \\sigma(x) = \\frac{1}{1 + e^{-x}}\n",
    "\\end{equation}"
   ]
  },
  {
   "cell_type": "code",
   "execution_count": 9,
   "metadata": {
    "slideshow": {
     "slide_type": "subslide"
    }
   },
   "outputs": [],
   "source": [
    "X = player_stats[[\"apg\", \"rpg\"]].values\n",
    "X_train, X_valid, y_train, y_valid = train_test_split(X, y, test_size=0.33, random_state=42)\n",
    "h = LogisticRegression(C=1e6)\n",
    "h.fit(X_train, y_train)\n",
    "y_hat = h.predict(X_valid)"
   ]
  },
  {
   "cell_type": "markdown",
   "metadata": {
    "slideshow": {
     "slide_type": "subslide"
    }
   },
   "source": [
    "## 指定參數 `C=1e6` 的用意\n",
    "\n",
    "- 參數 `C` 用來描述預測器的正規化（Regularization）程度。\n",
    "- 當 `C` 愈大表示正規化效果愈低，反之 `C` 愈小表示正規化效果愈高。\n",
    "- `LogisticRegression` 類別預設 `C=1` 這是具有正規化效果的參數設定。\n",
    "- 為了比較自訂演算方法的結果，得先將正規化效果降到很低。"
   ]
  },
  {
   "cell_type": "markdown",
   "metadata": {
    "slideshow": {
     "slide_type": "subslide"
    }
   },
   "source": [
    "## 評估基於最小化損失函數的機器學習模型：誤分類數\n",
    "\n",
    "\\begin{equation}\n",
    "\\sum_{i}^{m} \\mid y^{(train)}_i \\neq \\hat{y_i}^{(train)} \\mid\n",
    "\\end{equation}"
   ]
  },
  {
   "cell_type": "code",
   "execution_count": 10,
   "metadata": {},
   "outputs": [
    {
     "data": {
      "text/plain": [
       "28"
      ]
     },
     "execution_count": 10,
     "metadata": {},
     "output_type": "execute_result"
    }
   ],
   "source": [
    "errors_ml = np.sum(y_valid != y_hat)\n",
    "errors_ml"
   ]
  },
  {
   "cell_type": "markdown",
   "metadata": {
    "slideshow": {
     "slide_type": "subslide"
    }
   },
   "source": [
    "## 該如何預測 NBA 球員的鋒衛位置：考量哪個模型的誤分類數最少\n",
    "\n",
    "1. 機器學習模型。\n",
    "2. 專家模型。\n",
    "3. 黑猩猩模型。"
   ]
  },
  {
   "cell_type": "markdown",
   "metadata": {
    "slideshow": {
     "slide_type": "subslide"
    }
   },
   "source": [
    "## 在預測類別的前一步是預測機率\n",
    "\n",
    "\\begin{equation}\n",
    "\\hat{y} = 1, \\quad \\text{if} \\: \\hat{p}(y=1|X; w) \\geq \\hat{p}(y=0|X; w) \\\\\n",
    "\\hat{y} = 0, \\quad \\text{if} \\: \\hat{p}(y=1|X; w) < \\hat{p}(y=0|X; w)\n",
    "\\end{equation}"
   ]
  },
  {
   "cell_type": "markdown",
   "metadata": {
    "slideshow": {
     "slide_type": "slide"
    }
   },
   "source": [
    "## 預測機率"
   ]
  },
  {
   "cell_type": "markdown",
   "metadata": {
    "slideshow": {
     "slide_type": "subslide"
    }
   },
   "source": [
    "## 以 Scikit-Learn 定義好的預測器類別可以計算觀測值對應的預測機率"
   ]
  },
  {
   "cell_type": "code",
   "execution_count": 11,
   "metadata": {},
   "outputs": [
    {
     "data": {
      "text/plain": [
       "array([[2.74678390e-01, 7.25321610e-01],\n",
       "       [1.16629690e-01, 8.83370310e-01],\n",
       "       [9.78359330e-01, 2.16406695e-02],\n",
       "       [1.15906651e-01, 8.84093349e-01],\n",
       "       [1.38388626e-01, 8.61611374e-01],\n",
       "       [2.34224562e-01, 7.65775438e-01],\n",
       "       [1.01231447e-03, 9.98987686e-01],\n",
       "       [9.20769309e-01, 7.92306908e-02],\n",
       "       [2.61125517e-05, 9.99973887e-01],\n",
       "       [5.58066360e-01, 4.41933640e-01]])"
      ]
     },
     "execution_count": 11,
     "metadata": {},
     "output_type": "execute_result"
    }
   ],
   "source": [
    "p_hat = h.predict_proba(X_valid)\n",
    "p_hat[:10]"
   ]
  },
  {
   "cell_type": "markdown",
   "metadata": {
    "slideshow": {
     "slide_type": "subslide"
    }
   },
   "source": [
    "## 應用 `np.argmax()` 函數回傳最大的欄位數，就能夠得到 $\\hat{y}$"
   ]
  },
  {
   "cell_type": "code",
   "execution_count": 12,
   "metadata": {},
   "outputs": [
    {
     "data": {
      "text/plain": [
       "array([1, 1, 0, 1, 1, 1, 1, 0, 1, 0])"
      ]
     },
     "execution_count": 12,
     "metadata": {},
     "output_type": "execute_result"
    }
   ],
   "source": [
    "y_pred = np.argmax(p_hat, axis=1)\n",
    "y_pred[:10]"
   ]
  },
  {
   "cell_type": "markdown",
   "metadata": {
    "slideshow": {
     "slide_type": "subslide"
    }
   },
   "source": [
    "## 使用填滿等高線圖繪製決策邊界圖\n",
    "\n",
    "- 在所有球員的場均助攻 `apg` 與場均籃板 `rpg` 均勻切割 50 個資料點。\n",
    "- 在平面上可以對應出 2,500 個場均助攻和場均籃板的組合，每個組合都輸入 $h$ 得到一組機率組合 $\\hat{p}(y=1|X; w)$。\n",
    "- 將全部 2,500 個資料點的 $\\hat{p}(y=1|X; w)$ 視作海拔高度、場均助攻視作經度、場均籃板視作緯度，可以描繪出一個填滿等高線圖（Contour-filled plot）。"
   ]
  },
  {
   "cell_type": "code",
   "execution_count": 13,
   "metadata": {
    "slideshow": {
     "slide_type": "subslide"
    }
   },
   "outputs": [],
   "source": [
    "resolution = 50\n",
    "apg = player_stats['apg'].values\n",
    "rpg = player_stats['rpg'].values\n",
    "X1 = np.linspace(apg.min() - 0.5, apg.max() + 0.5, num=resolution).reshape(-1, 1)\n",
    "X2 = np.linspace(rpg.min() - 0.5, rpg.max() + 0.5, num=resolution).reshape(-1, 1)\n",
    "APG, RPG = np.meshgrid(X1, X2)"
   ]
  },
  {
   "cell_type": "code",
   "execution_count": 14,
   "metadata": {
    "slideshow": {
     "slide_type": "subslide"
    }
   },
   "outputs": [],
   "source": [
    "def plot_contour_filled(XX, YY, resolution=50):\n",
    "    PROBA = np.zeros((resolution, resolution))\n",
    "    for i in range(resolution):\n",
    "        for j in range(resolution):\n",
    "            xx_ij = XX[i, j]\n",
    "            yy_ij = YY[i, j]\n",
    "            X_plot = np.array([xx_ij, yy_ij]).reshape(1, -1)\n",
    "            z = h.predict_proba(X_plot)[0, 1]\n",
    "            PROBA[i, j] = z\n",
    "    fig, ax = plt.subplots()\n",
    "    CS = ax.contourf(XX, YY, PROBA, cmap='RdBu')\n",
    "    ax.set_title(\"Probability of being predicted as a forward\")\n",
    "    ax.set_xlabel(\"Assists per game\")\n",
    "    ax.set_ylabel(\"Rebounds per game\")\n",
    "    fig.colorbar(CS, ax=ax)\n",
    "    plt.show()"
   ]
  },
  {
   "cell_type": "code",
   "execution_count": 15,
   "metadata": {
    "slideshow": {
     "slide_type": "subslide"
    }
   },
   "outputs": [
    {
     "data": {
      "image/png": "[encoded data removed]",
      "text/plain": [
       "<Figure size 432x288 with 2 Axes>"
      ]
     },
     "metadata": {
      "needs_background": "light"
     },
     "output_type": "display_data"
    }
   ],
   "source": [
    "plot_contour_filled(APG, RPG)"
   ]
  },
  {
   "cell_type": "markdown",
   "metadata": {
    "slideshow": {
     "slide_type": "subslide"
    }
   },
   "source": [
    "## 觀察決策邊界圖\n",
    "\n",
    "- 場均籃板與被預測為前鋒的機率有正向的相關性。\n",
    "- 場均助攻與被預測為前鋒的機率有反向的相關性。\n",
    "- 擔任中鋒與大前鋒的球員比較擅長爭搶籃板球、擔任後衛的球員比較擅長傳球助攻。"
   ]
  },
  {
   "cell_type": "markdown",
   "metadata": {
    "slideshow": {
     "slide_type": "subslide"
    }
   },
   "source": [
    "## 帶狀區間稱作決策邊界（Decision boundary）\n",
    "\n",
    "- 決策邊界能夠隨著門檻（Threshold）設定往左上角或右下角移動，預設的門檻多半設定在 50%。\n",
    "- 由 $h$ 預測出的 $\\hat{p}$ 如果大於 50%，就輸出 $\\hat{y} = 1$，否則輸出 $\\hat{y} = 0$。"
   ]
  },
  {
   "cell_type": "code",
   "execution_count": 16,
   "metadata": {
    "slideshow": {
     "slide_type": "subslide"
    }
   },
   "outputs": [],
   "source": [
    "def plot_decision_boundary(XX, YY, x, y, target_vector, pos_dict, h, resolution=50):\n",
    "    Y_hat = np.zeros((resolution, resolution))\n",
    "    for i in range(resolution):\n",
    "        for j in range(resolution):\n",
    "            xx_ij = XX[i, j]\n",
    "            yy_ij = YY[i, j]\n",
    "            X_plot = np.array([xx_ij, yy_ij]).reshape(1, -1)\n",
    "            z = h.predict(X_plot)\n",
    "            Y_hat[i, j] = z\n",
    "    fig, ax = plt.subplots()\n",
    "    CS = ax.contourf(XX, YY, Y_hat, alpha=0.2, cmap='RdBu')\n",
    "    colors = ['red', 'blue']\n",
    "    unique_categories = np.unique(target_vector)\n",
    "    for color, i in zip(colors, unique_categories):\n",
    "        xi = x[target_vector == i]\n",
    "        yi = y[target_vector == i]\n",
    "        ax.scatter(xi, yi, c=color, edgecolor='k', label=\"{}\".format(pos_dict[i]), alpha=0.6)\n",
    "    ax.set_title(\"Decision boundary of Forwards vs. Guards\")\n",
    "    ax.set_xlabel(\"Assists per game\")\n",
    "    ax.set_ylabel(\"Rebounds per game\")\n",
    "    ax.legend()\n",
    "    plt.show()"
   ]
  },
  {
   "cell_type": "code",
   "execution_count": 17,
   "metadata": {
    "slideshow": {
     "slide_type": "subslide"
    }
   },
   "outputs": [
    {
     "data": {
      "image/png": "[encoded data removed]",
      "text/plain": [
       "<Figure size 432x288 with 1 Axes>"
      ]
     },
     "metadata": {
      "needs_background": "light"
     },
     "output_type": "display_data"
    }
   ],
   "source": [
    "position_dictionary = {\n",
    "    0: \"G\",\n",
    "    1: \"F\"\n",
    "}\n",
    "plot_decision_boundary(APG, RPG, apg, rpg, y, position_dictionary, h)"
   ]
  },
  {
   "cell_type": "markdown",
   "metadata": {
    "slideshow": {
     "slide_type": "subslide"
    }
   },
   "source": [
    "## 觀察誤分類觀測值\n",
    "\n",
    "- 藍色的資料點落在紅色的決策邊界（真實位置為前鋒、預測位置為後衛）。\n",
    "- 紅色的資料點落在藍色的決策邊界（真實位置為後衛、預測位置為前鋒）。"
   ]
  },
  {
   "cell_type": "markdown",
   "metadata": {
    "slideshow": {
     "slide_type": "subslide"
    }
   },
   "source": [
    "## 如何決定 `X_train` 與 `y_train` 之間的關聯 $w$\n",
    "\n",
    "- Scikit-Learn 預測器的關鍵：`fit()` 方法。\n",
    "- 梯度遞減（Gradient descent）。"
   ]
  },
  {
   "cell_type": "markdown",
   "metadata": {
    "slideshow": {
     "slide_type": "slide"
    }
   },
   "source": [
    "## 羅吉斯迴歸"
   ]
  },
  {
   "cell_type": "markdown",
   "metadata": {
    "slideshow": {
     "slide_type": "subslide"
    }
   },
   "source": [
    "## 承先啟後的橋樑\n",
    "\n",
    "- 羅吉斯迴歸（Logistic Regression）分類器能夠協助我們由數值預測過渡至類別預測的任務。\n",
    "- 欲得到類別預測 $\\hat{y}$ 必須先得到類別預測機率 $\\hat{p}$。"
   ]
  },
  {
   "cell_type": "markdown",
   "metadata": {
    "slideshow": {
     "slide_type": "subslide"
    }
   },
   "source": [
    "## Sigmoid 函數\n",
    "\n",
    "\\begin{equation}\n",
    "\\sigma(x) = \\frac{1}{1 + e^{-x}} \\\\\n",
    "\\hat{p} = \\sigma(Xw) = \\frac{1}{1 + e^{-Xw}}\n",
    "\\end{equation}"
   ]
  },
  {
   "cell_type": "code",
   "execution_count": 18,
   "metadata": {
    "slideshow": {
     "slide_type": "subslide"
    }
   },
   "outputs": [],
   "source": [
    "def sigmoid(x):\n",
    "    return(1 / (1 + np.exp(-x)))"
   ]
  },
  {
   "cell_type": "code",
   "execution_count": 19,
   "metadata": {
    "slideshow": {
     "slide_type": "subslide"
    }
   },
   "outputs": [],
   "source": [
    "def plot_sigmoid():\n",
    "    x = np.linspace(-6, 6, 100)\n",
    "    y = sigmoid(x)\n",
    "    fig = plt.figure()\n",
    "    ax = plt.axes()\n",
    "    ax.plot(x, y)\n",
    "    ax.axvline(0, color = 'black')\n",
    "    ax.axhline(y = 0, ls = ':', color = 'k', alpha = 0.5)\n",
    "    ax.axhline(y = 0.5, ls = ':', color = 'k', alpha = 0.5)\n",
    "    ax.axhline(y = 1, ls = ':', color = 'k', alpha = 0.5)\n",
    "    ax.set_yticks([0.0, 0.5, 1.0])\n",
    "    ax.set_ylim(-0.1, 1.1)\n",
    "    ax.set_title(\"Sigmoid function\")\n",
    "    plt.show()"
   ]
  },
  {
   "cell_type": "code",
   "execution_count": 20,
   "metadata": {
    "slideshow": {
     "slide_type": "subslide"
    }
   },
   "outputs": [
    {
     "data": {
      "image/png": "[encoded data removed]",
      "text/plain": [
       "<Figure size 432x288 with 1 Axes>"
      ]
     },
     "metadata": {
      "needs_background": "light"
     },
     "output_type": "display_data"
    }
   ],
   "source": [
    "plot_sigmoid()"
   ]
  },
  {
   "cell_type": "markdown",
   "metadata": {
    "slideshow": {
     "slide_type": "subslide"
    }
   },
   "source": [
    "## 將迴歸模型的輸出 $Xw$ 映射至 $[0, 1]$ 之間就能獲得 $\\hat{p}$\n",
    "\n",
    "- 依據門檻值獲得 $\\hat{y}$\n",
    "- 此處門檻值以常見的 50% 表示。\n",
    "\n",
    "\\begin{equation}\n",
    "\\hat{y} = 1, \\quad \\text{if} \\: \\hat{p} \\geq 0.5 \\\\\n",
    "\\hat{y} = 0, \\quad \\text{if} \\: \\hat{p} < 0.5\n",
    "\\end{equation}"
   ]
  },
  {
   "cell_type": "markdown",
   "metadata": {
    "slideshow": {
     "slide_type": "subslide"
    }
   },
   "source": [
    "## 資料與任務已經被定義妥善\n",
    "\n",
    "- 特徵矩陣 $X$\n",
    "- 目標向量 $y$\n",
    "- 係數向量 $w$\n",
    "- 任務：將 $X$ 輸入 $h$ 來預測 $\\hat{y}$，$h$ 的組成可以拆解成 Sigmoid 函數 $\\sigma$ 以及門檻值比較兩道程序。"
   ]
  },
  {
   "cell_type": "markdown",
   "metadata": {
    "slideshow": {
     "slide_type": "subslide"
    }
   },
   "source": [
    "## 將門檻值比較表示為階躍函式（Step function）\n",
    "\n",
    "\\begin{align}\n",
    "\\hat{y} &= h(X; w) \\\\\n",
    "&= \\chi(\\sigma(Xw))\n",
    "\\end{align}\n",
    "\n",
    "\\begin{equation}\n",
    "\\sigma(x) = \\frac{1}{1 + e^{-x}} \\\\\n",
    "\\chi(z) = 1, \\quad \\text{if} \\: z \\geq 0.5 \\\\\n",
    "\\chi(z) = 0, \\quad \\text{if} \\: z < 0.5\n",
    "\\end{equation}"
   ]
  },
  {
   "cell_type": "markdown",
   "metadata": {
    "slideshow": {
     "slide_type": "subslide"
    }
   },
   "source": [
    "## 定義評估\n",
    "\n",
    "評估 $h$ 的方法是計算 $\\hat{y}^{(train)}$ 與 $y^{(train)}$ 之間的誤分類數，誤分類數愈低，分類器的表現愈好。\n",
    "\n",
    "\\begin{equation}\n",
    "\\operatorname*{arg\\,min}_w \\sum_i \\mid \\hat{y}_i^{(train)} \\neq y_i^{(train)} \\mid\n",
    "\\end{equation}"
   ]
  },
  {
   "cell_type": "markdown",
   "metadata": {
    "slideshow": {
     "slide_type": "subslide"
    }
   },
   "source": [
    "## 使用交叉熵（Cross-entropy）作為損失函數 $J(w)$\n",
    "\n",
    "為了書寫方便，我們省略訓練資料的註記$(train)$。\n",
    "\n",
    "\\begin{equation}\n",
    "J(w) = -\\frac{1}{m}log(\\sigma(Xw)), \\quad \\text{if} \\: y = 1 \\\\\n",
    "J(w) = -\\frac{1}{m}log(1-\\sigma(Xw)), \\quad \\text{if} \\: y = 0\n",
    "\\end{equation}"
   ]
  },
  {
   "cell_type": "markdown",
   "metadata": {
    "slideshow": {
     "slide_type": "subslide"
    }
   },
   "source": [
    "## 交叉熵巧妙之處：讓誤分類的損失趨近無限大\n",
    "\n",
    "- 當真實的類別 $y$ 為 1，$\\sigma(Xw)$ 若離 0 比較近，預測為類別 0 的機率較高。\n",
    "- 當真實的類別 $y$ 為 0，$\\sigma(Xw)$ 若離 1 比較近，預測為類別 1 的機率較高。"
   ]
  },
  {
   "cell_type": "code",
   "execution_count": 21,
   "metadata": {
    "slideshow": {
     "slide_type": "subslide"
    }
   },
   "outputs": [],
   "source": [
    "def plot_cross_entropy():\n",
    "    epsilon = 1e-5\n",
    "    h = np.linspace(epsilon, 1-epsilon) # 利用微小值 epsilon 避免 log(0) 的錯誤\n",
    "    y1 = -np.log(h)\n",
    "    y2 = -np.log(1 - h)\n",
    "    fig, ax = plt.subplots(1, 2, figsize = (8, 4))\n",
    "    ax[0].plot(h, y1)\n",
    "    ax[0].set_title(\"$y=1$\\n$-\\log(\\sigma(Xw))$\")\n",
    "    ax[0].set_xticks([0, 1])\n",
    "    ax[0].set_xticklabels([0, 1])\n",
    "    ax[0].set_xlabel(\"$\\sigma(Xw)$\")\n",
    "    ax[1].plot(h, y2)\n",
    "    ax[1].set_title(\"$y=0$\\n$-\\log(1-\\sigma(Xw))$\")\n",
    "    ax[1].set_xticks([0, 1])\n",
    "    ax[1].set_xticklabels([0, 1])\n",
    "    ax[1].set_xlabel(\"$\\sigma(Xw)$\")\n",
    "    plt.tight_layout()\n",
    "    plt.show()"
   ]
  },
  {
   "cell_type": "code",
   "execution_count": 22,
   "metadata": {
    "slideshow": {
     "slide_type": "subslide"
    }
   },
   "outputs": [
    {
     "data": {
      "image/png": "[encoded data removed]",
      "text/plain": [
       "<Figure size 576x288 with 2 Axes>"
      ]
     },
     "metadata": {
      "needs_background": "light"
     },
     "output_type": "display_data"
    }
   ],
   "source": [
    "plot_cross_entropy()"
   ]
  },
  {
   "cell_type": "markdown",
   "metadata": {
    "slideshow": {
     "slide_type": "subslide"
    }
   },
   "source": [
    "## 將 $y$ 與 $1-y$ 加入 $J(w)$ 把兩個情境（$y=0$ 或 $y=1$）合而為一\n",
    "\n",
    "當 $y=1$ 時，$J(w)$ 只剩下前項；當 $y=0$ 時，$J(w)$ 只剩下後項。\n",
    "\n",
    "\\begin{equation}\n",
    "J(w) = \\frac{1}{m}(-ylog(\\sigma(Xw)) - (1-y)log(1-\\sigma(Xw)))\n",
    "\\end{equation}"
   ]
  },
  {
   "cell_type": "markdown",
   "metadata": {
    "slideshow": {
     "slide_type": "subslide"
    }
   },
   "source": [
    "## 運用梯度遞減找到係數向量 $w^*$\n",
    "\n",
    "\\begin{equation}\n",
    "w := w - \\alpha \\frac{\\partial J}{\\partial w}\n",
    "\\end{equation}"
   ]
  },
  {
   "cell_type": "markdown",
   "metadata": {
    "slideshow": {
     "slide_type": "subslide"
    }
   },
   "source": [
    "## 求解 $J(w)$ 關於 $w$ 的偏微分得具備三個先修知識\n",
    "\n",
    "1. 連鎖法則（Chain rule）。\n",
    "2. $e^{x}$ 關於 $x$ 的微分。\n",
    "3. $log(x)$ 關於 $x$ 的微分。"
   ]
  },
  {
   "cell_type": "markdown",
   "metadata": {
    "slideshow": {
     "slide_type": "subslide"
    }
   },
   "source": [
    "## $J(w)$ 是一個由多個不同函數複合而成的損失函數\n",
    "\n",
    "- 先是 Sigmoid 函數 $\\sigma$\n",
    "- 再來是 $log$ 函數。\n",
    "- 欲求解複合函式偏微分得仰賴連鎖法則。\n",
    "\n",
    "\\begin{align}\n",
    "(f\\circ g)(x) &= f(g(x)) \\\\\n",
    "(f\\circ g)'(x) &= f'(g(x))g'(x)\n",
    "\\end{align}"
   ]
  },
  {
   "cell_type": "markdown",
   "metadata": {
    "slideshow": {
     "slide_type": "subslide"
    }
   },
   "source": [
    "## $e^{x}$ 關於 $x$ 的微分\n",
    "\n",
    "\\begin{equation}\n",
    "\\frac{d}{dx}e^{x} = e^{x}\n",
    "\\end{equation}"
   ]
  },
  {
   "cell_type": "markdown",
   "metadata": {
    "slideshow": {
     "slide_type": "subslide"
    }
   },
   "source": [
    "## $log(x)$ 關於 $x$ 的微分\n",
    "\n",
    "\\begin{equation}\n",
    "\\frac{d}{dx}log(x) = \\frac{1}{x}\n",
    "\\end{equation}"
   ]
  },
  {
   "cell_type": "markdown",
   "metadata": {
    "slideshow": {
     "slide_type": "subslide"
    }
   },
   "source": [
    "## 推導 $J(w)$ 關於 $w$ 的偏微分\n",
    "\n",
    "\\begin{align}\n",
    "\\frac{\\partial}{\\partial w}J &= \\frac{\\partial}{\\partial w} (-ylog(\\sigma(Xw)) - (1-y)log(1-\\sigma(Xw))) \\\\\n",
    "&= -y\\frac{\\partial}{\\partial w}log(\\sigma(Xw)) - (1-y)\\frac{\\partial}{\\partial w}(log(1-\\sigma(Xw)))\n",
    "\\end{align}"
   ]
  },
  {
   "cell_type": "markdown",
   "metadata": {
    "slideshow": {
     "slide_type": "subslide"
    }
   },
   "source": [
    "## 首先計算 $log(\\sigma(Xw))$ 關於 $w$ 的微分\n",
    "\n",
    "\\begin{align}\n",
    "\\frac{\\partial}{\\partial w}log(\\sigma(Xw)) &= \\frac{\\partial}{\\partial w}log(\\sigma(Xw)) \\cdot \\frac{\\partial}{\\partial w}(\\sigma(Xw)) \\\\\n",
    "&= \\frac{1}{\\sigma(Xw)} \\cdot \\sigma'(Xw) \\cdot \\frac{\\partial}{\\partial w}Xw \\\\\n",
    "&= \\frac{1}{\\sigma(Xw)} \\cdot \\sigma'(Xw) \\cdot X\n",
    "\\end{align}"
   ]
  },
  {
   "cell_type": "markdown",
   "metadata": {
    "slideshow": {
     "slide_type": "subslide"
    }
   },
   "source": [
    "## 再計算 $log(1-\\sigma(Xw))$ 關於 $w$ 的微分\n",
    "\n",
    "\\begin{align}\n",
    "\\frac{\\partial}{\\partial w}log(1-\\sigma(Xw)) &= \\frac{\\partial}{\\partial w}log(1-\\sigma(Xw)) \\cdot \\frac{\\partial}{\\partial w}(1-\\sigma(Xw)) \\\\\n",
    "&=\\frac{1}{1-\\sigma(Xw)} \\cdot (-\\sigma'(Xw) \\cdot \\frac{\\partial}{\\partial w}Xw) \\\\\n",
    "&=\\frac{1}{1-\\sigma(Xw)} \\cdot (-\\sigma'(Xw) \\cdot X)\n",
    "\\end{align}"
   ]
  },
  {
   "cell_type": "markdown",
   "metadata": {
    "slideshow": {
     "slide_type": "subslide"
    }
   },
   "source": [
    "## 兩個部分都得先計算 $\\sigma'(Xw)$ 也就是 Sigmoid 函數關於 $w$ 的微分，才能繼續推導\n",
    "\n",
    "\\begin{align}\n",
    "\\sigma'(Xw) &= \\frac{\\partial}{\\partial w} \\frac{1}{1 + e^{-Xw}} = \\frac{\\partial}{\\partial w} (1 + e^{-Xw})^{-1} \\\\\n",
    "&= \\frac{-\\frac{\\partial}{\\partial w}(1 + e^{-Xw})}{(1 + e^{-Xw})^2}\n",
    "\\end{align}"
   ]
  },
  {
   "cell_type": "markdown",
   "metadata": {
    "slideshow": {
     "slide_type": "subslide"
    }
   },
   "source": [
    "## 分子部分我們先推導 $e^{-x}$ 關於 $x$ 的微分\n",
    "\n",
    "\\begin{equation}\n",
    "\\frac{d}{dx}e^{-x} = \\frac{d}{dx}\\frac{1}{e^x} = \\frac{-\\frac{d}{dx} e^x}{(e^x)^2} = \\frac{-e^x}{(e^x)^2} = \\frac{-1}{e^x} = -e^{-x}\n",
    "\\end{equation}"
   ]
  },
  {
   "cell_type": "markdown",
   "metadata": {
    "slideshow": {
     "slide_type": "subslide"
    }
   },
   "source": [
    "## 於是 $\\sigma'(Xw)$ 可以寫成\n",
    "\n",
    "\\begin{align}\n",
    "\\sigma'(Xw) &= \\frac{-\\frac{\\partial}{\\partial w}e^{-Xw}}{(1 + e^{-Xw})^2} = \\frac{e^{-Xw}}{(1 + e^{-Xw})^2} \\\\\n",
    "&= \\frac{e^{-Xw}}{(1 + e^{-Xw}) \\cdot (1 + e^{-Xw})}\n",
    "\\end{align}"
   ]
  },
  {
   "cell_type": "markdown",
   "metadata": {
    "slideshow": {
     "slide_type": "subslide"
    }
   },
   "source": [
    "## 這裡的推導有些狡猾，需要在分子設計一個 `+1-1`\n",
    "\n",
    "\\begin{align}\n",
    "\\sigma'(Xw) &= \\frac{e^{-Xw}}{(1 + e^{-Xw}) \\cdot (1 + e^{-Xw})} \\\\\n",
    "&= \\frac{1}{1 + e^{-Xw}} \\cdot \\frac{e^{-Xw} + 1 - 1}{1 + e^{-Xw}} = \\frac{1}{1 + e^{-Xw}} \\cdot ( \\frac{1 + e^{-Xw}}{1 + e^{-Xw}} - \\frac{1}{1 + e^{-Xw}}) \\\\\n",
    "&=\\frac{1}{1 + e^{-Xw}} \\cdot ( 1 - \\frac{1}{1 + e^{-Xw}}) \\\\\n",
    "&=\\sigma(Xw)(1-\\sigma(Xw))\n",
    "\\end{align}"
   ]
  },
  {
   "cell_type": "markdown",
   "metadata": {
    "slideshow": {
     "slide_type": "subslide"
    }
   },
   "source": [
    "## 推導出 $\\sigma'(Xw)$，再回去計算未完的兩個部分\n",
    "\n",
    "\\begin{align}\n",
    "\\frac{\\partial}{\\partial w}log(\\sigma(Xw)) &= \\frac{1}{\\sigma(Xw)} \\cdot \\sigma'(Xw) \\cdot X \\\\\n",
    "&= \\frac{1}{\\sigma(Xw)}\\sigma(Xw)(1-\\sigma(Xw))X \\\\\n",
    "&= (1-\\sigma(Xw))X\n",
    "\\end{align}\n",
    "\n",
    "\\begin{align}\n",
    "\\frac{\\partial}{\\partial w}log(1-\\sigma(Xw)) &= \\frac{1}{1-\\sigma(Xw)} \\cdot (-\\sigma'(Xw)) \\cdot X\\\\\n",
    "&=\\frac{1}{1-\\sigma(Xw)}(-(\\sigma(Xw)(1-\\sigma(Xw)))X) \\\\\n",
    "&=-\\sigma(Xw)X\n",
    "\\end{align}"
   ]
  },
  {
   "cell_type": "markdown",
   "metadata": {
    "slideshow": {
     "slide_type": "subslide"
    }
   },
   "source": [
    "## 最後回到 $J(w)$ 關於 $w$ 的偏微分\n",
    "\n",
    "\\begin{align}\n",
    "\\frac{\\partial J}{\\partial w} &= \\frac{1}{m}(-y(1-\\sigma(Xw))X - (1-y)(-\\sigma(Xw)X)) \\\\\n",
    "&=\\frac{1}{m}(-X^Ty + y\\sigma(Xw)X + X^T\\sigma(Xw) - y\\sigma(Xw)X) \\\\\n",
    "&=\\frac{1}{m}(-X^Ty + X^T\\sigma(Xw)) \\\\\n",
    "&=\\frac{1}{m}(X^T(\\sigma(Xw) - y))\n",
    "\\end{align}"
   ]
  },
  {
   "cell_type": "markdown",
   "metadata": {
    "slideshow": {
     "slide_type": "subslide"
    }
   },
   "source": [
    "## 梯度推導完畢\n",
    "\n",
    "在迭代過程中 $w$ 更新的方向性取決於梯度正負號，如果梯度為正，$w$ 會向左更新（減小）；如果梯度為負，$w$ 會向右更新（增大）。\n",
    "\n",
    "\\begin{equation}\n",
    "w := w - \\alpha \\frac{1}{m}(X^T(\\sigma(X^{(train)}w) - y^{(train)})) \\\\\n",
    "w := w - \\alpha \\frac{1}{m}(X^T(\\sigma(\\hat{y}^{(train)}) - y^{(train)}))\n",
    "\\end{equation}"
   ]
  },
  {
   "cell_type": "markdown",
   "metadata": {
    "slideshow": {
     "slide_type": "subslide"
    }
   },
   "source": [
    "## 自訂羅吉斯迴歸類別 LogitReg"
   ]
  },
  {
   "cell_type": "markdown",
   "metadata": {},
   "source": [
    "```python\n",
    "class LogitReg:\n",
    "    \"\"\"\n",
    "    This class defines the vanilla descent algorithm for logistic regression.\n",
    "    Args:\n",
    "        fit_intercept (bool): Whether to add intercept for this model.\n",
    "    \"\"\"\n",
    "    def __init__(self, fit_intercept=True):\n",
    "        self._fit_intercept = fit_intercept\n",
    "```"
   ]
  },
  {
   "cell_type": "markdown",
   "metadata": {
    "slideshow": {
     "slide_type": "subslide"
    }
   },
   "source": [
    "```python\n",
    "    def sigmoid(self, X):\n",
    "        \"\"\"\n",
    "        This function returns the Sigmoid output as a probability given certain model weights.\n",
    "        \"\"\"\n",
    "        X_w = np.dot(X, self._w)\n",
    "        p_hat = 1 / (1 + np.exp(-X_w))\n",
    "        return p_hat\n",
    "    def find_gradient(self):\n",
    "        \"\"\"\n",
    "        This function returns the gradient given certain model weights.\n",
    "        \"\"\"\n",
    "        m = self._m\n",
    "        p_hat = self.sigmoid(self._X_train)\n",
    "        X_train_T = np.transpose(self._X_train)\n",
    "        gradient = (1/m) * np.dot(X_train_T, p_hat - self._y_train)\n",
    "        return gradient\n",
    "```"
   ]
  },
  {
   "cell_type": "markdown",
   "metadata": {
    "slideshow": {
     "slide_type": "subslide"
    }
   },
   "source": [
    "```python\n",
    "    def cross_entropy(self, epsilon=1e-06):\n",
    "        \"\"\"\n",
    "        This function returns the cross entropy given certain model weights.\n",
    "        \"\"\"\n",
    "        m = self._m\n",
    "        p_hat = self.sigmoid(self._X_train)\n",
    "        cost_y1 = -np.dot(self._y_train, np.log(p_hat + epsilon))\n",
    "        cost_y0 = -np.dot(1 - self._y_train, np.log(1 - p_hat + epsilon))\n",
    "        cross_entropy = (cost_y1 + cost_y0) / m\n",
    "        return cross_entropy\n",
    "```"
   ]
  },
  {
   "cell_type": "markdown",
   "metadata": {
    "slideshow": {
     "slide_type": "subslide"
    }
   },
   "source": [
    "```python\n",
    "    def fit(self, X_train, y_train, epochs=10000, learning_rate=0.001):\n",
    "        \"\"\"\n",
    "        This function uses vanilla gradient descent to solve for weights of this model.\n",
    "        Args:\n",
    "            X_train (ndarray): 2d-array for feature matrix of training data.\n",
    "            y_train (ndarray): 1d-array for target vector of training data.\n",
    "            epochs (int): The number of iterations to update the model weights.\n",
    "            learning_rate (float): The learning rate of gradient descent.\n",
    "        \"\"\"\n",
    "        self._X_train = X_train.copy()\n",
    "        self._y_train = y_train.copy()\n",
    "        m = self._X_train.shape[0]\n",
    "        self._m = m\n",
    "        if self._fit_intercept:\n",
    "            X0 = np.ones((self._m, 1), dtype=float)\n",
    "            self._X_train = np.concatenate([X0, self._X_train], axis=1)\n",
    "        n = self._X_train.shape[1]\n",
    "        self._w = np.random.rand(n)\n",
    "        n_prints = 10\n",
    "        print_iter = epochs // n_prints\n",
    "        for i in range(epochs):\n",
    "            cross_entropy = self.cross_entropy()\n",
    "            gradient = self.find_gradient()\n",
    "            if i % print_iter == 0:\n",
    "                print(\"epoch: {:6} - loss: {:.6f}\".format(i, cross_entropy))\n",
    "            self._w -= learning_rate*gradient\n",
    "        w_ravel = self._w.ravel().copy()\n",
    "        self.intercept_ = w_ravel[0]\n",
    "        self.coef_ = w_ravel[1:].reshape(1, -1)\n",
    "```"
   ]
  },
  {
   "cell_type": "markdown",
   "metadata": {
    "slideshow": {
     "slide_type": "subslide"
    }
   },
   "source": [
    "```python\n",
    "    def predict_proba(self, X_test):\n",
    "        \"\"\"\n",
    "        This function returns predicted probability with weights of this model.\n",
    "        Args:\n",
    "            X_test (ndarray): 2d-array for feature matrix of test data.\n",
    "        \"\"\"\n",
    "        m = X_test.shape[0]\n",
    "        if self._fit_intercept:\n",
    "            X0 = np.ones((m, 1), dtype=float)\n",
    "            self._X_test = np.concatenate([X0, X_test], axis=1)\n",
    "        p_hat_1 = self.sigmoid(self._X_test).reshape(-1, 1)\n",
    "        p_hat_0 = 1 - p_hat_1\n",
    "        proba = np.concatenate([p_hat_0, p_hat_1], axis=1)\n",
    "        return proba\n",
    "    def predict(self, X_test):\n",
    "        \"\"\"\n",
    "        This function returns predicted label with weights of this model.\n",
    "        Args:\n",
    "            X_test (ndarray): 2d-array for feature matrix of test data.\n",
    "        \"\"\"\n",
    "        proba = self.predict_proba(X_test)\n",
    "        y_pred = np.argmax(proba, axis=1)\n",
    "        return y_pred\n",
    "```"
   ]
  },
  {
   "cell_type": "code",
   "execution_count": 23,
   "metadata": {
    "slideshow": {
     "slide_type": "subslide"
    }
   },
   "outputs": [
    {
     "name": "stdout",
     "output_type": "stream",
     "text": [
      "epoch:      0 - loss: 2.609462\n",
      "epoch:  10000 - loss: 0.313341\n",
      "epoch:  20000 - loss: 0.311938\n",
      "epoch:  30000 - loss: 0.311872\n",
      "epoch:  40000 - loss: 0.311868\n",
      "epoch:  50000 - loss: 0.311868\n",
      "epoch:  60000 - loss: 0.311868\n",
      "epoch:  70000 - loss: 0.311868\n",
      "epoch:  80000 - loss: 0.311868\n",
      "epoch:  90000 - loss: 0.311868\n"
     ]
    }
   ],
   "source": [
    "h = LogitReg()\n",
    "h.fit(X_train, y_train, 100000, 0.01)"
   ]
  },
  {
   "cell_type": "code",
   "execution_count": 24,
   "metadata": {
    "slideshow": {
     "slide_type": "subslide"
    }
   },
   "outputs": [
    {
     "data": {
      "text/plain": [
       "array([[0.27467951, 0.72532049],\n",
       "       [0.11663093, 0.88336907],\n",
       "       [0.97835931, 0.02164069],\n",
       "       [0.11590761, 0.88409239],\n",
       "       [0.13838955, 0.86161045]])"
      ]
     },
     "execution_count": 24,
     "metadata": {},
     "output_type": "execute_result"
    }
   ],
   "source": [
    "## 預測機率\n",
    "p_hat = h.predict_proba(X_valid)\n",
    "p_hat[:5]"
   ]
  },
  {
   "cell_type": "code",
   "execution_count": 25,
   "metadata": {
    "slideshow": {
     "slide_type": "subslide"
    }
   },
   "outputs": [
    {
     "name": "stdout",
     "output_type": "stream",
     "text": [
      "[1 1 0 1 1]\n",
      "['F', 'F', 'G', 'F', 'F']\n"
     ]
    }
   ],
   "source": [
    "## 預測類別\n",
    "y_hat = h.predict(X_valid)\n",
    "y_hat_label = [position_dictionary[y] for y in y_hat]\n",
    "print(y_hat[:5])\n",
    "print(y_hat_label[:5])"
   ]
  },
  {
   "cell_type": "markdown",
   "metadata": {
    "slideshow": {
     "slide_type": "slide"
    }
   },
   "source": [
    "## 二元分類延伸至多元分類"
   ]
  },
  {
   "cell_type": "markdown",
   "metadata": {
    "slideshow": {
     "slide_type": "subslide"
    }
   },
   "source": [
    "## 原始資料中球員的鋒衛位置不只分作前鋒（Forward, F）與後衛（Guard, G）亦有中鋒（Center, C），以及能夠勝任兩個位置的搖擺人（F-G、G-F）等"
   ]
  },
  {
   "cell_type": "code",
   "execution_count": 26,
   "metadata": {},
   "outputs": [
    {
     "name": "stdout",
     "output_type": "stream",
     "text": [
      "['C' 'C-F' 'F' 'F-C' 'F-G' 'G' 'G-F']\n",
      "7\n"
     ]
    }
   ],
   "source": [
    "pos = player_stats['pos'].values\n",
    "print(np.unique(pos))\n",
    "print(np.unique(pos).size)"
   ]
  },
  {
   "cell_type": "markdown",
   "metadata": {
    "slideshow": {
     "slide_type": "subslide"
    }
   },
   "source": [
    "## One versus rest(all)\n",
    "\n",
    "訓練 7 個羅吉斯迴歸分類器，每個鋒衛位置一個，輸出預測機率，再以 `np.argmax()` 函數決定預測類別。\n",
    "\n",
    "\\begin{align}\n",
    "\\hat{p}_{C} = \\hat{p}(y=0|X; w) = 1 - \\hat{p}(y \\neq 0|X; w) \\\\\n",
    "\\hat{p}_{C-F} = \\hat{p}(y=1|X; w) = 1 - \\hat{p}(y \\neq 1|X; w)  \\\\\n",
    "\\hat{p}_{F} = \\hat{p}(y=2|X; w) = 1 - \\hat{p}(y \\neq 2|X; w)  \\\\\n",
    "\\hat{p}_{F-C} = \\hat{p}(y=3|X; w) = 1 - \\hat{p}(y \\neq 3|X; w)  \\\\\n",
    "\\hat{p}_{F-G} = \\hat{p}(y=4|X; w) = 1 - \\hat{p}(y \\neq 4|X; w)  \\\\\n",
    "\\hat{p}_{G} = \\hat{p}(y=5|X; w) = 1 - \\hat{p}(y \\neq 5|X; w)  \\\\\n",
    "\\hat{p}_{G-F} = \\hat{p}(y=6|X; w) = 1 - \\hat{p}(y \\neq 6|X; w)  \\\\\n",
    "\\hat{p} = \\operatorname*{arg\\,max}_\\hat{p} (\\hat{p}_{C}, \\hat{p}_{C-F}, \\hat{p}_{F}, \\hat{p}_{F-C}, \\hat{p}_{F-G}, \\hat{p}_{G}, \\hat{p}_{G-F})\n",
    "\\end{align}"
   ]
  },
  {
   "cell_type": "code",
   "execution_count": 27,
   "metadata": {
    "slideshow": {
     "slide_type": "subslide"
    }
   },
   "outputs": [
    {
     "name": "stdout",
     "output_type": "stream",
     "text": [
      "{0: 'F', 1: 'C', 2: 'C-F', 3: 'G', 4: 'F-G', 5: 'G-F', 6: 'F-C'}\n",
      "{'F': 0, 'C': 1, 'C-F': 2, 'G': 3, 'F-G': 4, 'G-F': 5, 'F-C': 6}\n",
      "[0 1 2 3 4 5 6]\n"
     ]
    }
   ],
   "source": [
    "unique_pos = player_stats['pos'].unique()\n",
    "position_dictionary = {i: p for i, p in enumerate(unique_pos)}\n",
    "position_dictionary_reversed = {v: k for k, v in position_dictionary.items()}\n",
    "pos_multiple = player_stats['pos'].map(position_dictionary_reversed)\n",
    "print(position_dictionary)\n",
    "print(position_dictionary_reversed)\n",
    "print(np.unique(pos_multiple))"
   ]
  },
  {
   "cell_type": "markdown",
   "metadata": {
    "slideshow": {
     "slide_type": "subslide"
    }
   },
   "source": [
    "## 使用 Scikit-Learn 的 `LogisticRegression` 類別\n",
    "\n",
    "- 在初始化時加入參數 `multi_class='ovr'` 就能面對多元分類問題。\n",
    "- `predict_proba()` 方法輸出的陣列外觀為 `(m, n)`\n",
    "- 第 0 欄是預測為類別 0（C）的機率 $\\hat{p}(y=0|X; w)$、第 6 欄是預測為類別 6（G-F）的機率 $\\hat{p}(y=6|X; w)$"
   ]
  },
  {
   "cell_type": "code",
   "execution_count": 28,
   "metadata": {},
   "outputs": [
    {
     "data": {
      "text/plain": [
       "array([[0.40490237, 0.05139398, 0.03792722, 0.17546325, 0.07148895,\n",
       "        0.15986192, 0.09896231],\n",
       "       [0.45200637, 0.04492365, 0.03064291, 0.0732397 , 0.15789498,\n",
       "        0.14802604, 0.09326636],\n",
       "       [0.09274404, 0.00171049, 0.00230149, 0.74709532, 0.04019746,\n",
       "        0.10681607, 0.00913514],\n",
       "       [0.45609092, 0.06556372, 0.04355099, 0.07432653, 0.09877039,\n",
       "        0.14627007, 0.11542738],\n",
       "       [0.44521517, 0.07057772, 0.04748706, 0.08869962, 0.07985894,\n",
       "        0.14832071, 0.11984079]])"
      ]
     },
     "execution_count": 28,
     "metadata": {},
     "output_type": "execute_result"
    }
   ],
   "source": [
    "X = player_stats[['apg', 'rpg']].values\n",
    "y = pos_multiple\n",
    "X_train, X_valid, y_train, y_valid = train_test_split(X, y, test_size=0.33, random_state=42)\n",
    "h = LogisticRegression(C=1e6, multi_class='ovr')\n",
    "h.fit(X_train, y_train)\n",
    "p_hat = h.predict_proba(X_valid)\n",
    "p_hat[:5]"
   ]
  },
  {
   "cell_type": "markdown",
   "metadata": {
    "slideshow": {
     "slide_type": "subslide"
    }
   },
   "source": [
    "## 應用 `np.argmax()` 函數回傳最大的欄位數，就能夠得到 $\\hat{y}$"
   ]
  },
  {
   "cell_type": "code",
   "execution_count": 29,
   "metadata": {},
   "outputs": [
    {
     "data": {
      "text/plain": [
       "array([0, 0, 3, 0, 0])"
      ]
     },
     "execution_count": 29,
     "metadata": {},
     "output_type": "execute_result"
    }
   ],
   "source": [
    "y_hat = np.argmax(p_hat, axis=1)\n",
    "y_hat[:5]"
   ]
  },
  {
   "cell_type": "markdown",
   "metadata": {
    "slideshow": {
     "slide_type": "subslide"
    }
   },
   "source": [
    "## 將整數對應回鋒衛位置的文字外觀"
   ]
  },
  {
   "cell_type": "code",
   "execution_count": 30,
   "metadata": {},
   "outputs": [
    {
     "data": {
      "text/plain": [
       "['F', 'F', 'G', 'F', 'F']"
      ]
     },
     "execution_count": 30,
     "metadata": {},
     "output_type": "execute_result"
    }
   ],
   "source": [
    "y_hat_label = [position_dictionary[i] for i in y_hat]\n",
    "y_hat_label[:5]"
   ]
  },
  {
   "cell_type": "markdown",
   "metadata": {
    "slideshow": {
     "slide_type": "slide"
    }
   },
   "source": [
    "## 兩種表示類別向量的形式"
   ]
  },
  {
   "cell_type": "markdown",
   "metadata": {
    "slideshow": {
     "slide_type": "subslide"
    }
   },
   "source": [
    "## 標籤編碼（Label encoder）\n",
    "\n",
    "將類別變數的獨一值用 0 到 `n_classes - 1` 的整數表示，可以使用 Scikit-Learn 中的 `LabelEncoder` 轉換。"
   ]
  },
  {
   "cell_type": "code",
   "execution_count": 31,
   "metadata": {
    "slideshow": {
     "slide_type": "subslide"
    }
   },
   "outputs": [
    {
     "name": "stdout",
     "output_type": "stream",
     "text": [
      "['F' 'C' 'C-F' 'G' 'G' 'G' 'C' 'F' 'F-G' 'F']\n",
      "[2 0 1 5 5 5 0 2 4 2]\n"
     ]
    }
   ],
   "source": [
    "le = LabelEncoder()\n",
    "pos = player_stats['pos'].values\n",
    "pos_le = le.fit_transform(pos)\n",
    "print(pos[:10])\n",
    "print(pos_le[:10])"
   ]
  },
  {
   "cell_type": "markdown",
   "metadata": {
    "slideshow": {
     "slide_type": "subslide"
    }
   },
   "source": [
    "## 獨熱編碼（One-hot encoder）\n",
    "\n",
    "將類別變數的獨一值用 `(m, n_classes)` 的稀疏矩陣表示，用 `1` 標註是該類，其餘欄位則用 `0` 標註不是該類，可以使用 Scikit-Learn 中的 `OneHotEncoder` 轉換。"
   ]
  },
  {
   "cell_type": "code",
   "execution_count": 32,
   "metadata": {
    "slideshow": {
     "slide_type": "subslide"
    }
   },
   "outputs": [
    {
     "name": "stdout",
     "output_type": "stream",
     "text": [
      "['F' 'C' 'C-F' 'G' 'G' 'G' 'C' 'F' 'F-G' 'F']\n",
      "[[0. 0. 1. 0. 0. 0. 0.]\n",
      " [1. 0. 0. 0. 0. 0. 0.]\n",
      " [0. 1. 0. 0. 0. 0. 0.]\n",
      " [0. 0. 0. 0. 0. 1. 0.]\n",
      " [0. 0. 0. 0. 0. 1. 0.]\n",
      " [0. 0. 0. 0. 0. 1. 0.]\n",
      " [1. 0. 0. 0. 0. 0. 0.]\n",
      " [0. 0. 1. 0. 0. 0. 0.]\n",
      " [0. 0. 0. 0. 1. 0. 0.]\n",
      " [0. 0. 1. 0. 0. 0. 0.]]\n"
     ]
    }
   ],
   "source": [
    "ohe = OneHotEncoder()\n",
    "pos_ohe = ohe.fit_transform(pos.reshape(-1, 1)).toarray()\n",
    "print(pos[:10])\n",
    "print(pos_ohe[:10])"
   ]
  },
  {
   "cell_type": "markdown",
   "metadata": {
    "slideshow": {
     "slide_type": "subslide"
    }
   },
   "source": [
    "## 標籤編碼與獨熱編碼\n",
    "\n",
    "- 標籤編碼適合應用於具有量值層級意義、有排列順序的類別變數（例如冷熱可以對應溫度、快慢可以對應速度）與二元分類的情境。\n",
    "- 獨熱編碼適合應用於一般無排列順序的類別變數以及多元分類的情境。"
   ]
  }
 ],
 "metadata": {
  "celltoolbar": "Slideshow",
  "kernelspec": {
   "display_name": "ML from Scratch",
   "language": "python",
   "name": "mlfromscratch"
  },
  "language_info": {
   "codemirror_mode": {
    "name": "ipython",
    "version": 3
   },
   "file_extension": ".py",
   "mimetype": "text/x-python",
   "name": "python",
   "nbconvert_exporter": "python",
   "pygments_lexer": "ipython3",
   "version": "3.8.12"
  }
 },
 "nbformat": 4,
 "nbformat_minor": 4
}
