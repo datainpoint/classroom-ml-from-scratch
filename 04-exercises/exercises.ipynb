{
 "cells": [
  {
   "cell_type": "markdown",
   "metadata": {
    "deletable": false
   },
   "source": [
    "# Python 機器學習從零至一 \n",
    "\n",
    "> 類別預測的任務\n",
    "\n",
    "[數據交點](https://www.datainpoint.com) | 郭耀仁 <yaojenkuo@datainpoint.com>"
   ]
  },
  {
   "cell_type": "code",
   "execution_count": null,
   "metadata": {
    "deletable": false
   },
   "outputs": [],
   "source": [
    "import numpy as np\n",
    "import pandas as pd\n",
    "from sklearn.linear_model import LogisticRegression"
   ]
  },
  {
   "cell_type": "markdown",
   "metadata": {},
   "source": [
    "## Instructions\n",
    "\n",
    "- The assignment will be disconnected if idling over 10 minutes, we can reactivate a new session by clicking the assignment link again.\n",
    "- We've imported necessary modules at the top of each assignment.\n",
    "- We've put necessary files(if any) in `/home/jovyan/data`.\n",
    "- We've defined the names of functions/inputs/parameters for you.\n",
    "- Write down your solution between the comments `### BEGIN SOLUTION` and `### END SOLUTION`.\n",
    "- It is NECESSARY to `return` the answer, tests will fail by just printing out the answer.\n",
    "- It is known that `SyntaxError` and `IndentationError` might break our `test_runner.py` and results in a zero point grade. It is highly recommended testing your solution by calling functions/methods in notebook or running tests before submission.\n",
    "- Running tests to see if your solutions are right:\n",
    "    - File -> Save Notebook to save `exercises.ipynb`.\n",
    "    - File -> New -> Terminal to open a Terminal.\n",
    "    - Use command `python 04-exercises/test_runner.py` to run test."
   ]
  },
  {
   "cell_type": "markdown",
   "metadata": {},
   "source": [
    "## 01. Given `/home/jovyan/data/titanic/test.csv` and `/home/jovyan/data/titanic/train.csv`, create a chimp model to predict `Survived` for each observation in `test.csv`.\n",
    "\n",
    "- Expected inputs: None.\n",
    "- Expected outputs: `ndarray`."
   ]
  },
  {
   "cell_type": "code",
   "execution_count": null,
   "metadata": {},
   "outputs": [],
   "source": [
    "def predict_survived_chimp_model() -> np.ndarray:\n",
    "    \"\"\"\n",
    "    >>> survived_chimp_model = predict_survived_chimp_model()\n",
    "    >>> type(survived_chimp_model)\n",
    "    'numpy.ndarray'\n",
    "    >>> survived_chimp_model.shape\n",
    "    (418,)\n",
    "    \"\"\"\n",
    "    ### BEGIN SOLUTION\n",
    "    \n",
    "    ### END SOLUTION"
   ]
  },
  {
   "cell_type": "markdown",
   "metadata": {},
   "source": [
    "## 02. Given `/home/jovyan/data/titanic/test.csv` and `/home/jovyan/data/titanic/train.csv`, create an expert model to predict `Survived` according to `Sex` and `Age` for each observation in `test.csv`.\n",
    "\n",
    "- Expected inputs: None.\n",
    "- Expected outputs: `ndarray`."
   ]
  },
  {
   "cell_type": "code",
   "execution_count": null,
   "metadata": {},
   "outputs": [],
   "source": [
    "def predict_survived_expert_model() -> np.ndarray:\n",
    "    \"\"\"\n",
    "    >>> survived_expert_model = predict_survived_expert_model()\n",
    "    >>> type(survived_expert_model)\n",
    "    'numpy.ndarray'\n",
    "    >>> survived_expert_model.shape\n",
    "    (418,)\n",
    "    \"\"\"\n",
    "    ### BEGIN SOLUTION\n",
    "    \n",
    "    ### END SOLUTION"
   ]
  },
  {
   "cell_type": "markdown",
   "metadata": {},
   "source": [
    "## 03. Given `/home/jovyan/data/titanic/train.csv`, extract `Pclass`, `Sex`, and `Age` as the feature matrix and apply Scikit-Learn's `LogisticRegression` to predict `Survived` with `C=1e6`. Return the intercept and coefficients in an array.\n",
    "\n",
    "- Expected inputs: None.\n",
    "- Expected outputs: `ndarray`."
   ]
  },
  {
   "cell_type": "code",
   "execution_count": null,
   "metadata": {},
   "outputs": [],
   "source": [
    "def predict_survived_sklearn_model() -> np.ndarray:\n",
    "    \"\"\"\n",
    "    >>> survived_sklearn_model = predict_survived_sklearn_model()\n",
    "    >>> type(survived_sklearn_model)\n",
    "    'numpy.ndarray'\n",
    "    >>> survived_sklearn_model\n",
    "    array([ 4.73195566, -1.16846277, -2.61196369, -0.03342722])\n",
    "    \"\"\"\n",
    "    ### BEGIN SOLUTION\n",
    "    \n",
    "    ### END SOLUTION"
   ]
  },
  {
   "cell_type": "markdown",
   "metadata": {},
   "source": [
    "## 04. Given `/home/jovyan/data/titanic/train.csv`, extract `Pclass`, `Sex`, and `Age` as the feature matrix and apply self-defined gradient descent model to predict `Survived`. Return the intercept and coefficients in an array.\n",
    "\n",
    "- Expected inputs: None.\n",
    "- Expected outputs: `ndarray`."
   ]
  },
  {
   "cell_type": "code",
   "execution_count": null,
   "metadata": {},
   "outputs": [],
   "source": [
    "def predict_survived_gradient_descent_model() -> np.ndarray:\n",
    "    \"\"\"\n",
    "    >>> survived_gradient_descent_model = predict_survived_gradient_descent_model()\n",
    "    >>> type(survived_gradient_descent_model)\n",
    "    'numpy.ndarray'\n",
    "    >>> survived_gradient_descent_model.size\n",
    "    (4,)\n",
    "    >>> survived_gradient_descent_model[1] < 0\n",
    "    True\n",
    "    >>> survived_gradient_descent_model[2] < 0\n",
    "    True\n",
    "    >>> survived_gradient_descent_model[3] < 0\n",
    "    True\n",
    "    \"\"\"\n",
    "    ### BEGIN SOLUTION\n",
    "    \n",
    "    ### END SOLUTION"
   ]
  }
 ],
 "metadata": {
  "kernelspec": {
   "display_name": "ML from Scratch",
   "language": "python",
   "name": "mlfromscratch"
  },
  "language_info": {
   "codemirror_mode": {
    "name": "ipython",
    "version": 3
   },
   "file_extension": ".py",
   "mimetype": "text/x-python",
   "name": "python",
   "nbconvert_exporter": "python",
   "pygments_lexer": "ipython3",
   "version": "3.8.12"
  }
 },
 "nbformat": 4,
 "nbformat_minor": 4
}
