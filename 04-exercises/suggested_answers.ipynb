{
 "cells": [
  {
   "cell_type": "markdown",
   "metadata": {
    "deletable": false
   },
   "source": [
    "# Python 機器學習從零至一 \n",
    "\n",
    "> 類別預測的任務\n",
    "\n",
    "[數據交點](https://www.datainpoint.com) | 郭耀仁 <yaojenkuo@datainpoint.com>"
   ]
  },
  {
   "cell_type": "code",
   "execution_count": 1,
   "metadata": {
    "deletable": false
   },
   "outputs": [],
   "source": [
    "import numpy as np\n",
    "import pandas as pd\n",
    "from sklearn.linear_model import LogisticRegression"
   ]
  },
  {
   "cell_type": "markdown",
   "metadata": {},
   "source": [
    "## Instructions\n",
    "\n",
    "- The assignment will be disconnected if idling over 10 minutes, we can reactivate a new session by clicking the assignment link again.\n",
    "- We've imported necessary modules at the top of each assignment.\n",
    "- We've put necessary files(if any) in `/home/jovyan/data`.\n",
    "- We've defined the names of functions/inputs/parameters for you.\n",
    "- Write down your solution between the comments `### BEGIN SOLUTION` and `### END SOLUTION`.\n",
    "- It is NECESSARY to `return` the answer, tests will fail by just printing out the answer.\n",
    "- It is known that `SyntaxError` and `IndentationError` might break our `test_runner.py` and results in a zero point grade. It is highly recommended testing your solution by calling functions/methods in notebook or running tests before submission.\n",
    "- Running tests to see if your solutions are right:\n",
    "    - File -> Save Notebook to save `exercises.ipynb`.\n",
    "    - File -> New -> Terminal to open a Terminal.\n",
    "    - Use command `python 04-exercises/test_runner.py` to run test."
   ]
  },
  {
   "cell_type": "markdown",
   "metadata": {},
   "source": [
    "## 01. Given `/home/jovyan/data/titanic/test.csv` and `/home/jovyan/data/titanic/train.csv`, create a chimp model to predict `Survived` for each observation in `test.csv`.\n",
    "\n",
    "- Expected inputs: None.\n",
    "- Expected outputs: `ndarray`."
   ]
  },
  {
   "cell_type": "code",
   "execution_count": 2,
   "metadata": {},
   "outputs": [],
   "source": [
    "def predict_survived_chimp_model() -> np.ndarray:\n",
    "    \"\"\"\n",
    "    >>> survived_chimp_model = predict_survived_chimp_model()\n",
    "    >>> type(survived_chimp_model)\n",
    "    'numpy.ndarray'\n",
    "    >>> survived_chimp_model.shape\n",
    "    (418,)\n",
    "    \"\"\"\n",
    "    ### BEGIN SOLUTION\n",
    "    test = pd.read_csv(\"/home/jovyan/data/titanic/test.csv\")\n",
    "    m = test.shape[0]\n",
    "    y_hat = np.random.randint(low=0, high=2, size=m)\n",
    "    return y_hat\n",
    "    ### END SOLUTION"
   ]
  },
  {
   "cell_type": "markdown",
   "metadata": {},
   "source": [
    "## 02. Given `/home/jovyan/data/titanic/test.csv` and `/home/jovyan/data/titanic/train.csv`, create an expert model to predict `Survived` according to `Sex` and `Age` for each observation in `test.csv`.\n",
    "\n",
    "- Expected inputs: None.\n",
    "- Expected outputs: `ndarray`."
   ]
  },
  {
   "cell_type": "code",
   "execution_count": 3,
   "metadata": {},
   "outputs": [],
   "source": [
    "def predict_survived_expert_model() -> np.ndarray:\n",
    "    \"\"\"\n",
    "    >>> survived_expert_model = predict_survived_expert_model()\n",
    "    >>> type(survived_expert_model)\n",
    "    'numpy.ndarray'\n",
    "    >>> survived_expert_model.shape\n",
    "    (418,)\n",
    "    \"\"\"\n",
    "    ### BEGIN SOLUTION\n",
    "    test = pd.read_csv(\"/home/jovyan/data/titanic/test.csv\")\n",
    "    y_hat = []\n",
    "    for sex, age in zip(test[\"Sex\"], test[\"Age\"]):\n",
    "        if sex == \"female\" or age < 12:\n",
    "            y_hat.append(1)\n",
    "        else:\n",
    "            y_hat.append(0)\n",
    "    return np.array(y_hat)\n",
    "    ### END SOLUTION"
   ]
  },
  {
   "cell_type": "markdown",
   "metadata": {},
   "source": [
    "## 03. Given `/home/jovyan/data/titanic/train.csv`, extract `Pclass`, `Sex`, and `Age` as the feature matrix and apply Scikit-Learn's `LogisticRegression` to predict `Survived` with `C=1e6`. Return the intercept and coefficients in an array.\n",
    "\n",
    "- Expected inputs: None.\n",
    "- Expected outputs: `ndarray`."
   ]
  },
  {
   "cell_type": "code",
   "execution_count": 4,
   "metadata": {},
   "outputs": [],
   "source": [
    "def predict_survived_sklearn_model() -> np.ndarray:\n",
    "    \"\"\"\n",
    "    >>> survived_sklearn_model = predict_survived_sklearn_model()\n",
    "    >>> type(survived_sklearn_model)\n",
    "    'numpy.ndarray'\n",
    "    >>> survived_sklearn_model\n",
    "    array([ 4.73195566, -1.16846277, -2.61196369, -0.03342722])\n",
    "    \"\"\"\n",
    "    ### BEGIN SOLUTION\n",
    "    train = pd.read_csv(\"/home/jovyan/data/titanic/train.csv\")\n",
    "    # Sex\n",
    "    sex_dict = {\n",
    "        \"female\": 0,\n",
    "        \"male\": 1\n",
    "    }\n",
    "    train_sex_int = train[\"Sex\"].map(sex_dict).values\n",
    "    # Age\n",
    "    age_mean = train[\"Age\"].mean()\n",
    "    train_age_filled = train[\"Age\"].fillna(age_mean).values.reshape(-1, 1)\n",
    "    X = np.concatenate((train[\"Pclass\"].values.reshape(-1, 1),\n",
    "                        train_sex_int.reshape(-1, 1),\n",
    "                        train_age_filled), axis=1)\n",
    "    y = train[\"Survived\"].values\n",
    "    model = LogisticRegression(C=1e6)\n",
    "    model.fit(X, y)\n",
    "    w = model.coef_\n",
    "    w = np.insert(w, 0, model.intercept_)\n",
    "    return w\n",
    "    ### END SOLUTION"
   ]
  },
  {
   "cell_type": "markdown",
   "metadata": {},
   "source": [
    "## 04. Given `/home/jovyan/data/titanic/train.csv`, extract `Pclass`, `Sex`, and `Age` as the feature matrix and apply self-defined gradient descent model to predict `Survived`. Return the intercept and coefficients in an array.\n",
    "\n",
    "- Expected inputs: None.\n",
    "- Expected outputs: `ndarray`."
   ]
  },
  {
   "cell_type": "code",
   "execution_count": 5,
   "metadata": {},
   "outputs": [],
   "source": [
    "def predict_survived_gradient_descent_model() -> np.ndarray:\n",
    "    \"\"\"\n",
    "    >>> survived_gradient_descent_model = predict_survived_gradient_descent_model()\n",
    "    >>> type(survived_gradient_descent_model)\n",
    "    'numpy.ndarray'\n",
    "    >>> survived_gradient_descent_model.size\n",
    "    (4,)\n",
    "    >>> survived_gradient_descent_model[1] < 0\n",
    "    True\n",
    "    >>> survived_gradient_descent_model[2] < 0\n",
    "    True\n",
    "    >>> survived_gradient_descent_model[3] < 0\n",
    "    True\n",
    "    \"\"\"\n",
    "    ### BEGIN SOLUTION\n",
    "    train = pd.read_csv(\"/home/jovyan/data/titanic/train.csv\")\n",
    "    # Sex\n",
    "    sex_dict = {\n",
    "        \"female\": 0,\n",
    "        \"male\": 1\n",
    "    }\n",
    "    train_sex_int = train[\"Sex\"].map(sex_dict).values\n",
    "    # Age\n",
    "    age_mean = train[\"Age\"].mean()\n",
    "    train_age_filled = train[\"Age\"].fillna(age_mean).values.reshape(-1, 1)\n",
    "    X = np.concatenate((train[\"Pclass\"].values.reshape(-1, 1),\n",
    "                        train_sex_int.reshape(-1, 1),\n",
    "                        train_age_filled), axis=1)\n",
    "    y = train[\"Survived\"].values\n",
    "    m = X.shape[0]\n",
    "    intercepts = np.ones(m).reshape(-1, 1)\n",
    "    X = np.concatenate((intercepts, X), axis=1)\n",
    "    n = X.shape[1]\n",
    "    w = np.random.rand(n)\n",
    "    epochs = 50000\n",
    "    learning_rate = 0.01\n",
    "    epsilon = 1e-6\n",
    "    for i in range(epochs):\n",
    "        X_w = np.dot(X, w)\n",
    "        p_hat = 1 / (1 + np.exp(-X_w))\n",
    "        cost_y1 = -np.dot(y, np.log(p_hat + epsilon))\n",
    "        cost_y0 = -np.dot(1 - y, np.log(1 - p_hat + epsilon))\n",
    "        cross_entropy = (cost_y1 + cost_y0) / m\n",
    "        X_T = np.transpose(X)\n",
    "        gradient = (1/m) * np.dot(X_T, p_hat - y)\n",
    "        if i % 5000 == 0:\n",
    "            print(\"epoch: {:6} - loss: {:.6f}\".format(i, cross_entropy))\n",
    "        w -= learning_rate*gradient\n",
    "    return w.ravel()\n",
    "    ### END SOLUTION"
   ]
  }
 ],
 "metadata": {
  "kernelspec": {
   "display_name": "ML from Scratch",
   "language": "python",
   "name": "mlfromscratch"
  },
  "language_info": {
   "codemirror_mode": {
    "name": "ipython",
    "version": 3
   },
   "file_extension": ".py",
   "mimetype": "text/x-python",
   "name": "python",
   "nbconvert_exporter": "python",
   "pygments_lexer": "ipython3",
   "version": "3.8.12"
  }
 },
 "nbformat": 4,
 "nbformat_minor": 4
}
