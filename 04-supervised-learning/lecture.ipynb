{
 "cells": [
  {
   "cell_type": "markdown",
   "metadata": {
    "slideshow": {
     "slide_type": "slide"
    }
   },
   "source": [
    "# Python 機器學習從零至一\n",
    "\n",
    "> 監督式學習\n",
    "\n",
    "[數據交點](https://www.datainpoint.com/) | 郭耀仁 <yaojenkuo@datainpoint.com>"
   ]
  },
  {
   "cell_type": "markdown",
   "metadata": {
    "slideshow": {
     "slide_type": "subslide"
    }
   },
   "source": [
    "## 這個章節會登場的模組\n",
    "\n",
    "`scikit-learn` 模組。"
   ]
  },
  {
   "cell_type": "markdown",
   "metadata": {
    "slideshow": {
     "slide_type": "subslide"
    }
   },
   "source": [
    "## 現代資料科學：以程式設計做資料科學的應用\n",
    "\n",
    "![](r-for-data-science.png)\n",
    "\n",
    "來源：[R for Data Science](https://r4ds.had.co.nz)"
   ]
  },
  {
   "cell_type": "markdown",
   "metadata": {
    "slideshow": {
     "slide_type": "subslide"
    }
   },
   "source": [
    "## 什麼是資料科學的應用場景\n",
    "\n",
    "- Import 資料的載入。\n",
    "- Tidy 資料清理。\n",
    "- Transform 資料外型與類別的轉換。\n",
    "- Visualise 探索性分析。\n",
    "- **Model 分析與預測模型**。\n",
    "- Communicate 溝通分享。"
   ]
  },
  {
   "cell_type": "markdown",
   "metadata": {
    "slideshow": {
     "slide_type": "subslide"
    }
   },
   "source": [
    "## （複習）根據說明文件的範例載入\n",
    "\n",
    "多數時候我們使用 Scikit-Learn 中的特定類別或函數，因此以 `from sklearn import FUNCTION/CLASS` 載入特定類別或函數，而非 `import sklearn`\n",
    "\n",
    "來源：<https://scikit-learn.org/stable/getting_started.html>"
   ]
  },
  {
   "cell_type": "markdown",
   "metadata": {
    "slideshow": {
     "slide_type": "slide"
    }
   },
   "source": [
    "## 關於監督式學習"
   ]
  },
  {
   "cell_type": "markdown",
   "metadata": {
    "slideshow": {
     "slide_type": "subslide"
    }
   },
   "source": [
    "## 什麼是模型\n",
    "\n",
    "- 模型（Model）是一個類似於「函數」的概念，由參數與運算組成。\n",
    "- 模型的參數以及運算可以透過不同的方式生成，生成方式包含規則敘述與歷史資料訓練。\n",
    "    - 透過規則敘述生成參數以及運算，稱為基於規則的模型（Rule-based model）或稱專家模型。\n",
    "    - 透過歷史資料訓練生成參數以及運算，稱為基於演算法的模型（Algorithm-based model）或稱基於機器學習的模型。\n",
    "- 不同模型除了相互比較，也可以與基準（Baseline）模型比較，常用來作為基準模型的像是基於隨機的黑猩猩模型或稱虛假模型（Dummy model），像是以投擲硬幣、骰子或者射飛鏢來決定模型的輸出。"
   ]
  },
  {
   "cell_type": "markdown",
   "metadata": {
    "slideshow": {
     "slide_type": "subslide"
    }
   },
   "source": [
    "## 可以採用哪種模型解決問題\n",
    "\n",
    "- 採用基於規則的模型：\n",
    "    - 問題能用人類語言描述邏輯、撰寫規則。\n",
    "    - 答案不能容忍誤差。\n",
    "- 採用基於機器學習的模型：\n",
    "    - 問題非領域專家不容易描述邏輯、撰寫規則。\n",
    "    - 答案能夠容忍誤差。"
   ]
  },
  {
   "cell_type": "markdown",
   "metadata": {
    "slideshow": {
     "slide_type": "subslide"
    }
   },
   "source": [
    "## 可以採用哪種模型解決問題（續）\n",
    "\n",
    "- 採用基於規則的模型：給定整數判斷它是否為奇數、偶數或者質數。\n",
    "- 採用基於機器學習的模型：給定一位 NBA 球員的生涯場均助攻與場均籃板來猜他是中鋒、前鋒、後衛或者能夠打多個位置的搖擺人、中前鋒、雙能衛等鋒衛位置。"
   ]
  },
  {
   "cell_type": "markdown",
   "metadata": {
    "slideshow": {
     "slide_type": "subslide"
    }
   },
   "source": [
    "## （複習）機器學習的三個要素、一個但書\n",
    "\n",
    "> A computer program is said to learn from experience E with respect to some class of tasks T and performance measure P if its performance at tasks in T, as measured by P, improves with experience E.\n",
    "\n",
    "來源：[Machine Learning, Tom Mitchell, McGraw Hill, 1997](http://www.cs.cmu.edu/~tom/mlbook.html)"
   ]
  },
  {
   "cell_type": "markdown",
   "metadata": {
    "slideshow": {
     "slide_type": "subslide"
    }
   },
   "source": [
    "## （複習）以機器學習的電腦程式解決問題的方式示意圖\n",
    "\n",
    "![Imgur](https://i.imgur.com/YunyLd7.png)\n",
    "\n",
    "來源：<https://www.coursera.org/learn/introduction-tensorflow>"
   ]
  },
  {
   "cell_type": "markdown",
   "metadata": {
    "slideshow": {
     "slide_type": "subslide"
    }
   },
   "source": [
    "## （複習）給定答案 $y$ 以及資料 $X$，機器學習的電腦程式在最小化損失函數 $J$ 的前提下生成規則 $w$，進而獲得預測 $\\hat{y}$\n",
    "\n",
    "\\begin{equation}\n",
    "\\text{choose} \\; w \\in \\{w^1, w^2, ..., w^n\\} \\\\\n",
    "\\text{where} \\; w \\; \\text{minimizes} \\; J(w) \\\\\n",
    "\\text{subject to} \\; \\hat{y} = h(X; w) = Xw \\\\\n",
    "\\text{where} \\; J(w) \\; \\text{measures the loss between} \\; y \\; \\text{and} \\; \\hat{y} \\\\\n",
    "\\end{equation}"
   ]
  },
  {
   "cell_type": "markdown",
   "metadata": {
    "slideshow": {
     "slide_type": "subslide"
    }
   },
   "source": [
    "## 基於機器學習的模型可再分為\n",
    "\n",
    "- 監督式學習：訓練資料中具備已實現的數值或標籤。\n",
    "    - 迴歸：數值預測的任務。\n",
    "    - 分類：類別預測的任務。\n",
    "- 非監督式學習：訓練資料中「不」具備已實現的數值或標籤。"
   ]
  },
  {
   "cell_type": "markdown",
   "metadata": {
    "slideshow": {
     "slide_type": "slide"
    }
   },
   "source": [
    "## 數值預測的任務"
   ]
  },
  {
   "cell_type": "markdown",
   "metadata": {
    "slideshow": {
     "slide_type": "subslide"
    }
   },
   "source": [
    "## 數值預測的任務：迴歸模型\n",
    "\n",
    "- 「數值預測」是「監督式學習」的其中一種應用類型。\n",
    "- 預測的目標陣列 $y$ 屬於連續型數值變數。\n",
    "- 更常被稱為「迴歸模型」。"
   ]
  },
  {
   "cell_type": "markdown",
   "metadata": {
    "slideshow": {
     "slide_type": "subslide"
    }
   },
   "source": [
    "## （複習）預測數值時最常見的損失函數 $J$\n",
    "\n",
    "最小化訓練資料的均方誤差（Mean squared error）。\n",
    "\n",
    "\\begin{align}\n",
    "\\operatorname*{arg\\,min}_w \\;  J(w) =  \\frac{1}{m} \\sum_i^m (y_i^{(train)} - \\hat{y_i}^{(train)})^2\n",
    "\\end{align}"
   ]
  },
  {
   "cell_type": "markdown",
   "metadata": {
    "slideshow": {
     "slide_type": "subslide"
    }
   },
   "source": [
    "## 預測 NBA 球員的體重\n",
    "\n",
    "- 資料（Experience）：一定數量的球員資料。\n",
    "- 任務（Task）：利用模型預測球員的體重。\n",
    "- 評估（Performance）：模型預測的體重與球員實際體重的誤差大小。\n",
    "- 但書（Condition）：隨著資料觀測值筆數增加，預測誤差應該要減少。"
   ]
  },
  {
   "cell_type": "code",
   "execution_count": 1,
   "metadata": {
    "slideshow": {
     "slide_type": "subslide"
    }
   },
   "outputs": [
    {
     "data": {
      "text/plain": [
       "dtype('float64')"
      ]
     },
     "execution_count": 1,
     "metadata": {},
     "output_type": "execute_result"
    }
   ],
   "source": [
    "import pandas as pd\n",
    "\n",
    "csv_path = \"https://raw.githubusercontent.com/datainpoint/classroom-ml-from-scratch/main/data/nba/player_stats.csv\"\n",
    "player_stats = pd.read_csv(csv_path)\n",
    "y = player_stats[\"weightKilograms\"].values\n",
    "y.dtype # y is a numeric variable"
   ]
  },
  {
   "cell_type": "markdown",
   "metadata": {
    "slideshow": {
     "slide_type": "subslide"
    }
   },
   "source": [
    "## 該如何預測 NBA 球員的體重\n",
    "\n",
    "1. 虛假模型。\n",
    "2. 基於規則的專家模型。\n",
    "3. 基於機器學習的模型。"
   ]
  },
  {
   "cell_type": "markdown",
   "metadata": {
    "slideshow": {
     "slide_type": "subslide"
    }
   },
   "source": [
    "## 虛假模型\n",
    "\n",
    "在 NBA 球員體重全距之間取隨機整數。"
   ]
  },
  {
   "cell_type": "code",
   "execution_count": 2,
   "metadata": {},
   "outputs": [],
   "source": [
    "import numpy as np\n",
    "from sklearn.model_selection import train_test_split\n",
    "\n",
    "y_train, y_valid = train_test_split(y, test_size=0.33, random_state=42)\n",
    "y_max, y_min = y.max(), y.min()\n",
    "y_hat = np.random.randint(low=y_min, high=y_max, size=y_valid.size)"
   ]
  },
  {
   "cell_type": "markdown",
   "metadata": {
    "slideshow": {
     "slide_type": "subslide"
    }
   },
   "source": [
    "## 評估虛假模型：驗證資料與預測資料的均方誤差\n",
    "\n",
    "\\begin{equation}\n",
    "\\text{MSE}_{valid} = \\frac{1}{m}\\sum_{i}^{m}{(y^{(valid)}_i - \\hat{y_i}^{(valid)})^2}\n",
    "\\end{equation}"
   ]
  },
  {
   "cell_type": "code",
   "execution_count": 3,
   "metadata": {},
   "outputs": [
    {
     "data": {
      "text/plain": [
       "737.2324096385543"
      ]
     },
     "execution_count": 3,
     "metadata": {},
     "output_type": "execute_result"
    }
   ],
   "source": [
    "from sklearn.metrics import mean_squared_error\n",
    "\n",
    "mse_dummy = mean_squared_error(y_valid, y_hat)\n",
    "mse_dummy"
   ]
  },
  {
   "cell_type": "markdown",
   "metadata": {
    "slideshow": {
     "slide_type": "subslide"
    }
   },
   "source": [
    "## 基於規則的專家模型\n",
    "\n",
    "根據 NBA 球員的鋒衛位置取其平均體重。"
   ]
  },
  {
   "cell_type": "code",
   "execution_count": 4,
   "metadata": {},
   "outputs": [],
   "source": [
    "mean_weight_by_pos = player_stats.groupby(\"pos\")[\"weightKilograms\"].mean()\n",
    "mean_weight = player_stats[\"pos\"].map(mean_weight_by_pos).values\n",
    "mean_weight_train, y_hat = train_test_split(mean_weight, test_size=0.33, random_state=42)"
   ]
  },
  {
   "cell_type": "markdown",
   "metadata": {
    "slideshow": {
     "slide_type": "subslide"
    }
   },
   "source": [
    "## 評估基於規則的專家模型：驗證資料與預測資料的均方誤差\n",
    "\n",
    "\\begin{equation}\n",
    "\\text{MSE}_{valid} = \\frac{1}{m}\\sum_{i}^{m}{(y^{(valid)}_i - \\hat{y_i}^{(valid)})^2}\n",
    "\\end{equation}"
   ]
  },
  {
   "cell_type": "code",
   "execution_count": 5,
   "metadata": {},
   "outputs": [
    {
     "data": {
      "text/plain": [
       "50.668004006804765"
      ]
     },
     "execution_count": 5,
     "metadata": {},
     "output_type": "execute_result"
    }
   ],
   "source": [
    "mse_expert = mean_squared_error(y_valid, y_hat)\n",
    "mse_expert"
   ]
  },
  {
   "cell_type": "markdown",
   "metadata": {
    "slideshow": {
     "slide_type": "subslide"
    }
   },
   "source": [
    "## 基於機器學習的模型\n",
    "\n",
    "將 `heightMeters` 當作特徵矩陣 $x_i$ 作為體重的預測依據。\n",
    "\n",
    "\\begin{equation}\n",
    "\\operatorname*{arg\\,min}_w \\; \\frac{1}{m}\\sum_{i}^{m}{(y^{(train)}_i - \\hat{y_i}^{(train)})^2} = \\frac{1}{m}\\sum_{i}^{m}{(y^{(train)}_i - x_i^{(train)} w)^2}\n",
    "\\end{equation}"
   ]
  },
  {
   "cell_type": "markdown",
   "metadata": {
    "slideshow": {
     "slide_type": "subslide"
    }
   },
   "source": [
    "## （複習）使用 Scikit-Learn 預測器的標準步驟\n",
    "\n",
    "1. 準備欲訓練預測的特徵矩陣 $X$  與目標陣列 $y$\n",
    "2. 切割訓練與驗證資料。\n",
    "3. 建立預測器類別的物件。\n",
    "4. 將訓練特徵矩陣 $X^{train}$ 與目標陣列 $y^{train}$ 輸入 `predictor.fit()`\n",
    "5. 將驗證特徵矩陣 $X^{valid}$ 輸入 `predictor.predict()` 獲得 $\\hat{y}^{valid}$\n",
    "6. 比對 $\\hat{y}^{valid}$ 與 $y^{valid}$ 之間的差異。"
   ]
  },
  {
   "cell_type": "code",
   "execution_count": 6,
   "metadata": {},
   "outputs": [],
   "source": [
    "from sklearn.linear_model import LinearRegression\n",
    "\n",
    "X = player_stats[\"heightMeters\"].values.reshape(-1, 1)\n",
    "X_train, X_valid, y_train, y_valid = train_test_split(X, y, test_size=0.33, random_state=42)\n",
    "linear_regression = LinearRegression()\n",
    "linear_regression.fit(X_train, y_train)\n",
    "y_hat = linear_regression.predict(X_valid)"
   ]
  },
  {
   "cell_type": "markdown",
   "metadata": {
    "slideshow": {
     "slide_type": "subslide"
    }
   },
   "source": [
    "## 評估基於機器學習的模型：驗證資料與預測資料的均方誤差\n",
    "\n",
    "\\begin{equation}\n",
    "\\text{MSE}_{valid} = \\frac{1}{m}\\sum_{i}^{m}{(y^{(valid)}_i - \\hat{y_i}^{(valid)})^2}\n",
    "\\end{equation}"
   ]
  },
  {
   "cell_type": "code",
   "execution_count": 7,
   "metadata": {},
   "outputs": [
    {
     "data": {
      "text/plain": [
       "62.807098266825335"
      ]
     },
     "execution_count": 7,
     "metadata": {},
     "output_type": "execute_result"
    }
   ],
   "source": [
    "mse_ml = mean_squared_error(y_valid, y_hat)\n",
    "mse_ml"
   ]
  },
  {
   "cell_type": "markdown",
   "metadata": {
    "slideshow": {
     "slide_type": "subslide"
    }
   },
   "source": [
    "## 該如何預測 NBA 球員的體重：考量哪個模型驗證資料與預測資料的均方誤差最小\n",
    "\n",
    "1. 基於規則的專家模型。\n",
    "2. 基於機器學習的模型。\n",
    "3. 虛假模型。"
   ]
  },
  {
   "cell_type": "code",
   "execution_count": 8,
   "metadata": {},
   "outputs": [
    {
     "name": "stdout",
     "output_type": "stream",
     "text": [
      "50.668004006804765\n",
      "62.807098266825335\n",
      "737.2324096385543\n"
     ]
    }
   ],
   "source": [
    "print(mse_expert)\n",
    "print(mse_ml)\n",
    "print(mse_dummy)"
   ]
  },
  {
   "cell_type": "markdown",
   "metadata": {
    "slideshow": {
     "slide_type": "slide"
    }
   },
   "source": [
    "## 類別預測的任務"
   ]
  },
  {
   "cell_type": "markdown",
   "metadata": {
    "slideshow": {
     "slide_type": "subslide"
    }
   },
   "source": [
    "## 類別預測的任務：分類器\n",
    "\n",
    "- 「類別預測」是「監督式學習」的其中一種應用類型。\n",
    "- 預測的目標陣列 $y$ 屬於離散型的類別變數。\n",
    "- 更常被稱為「分類器」。"
   ]
  },
  {
   "cell_type": "markdown",
   "metadata": {
    "slideshow": {
     "slide_type": "subslide"
    }
   },
   "source": [
    "## （複習）預測類別時最常見的損失函數 $J$\n",
    "\n",
    "最小化訓練資料的誤分類數。\n",
    "\n",
    "\\begin{align}\n",
    "\\operatorname*{arg\\,min}_w \\; J(w) = \\sum_j n(E^{(train)}_j) \\\\ \\text{ where } E^{(train)}_j \\; \\text{represents the occurrence of } y^{(train)}_j \\neq \\hat{y^{(train)}_j}\n",
    "\\end{align}"
   ]
  },
  {
   "cell_type": "markdown",
   "metadata": {
    "slideshow": {
     "slide_type": "subslide"
    }
   },
   "source": [
    "## 預測 NBA 球員的鋒衛位置\n",
    "\n",
    "- 資料（Experience）：一定數量的球員資料。\n",
    "- 任務（Task）：利用模型預測球員的鋒衛位置。\n",
    "- 評估（Performance）：模型預測的鋒衛位置與球員實際鋒衛位置的誤分類數。\n",
    "- 但書（Condition）：隨著資料觀測值筆數增加，預測誤分類數應該要減少。"
   ]
  },
  {
   "cell_type": "code",
   "execution_count": 9,
   "metadata": {
    "slideshow": {
     "slide_type": "-"
    }
   },
   "outputs": [
    {
     "data": {
      "text/plain": [
       "dtype('O')"
      ]
     },
     "execution_count": 9,
     "metadata": {},
     "output_type": "execute_result"
    }
   ],
   "source": [
    "# players_stats 資料中的 pos\n",
    "player_stats[\"pos\"].values.dtype"
   ]
  },
  {
   "cell_type": "markdown",
   "metadata": {
    "slideshow": {
     "slide_type": "subslide"
    }
   },
   "source": [
    "## `player_stats` 資料中的 `pos` 有 7 個不同的類別"
   ]
  },
  {
   "cell_type": "code",
   "execution_count": 10,
   "metadata": {},
   "outputs": [
    {
     "name": "stdout",
     "output_type": "stream",
     "text": [
      "['F' 'C' 'C-F' 'G' 'F-G' 'G-F' 'F-C']\n",
      "7\n"
     ]
    }
   ],
   "source": [
    "print(player_stats[\"pos\"].unique())\n",
    "print(player_stats[\"pos\"].nunique())"
   ]
  },
  {
   "cell_type": "markdown",
   "metadata": {
    "slideshow": {
     "slide_type": "subslide"
    }
   },
   "source": [
    "## 先將多元分類問題簡化為二元分類問題\n",
    "\n",
    "- 鋒衛位置分作後衛（G）與前鋒（F）。\n",
    "- 分別對應整數 1 與整數 0。"
   ]
  },
  {
   "cell_type": "code",
   "execution_count": 11,
   "metadata": {},
   "outputs": [
    {
     "data": {
      "text/plain": [
       "array([0, 1])"
      ]
     },
     "execution_count": 11,
     "metadata": {},
     "output_type": "execute_result"
    }
   ],
   "source": [
    "pos_binary = player_stats[\"pos\"].map(lambda x: 0 if x[0] == \"G\" else 1)\n",
    "y = pos_binary.values\n",
    "np.unique(y)"
   ]
  },
  {
   "cell_type": "markdown",
   "metadata": {
    "slideshow": {
     "slide_type": "subslide"
    }
   },
   "source": [
    "## 該如何預測 NBA 球員的鋒衛位置\n",
    "\n",
    "1. 虛假模型。\n",
    "2. 基於規則的專家模型。\n",
    "3. 基於機器學習的模型。"
   ]
  },
  {
   "cell_type": "markdown",
   "metadata": {
    "slideshow": {
     "slide_type": "subslide"
    }
   },
   "source": [
    "## 虛假模型\n",
    "\n",
    "在 0 與 1 之間取隨機整數。"
   ]
  },
  {
   "cell_type": "code",
   "execution_count": 12,
   "metadata": {},
   "outputs": [],
   "source": [
    "y_train, y_valid = train_test_split(y, test_size=0.33, random_state=42)\n",
    "y_hat = np.random.randint(0, 2, size=y_valid.size)"
   ]
  },
  {
   "cell_type": "markdown",
   "metadata": {
    "slideshow": {
     "slide_type": "subslide"
    }
   },
   "source": [
    "## 評估虛假模型：驗證資料與預測資料的誤分類數\n",
    "\n",
    "\\begin{align}\n",
    "\\text{Errors}^{(valid)} = \\sum_j n(E^{(valid)}_j) \\\\ \\text{ where } E^{(valid)}_j \\; \\text{represents the occurrence of } y^{(valid)}_j \\neq \\hat{y^{(valid)}_j}\n",
    "\\end{align}"
   ]
  },
  {
   "cell_type": "code",
   "execution_count": 13,
   "metadata": {},
   "outputs": [
    {
     "name": "stdout",
     "output_type": "stream",
     "text": [
      "94\n",
      "166\n",
      "0.5662650602409639\n"
     ]
    }
   ],
   "source": [
    "errors_dummy = np.sum(y_valid != y_hat)\n",
    "print(errors_dummy)\n",
    "print(y_valid.size)\n",
    "print(errors_dummy / y_valid.size)"
   ]
  },
  {
   "cell_type": "markdown",
   "metadata": {
    "slideshow": {
     "slide_type": "subslide"
    }
   },
   "source": [
    "## 基於規則的專家模型\n",
    "\n",
    "根據 NBA 球員的場均助攻數決定，場均助攻超過平均值則是 1，小於等於平均值則是 0。"
   ]
  },
  {
   "cell_type": "code",
   "execution_count": 14,
   "metadata": {},
   "outputs": [],
   "source": [
    "mean_apg = player_stats[\"apg\"].mean()\n",
    "mean_apg_train_y_hat = player_stats[\"apg\"].map(lambda x: 0 if x > mean_apg else 1).values\n",
    "mean_apg_train, y_hat = train_test_split(mean_apg_train_y_hat, test_size=0.33, random_state=42)"
   ]
  },
  {
   "cell_type": "markdown",
   "metadata": {
    "slideshow": {
     "slide_type": "subslide"
    }
   },
   "source": [
    "## 評估專家模型：驗證資料與預測資料的誤分類數\n",
    "\n",
    "\\begin{align}\n",
    "\\text{Errors}^{(valid)} = \\sum_j n(E^{(valid)}_j) \\\\ \\text{ where } E^{(valid)}_j \\; \\text{represents the occurrence of } y^{(valid)}_j \\neq \\hat{y^{(valid)}_j}\n",
    "\\end{align}"
   ]
  },
  {
   "cell_type": "code",
   "execution_count": 15,
   "metadata": {},
   "outputs": [
    {
     "name": "stdout",
     "output_type": "stream",
     "text": [
      "58\n",
      "166\n",
      "0.3493975903614458\n"
     ]
    }
   ],
   "source": [
    "errors_expert = np.sum(y_valid != y_hat)\n",
    "print(errors_expert)\n",
    "print(y_valid.size)\n",
    "print(errors_expert / y_valid.size)"
   ]
  },
  {
   "cell_type": "markdown",
   "metadata": {
    "slideshow": {
     "slide_type": "subslide"
    }
   },
   "source": [
    "## 基於機器學習的模型\n",
    "\n",
    "將 `apg` 與 `rpg` 當作特徵矩陣 $X$ 作為鋒衛位置的預測依據。"
   ]
  },
  {
   "cell_type": "markdown",
   "metadata": {
    "slideshow": {
     "slide_type": "subslide"
    }
   },
   "source": [
    "## （複習）使用 Scikit-Learn 預測器的標準步驟\n",
    "\n",
    "1. 準備欲訓練預測的特徵矩陣 $X$  與目標陣列 $y$\n",
    "2. 切割訓練與驗證資料。\n",
    "3. 建立預測器類別的物件。\n",
    "4. 將訓練特徵矩陣 $X^{train}$ 與目標陣列 $y^{train}$ 輸入 `predictor.fit()`\n",
    "5. 將驗證特徵矩陣 $X^{valid}$ 輸入 `predictor.predict()` 獲得 $\\hat{y}^{valid}$\n",
    "6. 比對 $\\hat{y}^{valid}$ 與 $y^{valid}$ 之間的差異"
   ]
  },
  {
   "cell_type": "code",
   "execution_count": 16,
   "metadata": {},
   "outputs": [],
   "source": [
    "from sklearn.linear_model import LogisticRegression\n",
    "\n",
    "X = player_stats[[\"apg\", \"rpg\"]].values\n",
    "X_train, X_valid, y_train, y_valid = train_test_split(X, y, test_size=0.33, random_state=42)\n",
    "logistic_regression = LogisticRegression()\n",
    "logistic_regression.fit(X_train, y_train)\n",
    "y_hat = logistic_regression.predict(X_valid)"
   ]
  },
  {
   "cell_type": "markdown",
   "metadata": {
    "slideshow": {
     "slide_type": "subslide"
    }
   },
   "source": [
    "## 評估基於機器學習的模型：驗證資料與預測資料的誤分類數\n",
    "\n",
    "\\begin{align}\n",
    "\\text{Errors}^{(valid)} = \\sum_j n(E^{(valid)}_j)\\\\ \\text{ where } E^{(valid)}_j \\; \\text{represents the occurrence of } y^{(valid)}_j \\neq \\hat{y^{(valid)}_j}\n",
    "\\end{align}"
   ]
  },
  {
   "cell_type": "code",
   "execution_count": 17,
   "metadata": {},
   "outputs": [
    {
     "name": "stdout",
     "output_type": "stream",
     "text": [
      "28\n",
      "166\n",
      "0.1686746987951807\n"
     ]
    }
   ],
   "source": [
    "errors_ml = np.sum(y_valid != y_hat)\n",
    "print(errors_ml)\n",
    "print(y_valid.size)\n",
    "print(errors_ml / y_valid.size)"
   ]
  },
  {
   "cell_type": "markdown",
   "metadata": {
    "slideshow": {
     "slide_type": "subslide"
    }
   },
   "source": [
    "## 該如何預測 NBA 球員的鋒衛位置：考量哪個模型驗證資料與預測資料的誤分類數最少\n",
    "\n",
    "1. 機器學習模型。\n",
    "2. 專家模型。\n",
    "3. 虛假模型。"
   ]
  },
  {
   "cell_type": "code",
   "execution_count": 18,
   "metadata": {},
   "outputs": [
    {
     "name": "stdout",
     "output_type": "stream",
     "text": [
      "166\n",
      "28\n",
      "58\n",
      "94\n"
     ]
    }
   ],
   "source": [
    "print(y_valid.size)\n",
    "print(errors_ml)\n",
    "print(errors_expert)\n",
    "print(errors_dummy)"
   ]
  },
  {
   "cell_type": "markdown",
   "metadata": {
    "slideshow": {
     "slide_type": "slide"
    }
   },
   "source": [
    "## 無法描述規則的任務"
   ]
  },
  {
   "cell_type": "markdown",
   "metadata": {
    "slideshow": {
     "slide_type": "subslide"
    }
   },
   "source": [
    "## 前面的數值、類別預測任務我們都有建立基於規則的專家模型\n",
    "\n",
    "- 有一些問題無法建立基於規則的專家模型，像是影像分類、語音識別或機器翻譯等，都屬於無法描述規則的任務。\n",
    "- 對人類來說影像分類、語音識別或語言翻譯是很輕易能辦到的，但要寫出其中的規則、邏輯是極其困難的。"
   ]
  },
  {
   "cell_type": "markdown",
   "metadata": {
    "slideshow": {
     "slide_type": "subslide"
    }
   },
   "source": [
    "## 該如何處理無法描述規則的任務\n",
    "\n",
    "- 以機器學習領域的一個分支**深度學習**來處理。\n",
    "- 深度學習是一種不需要使用者**直接**決定特徵的最適化方法，而是由深度學習的結構**間接**決定。"
   ]
  },
  {
   "cell_type": "markdown",
   "metadata": {
    "slideshow": {
     "slide_type": "subslide"
    }
   },
   "source": [
    "## 辨識手寫數字圖片的數字\n",
    "\n",
    "- 資料（Experience）：一定數量的手寫數字圖片。\n",
    "- 任務（Task）：利用模型辨識手寫數字圖片的數字。\n",
    "- 評估（Performance）：模型辨識的數字與實際數字的誤分類數。\n",
    "- 但書（Condition）：隨著資料觀測值筆數增加，預測誤分類數應該要減少。"
   ]
  },
  {
   "cell_type": "markdown",
   "metadata": {
    "slideshow": {
     "slide_type": "subslide"
    }
   },
   "source": [
    "## 手寫數字圖片資料中的 `label` 有 10 個不同的類別（0-9）"
   ]
  },
  {
   "cell_type": "code",
   "execution_count": 19,
   "metadata": {},
   "outputs": [
    {
     "data": {
      "text/plain": [
       "dtype('int64')"
      ]
     },
     "execution_count": 19,
     "metadata": {},
     "output_type": "execute_result"
    }
   ],
   "source": [
    "csv_url = \"https://kaggle-getting-started.s3.ap-northeast-1.amazonaws.com/mnist/train.csv\"\n",
    "train = pd.read_csv(csv_url)\n",
    "train[\"label\"].values.dtype"
   ]
  },
  {
   "cell_type": "code",
   "execution_count": 20,
   "metadata": {},
   "outputs": [
    {
     "name": "stdout",
     "output_type": "stream",
     "text": [
      "[1 0 4 7 3 5 8 9 2 6]\n",
      "10\n"
     ]
    }
   ],
   "source": [
    "print(train[\"label\"].unique())\n",
    "print(train[\"label\"].nunique())"
   ]
  },
  {
   "cell_type": "markdown",
   "metadata": {
    "slideshow": {
     "slide_type": "subslide"
    }
   },
   "source": [
    "## 看看前 10 列的手寫數字圖片\n",
    "\n",
    "使用 `AxesSubplot.imshow()` 顯示圖片。"
   ]
  },
  {
   "cell_type": "code",
   "execution_count": 21,
   "metadata": {},
   "outputs": [
    {
     "data": {
      "image/png": "[encoded data removed]",
      "text/plain": [
       "<Figure size 640x480 with 10 Axes>"
      ]
     },
     "metadata": {},
     "output_type": "display_data"
    }
   ],
   "source": [
    "import matplotlib.pyplot as plt\n",
    "\n",
    "m = 10\n",
    "fig, axes = plt.subplots(1, m)\n",
    "for index, series in train.head(m).iterrows():\n",
    "    Xi = (series[\"pixel0\":\"pixel783\"]).values.reshape(28, 28)\n",
    "    axes[index].imshow(Xi)\n",
    "    axes[index].set_xticks([]) # turn off xticks\n",
    "    axes[index].set_yticks([]) # turn off yticks\n",
    "plt.show()"
   ]
  },
  {
   "cell_type": "markdown",
   "metadata": {
    "slideshow": {
     "slide_type": "subslide"
    }
   },
   "source": [
    "## 辨識手寫數字圖片的數字\n",
    "\n",
    "1. 虛假模型。\n",
    "2. ~~基於規則的專家模型。~~\n",
    "3. 基於深度學習的模型。"
   ]
  },
  {
   "cell_type": "markdown",
   "metadata": {
    "slideshow": {
     "slide_type": "subslide"
    }
   },
   "source": [
    "## 虛假模型\n",
    "\n",
    "在 0 與 9 之間取隨機整數。"
   ]
  },
  {
   "cell_type": "code",
   "execution_count": 22,
   "metadata": {},
   "outputs": [],
   "source": [
    "y = train[\"label\"].values\n",
    "y_train, y_valid = train_test_split(y, test_size=0.33, random_state=42)\n",
    "y_hat = np.random.randint(0, 10, size=y_valid.size)"
   ]
  },
  {
   "cell_type": "markdown",
   "metadata": {
    "slideshow": {
     "slide_type": "subslide"
    }
   },
   "source": [
    "## 評估虛假模型：驗證資料與預測資料的誤分類數\n",
    "\n",
    "\\begin{align}\n",
    "\\sum_j n(E^{(valid)}_j) \\text{ where } E^{(valid)}_j \\; \\text{represents the occurrence of } y^{(valid)}_j \\neq \\hat{y^{(valid)}_j}\n",
    "\\end{align}"
   ]
  },
  {
   "cell_type": "code",
   "execution_count": 23,
   "metadata": {},
   "outputs": [
    {
     "name": "stdout",
     "output_type": "stream",
     "text": [
      "12474\n",
      "13860\n",
      "0.9\n"
     ]
    }
   ],
   "source": [
    "errors_dummy = np.sum(y_valid != y_hat)\n",
    "print(errors_dummy)\n",
    "print(y_valid.size)\n",
    "print(errors_dummy / y_valid.size)"
   ]
  },
  {
   "cell_type": "markdown",
   "metadata": {
    "slideshow": {
     "slide_type": "subslide"
    }
   },
   "source": [
    "## 基於深度學習的模型\n",
    "\n",
    "- 將 `pixel0` 到 `pixel783` 當作特徵矩陣 $X$ 作為手寫數字圖片的預測依據。\n",
    "- 我們對機器學習和深度學習都是點到為止，不暸解 `MLPClassifier` 參數是正常的。"
   ]
  },
  {
   "cell_type": "code",
   "execution_count": 24,
   "metadata": {},
   "outputs": [
    {
     "name": "stdout",
     "output_type": "stream",
     "text": [
      "Iteration 1, loss = 0.43180376\n",
      "Iteration 2, loss = 0.20848267\n",
      "Iteration 3, loss = 0.15877069\n",
      "Iteration 4, loss = 0.12626574\n",
      "Iteration 5, loss = 0.10516230\n",
      "Iteration 6, loss = 0.08823135\n",
      "Iteration 7, loss = 0.07438078\n",
      "Iteration 8, loss = 0.06704161\n",
      "Iteration 9, loss = 0.05740887\n",
      "Iteration 10, loss = 0.04949325\n",
      "Iteration 11, loss = 0.04269057\n",
      "Iteration 12, loss = 0.03812857\n",
      "Iteration 13, loss = 0.03424393\n",
      "Iteration 14, loss = 0.02846397\n",
      "Iteration 15, loss = 0.02558921\n",
      "Iteration 16, loss = 0.02179269\n",
      "Iteration 17, loss = 0.01983708\n",
      "Iteration 18, loss = 0.01722650\n",
      "Iteration 19, loss = 0.01611390\n",
      "Iteration 20, loss = 0.01306801\n"
     ]
    },
    {
     "name": "stderr",
     "output_type": "stream",
     "text": [
      "/Users/kuoyaojen/opt/miniconda3/lib/python3.9/site-packages/sklearn/neural_network/_multilayer_perceptron.py:686: ConvergenceWarning: Stochastic Optimizer: Maximum iterations (20) reached and the optimization hasn't converged yet.\n",
      "  warnings.warn(\n"
     ]
    }
   ],
   "source": [
    "from sklearn.neural_network import MLPClassifier\n",
    "\n",
    "X = train.loc[:, \"pixel0\":\"pixel783\"].values.astype(float)\n",
    "X /= 255.0 # standardize X\n",
    "y = train[\"label\"].values\n",
    "X_train, X_valid, y_train, y_valid = train_test_split(X, y, test_size=0.33, random_state=42)\n",
    "mlp_classifier = MLPClassifier(hidden_layer_sizes=(50,), max_iter=20, alpha=1e-4, \n",
    "                               solver=\"sgd\", verbose=10, random_state=1,\n",
    "                               learning_rate_init=0.1)\n",
    "mlp_classifier.fit(X_train, y_train)\n",
    "y_hat = mlp_classifier.predict(X_valid)"
   ]
  },
  {
   "cell_type": "markdown",
   "metadata": {
    "slideshow": {
     "slide_type": "subslide"
    }
   },
   "source": [
    "## 評估深度學習的模型：驗證資料與預測資料的誤分類數\n",
    "\n",
    "\\begin{align}\n",
    "\\text{Errors}^{(valid)} = \\sum_j n(E^{(valid)}_j) \\\\ \\text{ where } E^{(valid)}_j \\; \\text{represents the occurrence of } y^{(valid)}_j \\neq \\hat{y^{(valid)}_j}\n",
    "\\end{align}"
   ]
  },
  {
   "cell_type": "code",
   "execution_count": 25,
   "metadata": {},
   "outputs": [
    {
     "name": "stdout",
     "output_type": "stream",
     "text": [
      "469\n",
      "13860\n",
      "0.03383838383838384\n"
     ]
    }
   ],
   "source": [
    "errors_dl = np.sum(y_valid != y_hat)\n",
    "print(errors_dl)\n",
    "print(y_valid.size)\n",
    "print(errors_dl / y_valid.size)"
   ]
  },
  {
   "cell_type": "markdown",
   "metadata": {
    "slideshow": {
     "slide_type": "subslide"
    }
   },
   "source": [
    "## 該如何辨識手寫數字圖片的數字：考量哪個模型驗證資料與預測資料的誤分類數最少\n",
    "\n",
    "1. 深度學習模型。\n",
    "2. 虛假模型。"
   ]
  },
  {
   "cell_type": "code",
   "execution_count": 26,
   "metadata": {},
   "outputs": [
    {
     "name": "stdout",
     "output_type": "stream",
     "text": [
      "13860\n",
      "469\n",
      "12474\n"
     ]
    }
   ],
   "source": [
    "print(y_valid.size)\n",
    "print(errors_dl)\n",
    "print(errors_dummy)"
   ]
  },
  {
   "cell_type": "markdown",
   "metadata": {
    "slideshow": {
     "slide_type": "slide"
    }
   },
   "source": [
    "## k 最近鄰"
   ]
  },
  {
   "cell_type": "markdown",
   "metadata": {
    "slideshow": {
     "slide_type": "subslide"
    }
   },
   "source": [
    "## 什麼是 k 最近鄰\n",
    "\n",
    "- k 最近鄰（k-Nearest Neighbors, KNN）是一種基於資料之間的相似度來決定是否為同一類別的演算方法。\n",
    "- 「歐幾里德距離 Euclidean distance」是最常用來量測資料相似度的指標，歐幾里德距離以白話文敘述其實就是直線距離。\n",
    "\n",
    "\\begin{align}\n",
    "d(x, y) = \\sqrt{\\sum_{i=1}^{n}(x_i - y_i)^2}\n",
    "\\end{align}"
   ]
  },
  {
   "cell_type": "markdown",
   "metadata": {
    "slideshow": {
     "slide_type": "subslide"
    }
   },
   "source": [
    "## 什麼是 k 最近鄰（續）\n",
    "\n",
    "- 更為泛用的距離量測是「明可夫斯基距離 Minkowski distance」。\n",
    "- 當式子中的 $p=1$ 時就是曼哈頓距離、$p=2$ 時就是歐幾里德距離。\n",
    "\n",
    "\\begin{align}\n",
    "d(x, y) = \\left( \\sum_{i=1}^{n} \\mid x_i - y_i \\mid ^p \\right)^{\\frac{1}{p}}\n",
    "\\end{align}"
   ]
  },
  {
   "cell_type": "markdown",
   "metadata": {
    "slideshow": {
     "slide_type": "subslide"
    }
   },
   "source": [
    "## 什麼是 k 最近鄰（續）\n",
    "\n",
    "- k 最近鄰會根據預測資料點周遭的 k 個最相似訓練資料點決定分類結果，k 可以由使用者自行決定。\n",
    "- 在二元分類的範疇下，k 會選擇一個奇數使得分類結果直接被決定。\n",
    "- k 最近鄰模型的訓練與預測在同時間發生，也就是訓練在輸入預測資料時才發生，因此屬於 Lazy learning 的機器學習方法。"
   ]
  },
  {
   "cell_type": "markdown",
   "metadata": {
    "slideshow": {
     "slide_type": "subslide"
    }
   },
   "source": [
    "## 使用 Scikit-Learn 的 k 最近鄰預測器"
   ]
  },
  {
   "cell_type": "code",
   "execution_count": 27,
   "metadata": {},
   "outputs": [],
   "source": [
    "from sklearn.neighbors import KNeighborsClassifier\n",
    "\n",
    "X = player_stats[[\"apg\", \"rpg\"]].values\n",
    "pos_binary = player_stats[\"pos\"].map(lambda x: 0 if x[0] == \"G\" else 1)\n",
    "y = pos_binary.values\n",
    "X_train, X_valid, y_train, y_valid = train_test_split(X, y, test_size=0.33, random_state=42)\n",
    "neigh = KNeighborsClassifier()\n",
    "neigh.fit(X_train, y_train)\n",
    "y_hat = neigh.predict(X_valid)"
   ]
  },
  {
   "cell_type": "code",
   "execution_count": 28,
   "metadata": {
    "slideshow": {
     "slide_type": "subslide"
    }
   },
   "outputs": [
    {
     "name": "stdout",
     "output_type": "stream",
     "text": [
      "24\n",
      "166\n",
      "0.14457831325301204\n"
     ]
    }
   ],
   "source": [
    "errors_knn = np.sum(y_valid != y_hat)\n",
    "print(errors_knn)\n",
    "print(y_valid.size)\n",
    "print(errors_knn / y_valid.size)"
   ]
  },
  {
   "cell_type": "markdown",
   "metadata": {
    "slideshow": {
     "slide_type": "subslide"
    }
   },
   "source": [
    "## 自行定義 k 最近鄰預測器\n",
    "\n",
    "- 計算 `X_test_i` 與 `X_train` 的所有距離。\n",
    "- 將計算好的距離與 `y_train` 同時排序。\n",
    "- 依據 `k` 值選出前 `k` 小的標籤值。\n",
    "- 從前 `k` 小的標籤值中挑選最多的標籤作為 `y_test_i`"
   ]
  },
  {
   "cell_type": "markdown",
   "metadata": {
    "slideshow": {
     "slide_type": "subslide"
    }
   },
   "source": [
    "## 計算 `X_test_i` 與 `X_train` 的所有距離"
   ]
  },
  {
   "cell_type": "code",
   "execution_count": 29,
   "metadata": {},
   "outputs": [
    {
     "data": {
      "text/plain": [
       "array([2.30217289, 2.05912603, 1.74642492, 5.69385634, 2.54950976])"
      ]
     },
     "execution_count": 29,
     "metadata": {},
     "output_type": "execute_result"
    }
   ],
   "source": [
    "X_test_i = np.array([[3.0, 5.0]]) # 場均 3.0 助攻、5.0 籃板\n",
    "p = 2\n",
    "distances = (np.sum((np.abs(X_test_i - X_train))**p, axis=1))**(1/p)\n",
    "distances[:5]"
   ]
  },
  {
   "cell_type": "markdown",
   "metadata": {
    "slideshow": {
     "slide_type": "subslide"
    }
   },
   "source": [
    "## 將計算好的距離與 `y_train` 同時排序"
   ]
  },
  {
   "cell_type": "code",
   "execution_count": 30,
   "metadata": {},
   "outputs": [
    {
     "data": {
      "text/plain": [
       "array([[0.42426407, 1.        ],\n",
       "       [0.4472136 , 1.        ],\n",
       "       [0.4472136 , 1.        ],\n",
       "       [0.53851648, 0.        ],\n",
       "       [0.58309519, 1.        ]])"
      ]
     },
     "execution_count": 30,
     "metadata": {},
     "output_type": "execute_result"
    }
   ],
   "source": [
    "y_train_reshape = y_train.reshape(-1, 1)\n",
    "distances_reshape = distances.reshape(-1, 1)\n",
    "distances_y_train = np.concatenate((distances_reshape, y_train_reshape), axis=1)\n",
    "distances_y_train_argsort = distances_y_train[distances_y_train[:, 0].argsort()]\n",
    "distances_y_train_argsort[:5]"
   ]
  },
  {
   "cell_type": "markdown",
   "metadata": {
    "slideshow": {
     "slide_type": "subslide"
    }
   },
   "source": [
    "## 依據 `k` 值選出前 `k` 小的標籤值"
   ]
  },
  {
   "cell_type": "code",
   "execution_count": 31,
   "metadata": {},
   "outputs": [
    {
     "data": {
      "text/plain": [
       "array([1, 1, 1, 0, 1])"
      ]
     },
     "execution_count": 31,
     "metadata": {},
     "output_type": "execute_result"
    }
   ],
   "source": [
    "k = 5\n",
    "k_nearest_labels = distances_y_train_argsort[:k, 1].astype(int)\n",
    "k_nearest_labels"
   ]
  },
  {
   "cell_type": "markdown",
   "metadata": {
    "slideshow": {
     "slide_type": "subslide"
    }
   },
   "source": [
    "## 從前 `k` 小的標籤值中挑選最多的標籤作為 `y_test_i`"
   ]
  },
  {
   "cell_type": "code",
   "execution_count": 32,
   "metadata": {},
   "outputs": [
    {
     "name": "stdout",
     "output_type": "stream",
     "text": [
      "1\n"
     ]
    }
   ],
   "source": [
    "labels, counts = np.unique(k_nearest_labels, return_counts=True)\n",
    "argmax_counts = np.argmax(counts)\n",
    "y_test_i = labels[argmax_counts]\n",
    "print(y_test_i)"
   ]
  },
  {
   "cell_type": "markdown",
   "metadata": {
    "slideshow": {
     "slide_type": "subslide"
    }
   },
   "source": [
    "## 自行定義 k 最近鄰預測器類別"
   ]
  },
  {
   "cell_type": "code",
   "execution_count": 33,
   "metadata": {},
   "outputs": [],
   "source": [
    "class kNN:\n",
    "    def __init__(self, n_neighbors=5):\n",
    "        self._n_neighbors = n_neighbors\n",
    "    def minkowski_distances(self, X_train, X_test_i, p=2):\n",
    "        distances = (np.sum((np.abs(X_test_i - X_train))**p, axis=1))**(1/p)\n",
    "        return distances\n",
    "    def fit(self, X_train, y_train):\n",
    "        self._X_train = X_train\n",
    "        self._y_train = y_train\n",
    "    def predict(self, X_test, p=2):\n",
    "        nrows = X_test.shape[0]\n",
    "        y_test = []\n",
    "        for i in range(nrows):\n",
    "            X_test_i = X_test[i, :]\n",
    "            distances = self.minkowski_distances(self._X_train, X_test_i)\n",
    "            y_train_reshape = self._y_train.reshape(-1, 1)\n",
    "            distances_reshape = distances.reshape(-1, 1)\n",
    "            distances_y_train = np.concatenate((distances_reshape, y_train_reshape), axis=1)\n",
    "            distances_y_train_argsort = distances_y_train[distances_y_train[:, 0].argsort()]\n",
    "            k_nearest_labels = distances_y_train_argsort[:self._n_neighbors, 1].astype(int)\n",
    "            labels, counts = np.unique(k_nearest_labels, return_counts=True)\n",
    "            argmax_counts = np.argmax(counts)\n",
    "            y_test_i = labels[argmax_counts]\n",
    "            y_test.append(y_test_i)\n",
    "        return np.array(y_test)"
   ]
  },
  {
   "cell_type": "code",
   "execution_count": 34,
   "metadata": {
    "slideshow": {
     "slide_type": "subslide"
    }
   },
   "outputs": [],
   "source": [
    "knn = kNN()\n",
    "knn.fit(X_train, y_train)\n",
    "y_hat = knn.predict(X_valid)"
   ]
  },
  {
   "cell_type": "code",
   "execution_count": 35,
   "metadata": {
    "slideshow": {
     "slide_type": "subslide"
    }
   },
   "outputs": [
    {
     "name": "stdout",
     "output_type": "stream",
     "text": [
      "24\n",
      "166\n",
      "0.14457831325301204\n"
     ]
    }
   ],
   "source": [
    "errors_knn = np.sum(y_valid != y_hat)\n",
    "print(errors_knn)\n",
    "print(y_valid.size)\n",
    "print(errors_knn / y_valid.size)"
   ]
  },
  {
   "cell_type": "markdown",
   "metadata": {
    "slideshow": {
     "slide_type": "slide"
    }
   },
   "source": [
    "## 高斯單純貝氏分類器"
   ]
  },
  {
   "cell_type": "markdown",
   "metadata": {
    "slideshow": {
     "slide_type": "subslide"
    }
   },
   "source": [
    "## 什麼是高斯單純貝氏分類器\n",
    "\n",
    "- 高斯單純貝氏分類器是基於貝氏定理的分類模型。\n",
    "- 貝氏定理是在先驗機率（Prior probability）的基礎上，納入新事件的資訊來更新先驗機率，得到後驗機率（Posterior probability）的統計分法。\n",
    "\n",
    "\\begin{align}\n",
    "P(y|x_i) = \\frac{P(x_i|y) \\times P(y)}{P(x_i)} \\\\\n",
    "\\text{posterior} = \\frac{\\text{likelihood} \\times \\text{prior}}{\\text{evidence}}\n",
    "\\end{align}"
   ]
  },
  {
   "cell_type": "markdown",
   "metadata": {
    "slideshow": {
     "slide_type": "subslide"
    }
   },
   "source": [
    "## 什麼是高斯單純貝氏分類器（續）\n",
    "\n",
    "- 高斯單純貝氏分類器中的「單純」指的是在計算分類機率時，會假設資料特徵不依賴類別，兩者彼此獨立。\n",
    "- 因此實際在計算後驗機率的時候，只需要關注分子的部分。\n",
    "\n",
    "\\begin{align}\n",
    "P(y|x_i) \\propto P(x_i|y) P(y) \\\\\n",
    "y^* = argmax_y \\, P(x_i|y) P(y) \\\\\n",
    "y^* = argmax_y \\, P(y) \\prod P(x_i|y)\n",
    "\\end{align}"
   ]
  },
  {
   "cell_type": "markdown",
   "metadata": {
    "slideshow": {
     "slide_type": "subslide"
    }
   },
   "source": [
    "## 什麼是高斯單純貝氏分類器（續）\n",
    "\n",
    "當特徵為連續型變數時，可以藉由假設變數為常態分配的情況下，以樣本資料的平均數及標準差來計算機率（Likelihood），也就是 $P(x_i|y)$ 能以高斯機率密度函數計算。\n",
    "\n",
    "\\begin{align}\n",
    "P(x_i | y) = \\frac{1}{\\sqrt{2 \\pi \\sigma_y^2}} exp \\left( -\\frac{(x_i - \\mu_y)^2}{2 \\sigma_y^2} \\right)\n",
    "\\end{align}"
   ]
  },
  {
   "cell_type": "markdown",
   "metadata": {
    "slideshow": {
     "slide_type": "subslide"
    }
   },
   "source": [
    "## 什麼是高斯單純貝氏分類器（續）\n",
    "\n",
    "當特徵數量很多的時候，$\\prod P(x_i|y)$ 相乘所算出的機率值會非常小，造成後驗機率趨近於 0，這時可以透過取對數函數來避免。\n",
    "\n",
    "\\begin{align}\n",
    "y^* = argmax_y \\, log \\left(P(y) \\right) + \\sum log \\left( P(x_i|y) \\right)\n",
    "\\end{align}"
   ]
  },
  {
   "cell_type": "markdown",
   "metadata": {
    "slideshow": {
     "slide_type": "subslide"
    }
   },
   "source": [
    "## 使用 Scikit-Learn 的高斯單純貝氏分類器"
   ]
  },
  {
   "cell_type": "code",
   "execution_count": 36,
   "metadata": {},
   "outputs": [],
   "source": [
    "from sklearn.naive_bayes import GaussianNB\n",
    "\n",
    "X = player_stats[[\"apg\", \"rpg\"]].values\n",
    "pos_binary = player_stats[\"pos\"].map(lambda x: 0 if x[0] == \"G\" else 1)\n",
    "y = pos_binary.values\n",
    "X_train, X_valid, y_train, y_valid = train_test_split(X, y, test_size=0.33, random_state=42)\n",
    "nb = GaussianNB()\n",
    "nb.fit(X_train, y_train)\n",
    "y_hat = nb.predict(X_valid)"
   ]
  },
  {
   "cell_type": "code",
   "execution_count": 37,
   "metadata": {
    "slideshow": {
     "slide_type": "subslide"
    }
   },
   "outputs": [
    {
     "name": "stdout",
     "output_type": "stream",
     "text": [
      "51\n",
      "166\n",
      "0.3072289156626506\n"
     ]
    }
   ],
   "source": [
    "errors_nb = np.sum(y_valid != y_hat)\n",
    "print(errors_nb)\n",
    "print(y_valid.size)\n",
    "print(errors_nb / y_valid.size)"
   ]
  },
  {
   "cell_type": "markdown",
   "metadata": {
    "slideshow": {
     "slide_type": "subslide"
    }
   },
   "source": [
    "## 自行定義高斯單純貝氏分類器\n",
    "\n",
    "- 依據 `y_train` 計算先驗機率 $P(y)$\n",
    "- 依據 `X_train` 與 `y_train`的分類計算個別的摘要，包含平均數與變異數。\n",
    "- 計算高斯機率密度 $P(x_i|y)$\n",
    "- 計算後驗機率 $P(y|x_i)$\n",
    "- 依據後驗機率預測 `y_test_i`"
   ]
  },
  {
   "cell_type": "markdown",
   "metadata": {
    "slideshow": {
     "slide_type": "subslide"
    }
   },
   "source": [
    "## 依據 `y_train` 計算先驗機率 $P(y)$"
   ]
  },
  {
   "cell_type": "code",
   "execution_count": 38,
   "metadata": {},
   "outputs": [
    {
     "name": "stdout",
     "output_type": "stream",
     "text": [
      "0.4836795252225519\n",
      "0.516320474777448\n"
     ]
    }
   ],
   "source": [
    "values, counts = np.unique(y_train, return_counts=True)\n",
    "n_y_zeros, n_y_ones = counts\n",
    "prior_proba_y_zero = n_y_zeros / y_train.size\n",
    "prior_proba_y_one = n_y_ones / y_train.size\n",
    "print(prior_proba_y_zero)\n",
    "print(prior_proba_y_one)"
   ]
  },
  {
   "cell_type": "markdown",
   "metadata": {
    "slideshow": {
     "slide_type": "subslide"
    }
   },
   "source": [
    "## 依據 `X_train` 與 `y_train`的分類計算個別的摘要，包含平均數與變異數"
   ]
  },
  {
   "cell_type": "code",
   "execution_count": 39,
   "metadata": {
    "slideshow": {
     "slide_type": "-"
    }
   },
   "outputs": [
    {
     "name": "stdout",
     "output_type": "stream",
     "text": [
      "[2.66319018 2.7       ]\n",
      "[1.34827586 4.70574713]\n",
      "[4.13876774 1.63668712]\n",
      "[0.91008323 5.57192099]\n"
     ]
    }
   ],
   "source": [
    "X_y_train = np.concatenate((X_train, y_train.reshape(-1, 1)), axis=1)\n",
    "X_y_train_zero = X_y_train[X_y_train[:, -1] == 0]\n",
    "X_y_train_one = X_y_train[X_y_train[:, -1] == 1]\n",
    "X_train_zero_mean = np.mean(X_y_train_zero[:, 0:-1], axis=0)\n",
    "X_train_one_mean = np.mean(X_y_train_one[:, 0:-1], axis=0)\n",
    "X_train_zero_var = np.var(X_y_train_zero[:, 0:-1], axis=0)\n",
    "X_train_one_var = np.var(X_y_train_one[:, 0:-1], axis=0)\n",
    "print(X_train_zero_mean)\n",
    "print(X_train_one_mean)\n",
    "print(X_train_zero_var)\n",
    "print(X_train_one_var)"
   ]
  },
  {
   "cell_type": "markdown",
   "metadata": {
    "slideshow": {
     "slide_type": "subslide"
    }
   },
   "source": [
    "## 計算高斯機率密度 $P(x_i|y)$"
   ]
  },
  {
   "cell_type": "code",
   "execution_count": 40,
   "metadata": {},
   "outputs": [
    {
     "name": "stdout",
     "output_type": "stream",
     "text": [
      "[[0.19342949 0.06195512]]\n",
      "[[0.09341543 0.16770007]]\n"
     ]
    }
   ],
   "source": [
    "X_test_i = np.array([[3.0, 5.0]]) # 場均 3.0 助攻、5.0 籃板\n",
    "multiplier_zero = 1 / np.sqrt(2 * np.pi * X_train_zero_var)\n",
    "proba_zero = np.exp(-((X_test_i - X_train_zero_mean)** 2 / (2 * X_train_zero_var)))\n",
    "X_test_i_gauss_zero = multiplier_zero * proba_zero\n",
    "multiplier_one = 1 / np.sqrt(2 * np.pi * X_train_one_var)\n",
    "proba_one = np.exp(-((X_test_i - X_train_one_mean)** 2 / (2 * X_train_one_var)))\n",
    "X_test_i_gauss_one = multiplier_one * proba_one\n",
    "print(X_test_i_gauss_zero)\n",
    "print(X_test_i_gauss_one)"
   ]
  },
  {
   "cell_type": "markdown",
   "metadata": {
    "slideshow": {
     "slide_type": "subslide"
    }
   },
   "source": [
    "## 依據後驗機率預測 `y_test_i`"
   ]
  },
  {
   "cell_type": "code",
   "execution_count": 41,
   "metadata": {},
   "outputs": [
    {
     "data": {
      "text/plain": [
       "1"
      ]
     },
     "execution_count": 41,
     "metadata": {},
     "output_type": "execute_result"
    }
   ],
   "source": [
    "posterior_proba_y_zero = np.log(prior_proba_y_zero) + np.sum(np.log(X_test_i_gauss_zero))\n",
    "posterior_proba_y_one = np.log(prior_proba_y_one) + np.sum(np.log(X_test_i_gauss_one))\n",
    "posterior_proba = np.array([posterior_proba_y_zero, posterior_proba_y_one])\n",
    "y_test_i = np.argmax(posterior_proba)\n",
    "y_test_i"
   ]
  },
  {
   "cell_type": "markdown",
   "metadata": {
    "slideshow": {
     "slide_type": "subslide"
    }
   },
   "source": [
    "## 自行定義高斯單純貝氏分類器的類別\n",
    "\n",
    "```python\n",
    "class GaussianNaiveBayes:\n",
    "    def get_prior_proba(self, y_train):\n",
    "        values, counts = np.unique(y_train, return_counts=True)\n",
    "        prior_proba = dict()\n",
    "        for value, count in zip(values, counts):\n",
    "            prior_proba[value] = count / y_train.size\n",
    "        return prior_proba\n",
    "    def get_mean_var(self, X_train, y_train):\n",
    "        n_features = X_train.shape[1]\n",
    "        X_y_train = np.concatenate((X_train, y_train.reshape(-1, 1)), axis=1)\n",
    "        unique_labels = np.unique(y_train)\n",
    "        X_mean_var = dict()\n",
    "        for unique_label in unique_labels:\n",
    "            X_y_train_label = X_y_train[X_y_train[:, -1] == unique_label]\n",
    "            label_mean = np.mean(X_y_train_label[:, 0:-1], axis=0)\n",
    "            label_var = np.var(X_y_train_label[:, 0:-1], axis=0)\n",
    "            X_mean_var[unique_label] = {\n",
    "                \"mean\": label_mean,\n",
    "                \"var\": label_var\n",
    "            }\n",
    "        return X_mean_var\n",
    "```"
   ]
  },
  {
   "cell_type": "markdown",
   "metadata": {
    "slideshow": {
     "slide_type": "subslide"
    }
   },
   "source": [
    "```python\n",
    "    def fit(self, X_train, y_train):\n",
    "        prior_proba = self.get_prior_proba(y_train)\n",
    "        mean_var = self.get_mean_var(X_train, y_train)\n",
    "        self._prior_proba = prior_proba\n",
    "        self._mean_var = mean_var\n",
    "    def get_likelihood(self, X_test_i, var, mean):\n",
    "        multiplier = 1 / np.sqrt(2 * np.pi * var)\n",
    "        numerator = (X_test_i - mean)**2\n",
    "        denominator = 2*var\n",
    "        exponenet = np.exp(- numerator / denominator)\n",
    "        likelihood = multiplier * exponenet\n",
    "        return likelihood\n",
    "```"
   ]
  },
  {
   "cell_type": "markdown",
   "metadata": {
    "slideshow": {
     "slide_type": "subslide"
    }
   },
   "source": [
    "```python\n",
    "    def predict(self, X_test):\n",
    "        n_rows = X_test.shape[0]\n",
    "        labels = self._prior_proba.keys()\n",
    "        y_preds = []\n",
    "        for i in range(n_rows):\n",
    "            X_test_i = X_test[i, :]\n",
    "            log_posterior_probas = []\n",
    "            for label in labels:\n",
    "                label_var = self._mean_var[label][\"var\"]\n",
    "                label_mean = self._mean_var[label][\"mean\"]\n",
    "                likelihood = self.get_likelihood(X_test_i, label_var, label_mean)\n",
    "                log_likelihood = np.log(likelihood)\n",
    "                sum_log_likelihood = np.sum(log_likelihood)\n",
    "                log_prior_proba = np.log(self._prior_proba[label])\n",
    "                log_posterior_proba = log_prior_proba + sum_log_likelihood\n",
    "                log_posterior_probas.append(log_posterior_proba)\n",
    "            log_posterior_probas = np.array(log_posterior_probas)\n",
    "            y_pred = np.argmax(log_posterior_probas)\n",
    "            y_preds.append(y_pred)\n",
    "        return np.array(y_preds)\n",
    "```"
   ]
  },
  {
   "cell_type": "code",
   "execution_count": 42,
   "metadata": {
    "slideshow": {
     "slide_type": "subslide"
    }
   },
   "outputs": [],
   "source": [
    "class GaussianNaiveBayes:\n",
    "    def get_prior_proba(self, y_train):\n",
    "        values, counts = np.unique(y_train, return_counts=True)\n",
    "        prior_proba = dict()\n",
    "        for value, count in zip(values, counts):\n",
    "            prior_proba[value] = count / y_train.size\n",
    "        return prior_proba\n",
    "    def get_mean_var(self, X_train, y_train):\n",
    "        n_features = X_train.shape[1]\n",
    "        X_y_train = np.concatenate((X_train, y_train.reshape(-1, 1)), axis=1)\n",
    "        unique_labels = np.unique(y_train)\n",
    "        X_mean_var = dict()\n",
    "        for unique_label in unique_labels:\n",
    "            X_y_train_label = X_y_train[X_y_train[:, -1] == unique_label]\n",
    "            label_mean = np.mean(X_y_train_label[:, 0:-1], axis=0)\n",
    "            label_var = np.var(X_y_train_label[:, 0:-1], axis=0)\n",
    "            X_mean_var[unique_label] = {\n",
    "                \"mean\": label_mean,\n",
    "                \"var\": label_var\n",
    "            }\n",
    "        return X_mean_var\n",
    "    def fit(self, X_train, y_train):\n",
    "        prior_proba = self.get_prior_proba(y_train)\n",
    "        mean_var = self.get_mean_var(X_train, y_train)\n",
    "        self._prior_proba = prior_proba\n",
    "        self._mean_var = mean_var\n",
    "    def get_likelihood(self, X_test_i, var, mean):\n",
    "        multiplier = 1 / np.sqrt(2 * np.pi * var)\n",
    "        numerator = (X_test_i - mean)**2\n",
    "        denominator = 2*var\n",
    "        exponenet = np.exp(- numerator / denominator)\n",
    "        likelihood = multiplier * exponenet\n",
    "        return likelihood\n",
    "    def predict(self, X_test):\n",
    "        n_rows = X_test.shape[0]\n",
    "        labels = self._prior_proba.keys()\n",
    "        y_preds = []\n",
    "        for i in range(n_rows):\n",
    "            X_test_i = X_test[i, :]\n",
    "            log_posterior_probas = []\n",
    "            for label in labels:\n",
    "                label_var = self._mean_var[label][\"var\"]\n",
    "                label_mean = self._mean_var[label][\"mean\"]\n",
    "                likelihood = self.get_likelihood(X_test_i, label_var, label_mean)\n",
    "                log_likelihood = np.log(likelihood)\n",
    "                sum_log_likelihood = np.sum(log_likelihood)\n",
    "                log_prior_proba = np.log(self._prior_proba[label])\n",
    "                log_posterior_proba = log_prior_proba + sum_log_likelihood\n",
    "                log_posterior_probas.append(log_posterior_proba)\n",
    "            log_posterior_probas = np.array(log_posterior_probas)\n",
    "            y_pred = np.argmax(log_posterior_probas)\n",
    "            y_preds.append(y_pred)\n",
    "        return np.array(y_preds)"
   ]
  },
  {
   "cell_type": "code",
   "execution_count": 43,
   "metadata": {
    "slideshow": {
     "slide_type": "subslide"
    }
   },
   "outputs": [],
   "source": [
    "X = player_stats[[\"apg\", \"rpg\"]].values\n",
    "pos_binary = player_stats[\"pos\"].map(lambda x: 0 if x[0] == \"G\" else 1)\n",
    "y = pos_binary.values\n",
    "X_train, X_valid, y_train, y_valid = train_test_split(X, y, test_size=0.33, random_state=42)\n",
    "nb = GaussianNaiveBayes()\n",
    "nb.fit(X_train, y_train)\n",
    "y_hat = nb.predict(X_valid)"
   ]
  },
  {
   "cell_type": "code",
   "execution_count": 44,
   "metadata": {
    "slideshow": {
     "slide_type": "subslide"
    }
   },
   "outputs": [
    {
     "name": "stdout",
     "output_type": "stream",
     "text": [
      "51\n",
      "166\n",
      "0.3072289156626506\n"
     ]
    }
   ],
   "source": [
    "errors_nb = np.sum(y_valid != y_hat)\n",
    "print(errors_nb)\n",
    "print(y_valid.size)\n",
    "print(errors_nb / y_valid.size)"
   ]
  },
  {
   "cell_type": "markdown",
   "metadata": {
    "slideshow": {
     "slide_type": "slide"
    }
   },
   "source": [
    "## 重點統整\n",
    "\n",
    "- 模型（Model）是一個類似於「函數」的概念，由參數與運算組成。\n",
    "- 模型的參數以及運算可以透過不同的方式生成，生成方式包含規則敘述與歷史資料訓練。\n",
    "    - 透過規則敘述生成參數以及運算，稱為基於規則的模型（Rule-based model）或稱專家模型。\n",
    "    - 透過歷史資料訓練生成參數以及運算，稱為基於演算法的模型（Algorithm-based model）或稱基於機器學習的模型。"
   ]
  },
  {
   "cell_type": "markdown",
   "metadata": {
    "slideshow": {
     "slide_type": "subslide"
    }
   },
   "source": [
    "## 重點統整（續）\n",
    "\n",
    "- 採用基於規則的模型：\n",
    "    - 問題能用人類語言描述邏輯、撰寫規則。\n",
    "    - 答案不能容忍誤差。\n",
    "- 採用基於機器學習的模型：\n",
    "    - 問題非領域專家不容易描述邏輯、撰寫規則。\n",
    "    - 答案能夠容忍誤差。\n",
    "- 採用基於深度學習的模型：\n",
    "    - 問題完全不能用人類語言描述邏輯、撰寫規則。\n",
    "    - 答案能夠容忍誤差。"
   ]
  },
  {
   "cell_type": "markdown",
   "metadata": {
    "slideshow": {
     "slide_type": "subslide"
    }
   },
   "source": [
    "## 重點統整（續）\n",
    "\n",
    "- 監督式學習：訓練資料中具備已實現的數值或標籤。\n",
    "    - 迴歸：數值預測的任務。\n",
    "    - 分類：類別預測的任務。\n",
    "- 非監督式學習：訓練資料中「不」具備已實現的數值或標籤。\n",
    "- 如何選擇模型：考量哪個模型驗證資料與預測資料的誤差最少。\n",
    "    - 數值預測任務：均方誤差。\n",
    "    - 類別預測任務：誤分類數。"
   ]
  }
 ],
 "metadata": {
  "celltoolbar": "Slideshow",
  "kernelspec": {
   "display_name": "Python 3 (ipykernel)",
   "language": "python",
   "name": "python3"
  },
  "language_info": {
   "codemirror_mode": {
    "name": "ipython",
    "version": 3
   },
   "file_extension": ".py",
   "mimetype": "text/x-python",
   "name": "python",
   "nbconvert_exporter": "python",
   "pygments_lexer": "ipython3",
   "version": "3.9.16"
  }
 },
 "nbformat": 4,
 "nbformat_minor": 4
}
