{
 "cells": [
  {
   "cell_type": "markdown",
   "metadata": {
    "deletable": false
   },
   "source": [
    "# Python 機器學習從零至一 \n",
    "\n",
    "> 表現的評估\n",
    "\n",
    "[數據交點](https://www.datainpoint.com) | 郭耀仁 <yaojenkuo@datainpoint.com>"
   ]
  },
  {
   "cell_type": "code",
   "execution_count": null,
   "metadata": {
    "deletable": false
   },
   "outputs": [],
   "source": [
    "import numpy as np"
   ]
  },
  {
   "cell_type": "markdown",
   "metadata": {},
   "source": [
    "## Instructions\n",
    "\n",
    "- The assignment will be disconnected if idling over 10 minutes, we can reactivate a new session by clicking the assignment link again.\n",
    "- We've imported necessary modules at the top of each assignment.\n",
    "- We've put necessary files(if any) in `/home/jovyan/data`.\n",
    "- We've defined the names of functions/inputs/parameters for you.\n",
    "- Write down your solution between the comments `### BEGIN SOLUTION` and `### END SOLUTION`.\n",
    "- It is NECESSARY to `return` the answer, tests will fail by just printing out the answer.\n",
    "- It is known that `SyntaxError` and `IndentationError` might break our `test_runner.py` and results in a zero point grade. It is highly recommended testing your solution by calling functions/methods in notebook or running tests before submission.\n",
    "- Running tests to see if your solutions are right:\n",
    "    - File -> Save Notebook to save `exercises.ipynb`.\n",
    "    - File -> New -> Terminal to open a Terminal.\n",
    "    - Use command `python 05-exercises/test_runner.py` to run test."
   ]
  },
  {
   "cell_type": "markdown",
   "metadata": {},
   "source": [
    "## 01. Define a class named `MeanError` which instantiates objects with 2 methods `get_mse` and `get_mae` that is able to calculate the mean square error and mean absolute error between 2 equal length arrays.\n",
    "\n",
    "\\begin{equation}\n",
    "MSE = \\frac{1}{m}\\sum_{i=1}^{m}(y_i - \\hat{y_{i}})^2 \\\\\n",
    "MAE = \\frac{1}{m}\\sum_{i=1}^{m} \\mid y_i - \\hat{y_{i}} \\mid\n",
    "\\end{equation}\n",
    "\n",
    "Sources: <https://en.wikipedia.org/wiki/Mean_squared_error>, <https://en.wikipedia.org/wiki/Mean_absolute_error>\n",
    "\n",
    "- Expected inputs: `np.ndarray`\n",
    "- Expected outputs: `float`"
   ]
  },
  {
   "cell_type": "code",
   "execution_count": null,
   "metadata": {},
   "outputs": [],
   "source": [
    "class MeanError:\n",
    "    \"\"\"\n",
    "    >>> y = np.array([5, 5, 6, 6])\n",
    "    >>> y_hat = np.array([5, 5, 6, 6])\n",
    "    >>> me = MeanError(y, y_hat)\n",
    "    >>> me.get_mse()\n",
    "    0.0\n",
    "    >>> me.get_mae()\n",
    "    0.0\n",
    "    >>> y = np.array([5, 5, 6, 6])\n",
    "    >>> y_hat = np.array([5, 6, 7, 8])\n",
    "    >>> me = MeanError(y, y_hat)\n",
    "    >>> me.get_mse()\n",
    "    1.5\n",
    "    >>> me.get_mae()\n",
    "    1.0\n",
    "    \"\"\"\n",
    "    ### BEGIN SOLUTION\n",
    "    \n",
    "    ### END SOLUTION"
   ]
  },
  {
   "cell_type": "markdown",
   "metadata": {},
   "source": [
    "## 02. Define a function named `get_confusion_matrix` which generates a `(2, 2)` confusion matrix for 2 equal length arrays. The number of true negatives, true positives, false negatives, and false positives are placed at `[0, 0]`, `[1, 1]`, `[1, 0]`, and `[0, 1]` respectively. \n",
    "\n",
    "Source: <https://en.wikipedia.org/wiki/Confusion_matrix>\n",
    "\n",
    "- Expected inputs: `np.ndarray`\n",
    "- Expected outputs: `np.ndarray`"
   ]
  },
  {
   "cell_type": "code",
   "execution_count": null,
   "metadata": {},
   "outputs": [],
   "source": [
    "def get_confusion_matrix(y_true: np.ndarray, y_pred: np.ndarray) -> np.ndarray:\n",
    "    \"\"\"\n",
    "    >>> np.random.seed(0)\n",
    "    >>> y = np.random.randint(0, 2, size=100)\n",
    "    >>> np.random.seed(1)\n",
    "    >>> y_hat = np.random.randint(0, 2, size=100)\n",
    "    >>> get_confusion_matrix(y, y_hat)\n",
    "    array([[21, 23],\n",
    "           [24, 32]])\n",
    "    >>> np.random.seed(2)\n",
    "    >>> y = np.random.randint(0, 2, size=100)\n",
    "    >>> np.random.seed(3)\n",
    "    >>> y_hat = np.random.randint(0, 2, size=100)\n",
    "    >>> get_confusion_matrix(y, y_hat)\n",
    "    array([[27, 28],\n",
    "           [23, 22]])\n",
    "    \"\"\"\n",
    "    ### BEGIN SOLUTION\n",
    "    \n",
    "    ### END SOLUTION"
   ]
  }
 ],
 "metadata": {
  "kernelspec": {
   "display_name": "ML from Scratch",
   "language": "python",
   "name": "mlfromscratch"
  },
  "language_info": {
   "codemirror_mode": {
    "name": "ipython",
    "version": 3
   },
   "file_extension": ".py",
   "mimetype": "text/x-python",
   "name": "python",
   "nbconvert_exporter": "python",
   "pygments_lexer": "ipython3",
   "version": "3.8.12"
  }
 },
 "nbformat": 4,
 "nbformat_minor": 4
}
