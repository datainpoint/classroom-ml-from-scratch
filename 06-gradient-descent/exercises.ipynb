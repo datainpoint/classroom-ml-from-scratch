{
 "cells": [
  {
   "cell_type": "markdown",
   "metadata": {
    "deletable": false
   },
   "source": [
    "# Python 機器學習從零至一 \n",
    "\n",
    "> 梯度遞減\n",
    "\n",
    "[數據交點](https://www.datainpoint.com) | 郭耀仁 <yaojenkuo@datainpoint.com>"
   ]
  },
  {
   "cell_type": "code",
   "execution_count": null,
   "metadata": {
    "deletable": false
   },
   "outputs": [],
   "source": [
    "import unittest\n",
    "import numpy as np\n",
    "import pandas as pd\n",
    "from sklearn.model_selection import train_test_split\n",
    "from sklearn.preprocessing import MinMaxScaler"
   ]
  },
  {
   "cell_type": "markdown",
   "metadata": {},
   "source": [
    "## 練習題指引\n",
    "\n",
    "- 練習題閒置超過 15 分鐘會自動斷線，只要重新點選練習題連結即可重新啟動。\n",
    "- 第一個程式碼儲存格會將可能用得到的模組載入。\n",
    "- 如果練習題需要載入檔案，檔案存放於練習題的工作目錄。\n",
    "- 練習題已經給定函數、類別、預期輸入或參數名稱，我們只需要寫作程式區塊。同時也給定函數的類別提示，說明預期輸入以及預期輸出的類別。\n",
    "- 說明（Docstring）會描述測試如何進行，閱讀說明能夠暸解預期輸入以及預期輸出之間的關係，幫助我們更快解題。\n",
    "- 請在 `### BEGIN SOLUTION` 與 `### END SOLUTION` 這兩個註解之間寫作函數或者類別的程式區塊。\n",
    "- 將預期輸出放置在 `return` 保留字之後，若只是用 `print()` 函數將預期輸出印出無法通過測試。\n",
    "- 語法錯誤（`SyntaxError`）或縮排錯誤（`IndentationError`）等將會導致測試失效，測試之前應該先在筆記本使用函數觀察是否與說明（Docstring）描述的功能相符。\n",
    "- 執行測試：點選上方選單的 Kernel -> Restart & Run All -> Restart and Run All Cells"
   ]
  },
  {
   "cell_type": "markdown",
   "metadata": {},
   "source": [
    "## 01. 載入 `regression` 中的 `train.csv`\n",
    "\n",
    "定義函數 `import_regression()` 將位於 `regression` 資料夾的 `train.csv` 載入。\n",
    "\n",
    "- 使用 `pd.read_csv()` 函數。\n",
    "- 將預期輸出寫在 `return` 之後。"
   ]
  },
  {
   "cell_type": "code",
   "execution_count": null,
   "metadata": {},
   "outputs": [],
   "source": [
    "def import_regression() -> pd.core.frame.DataFrame:\n",
    "    \"\"\"\n",
    "    >>> train = import_regression()\n",
    "    >>> type(train)\n",
    "    pandas.core.frame.DataFrame\n",
    "    >>> train.shape\n",
    "    (15, 2)\n",
    "    \"\"\"\n",
    "    ### BEGIN SOLUTION\n",
    "    \n",
    "    ### END SOLUTION"
   ]
  },
  {
   "cell_type": "markdown",
   "metadata": {},
   "source": [
    "## 02. 選擇 `regression` 目標陣列與特徵矩陣\n",
    "\n",
    "定義函數 `extract_target_array_feature_matrix_regression()` 以 `train.csv` 中的 `y` 作為目標陣列 $y$、`x1` 作為特徵矩陣 $X$\n",
    "\n",
    "- 使用 `import_regression()` 函數。\n",
    "- 運用選擇欄位技巧。\n",
    "- 注意特徵矩陣外型。\n",
    "- 將預期輸出寫在 `return` 之後。"
   ]
  },
  {
   "cell_type": "code",
   "execution_count": null,
   "metadata": {},
   "outputs": [],
   "source": [
    "def extract_target_array_feature_matrix_regression() -> tuple:\n",
    "    \"\"\"\n",
    "    >>> y, X = extract_target_array_feature_matrix_regression()\n",
    "    >>> type(y)\n",
    "    numpy.ndarray\n",
    "    >>> type(X)\n",
    "    numpy.ndarray\n",
    "    >>> y.shape\n",
    "    (15,)\n",
    "    >>> X.shape\n",
    "    (15, 1)\n",
    "    \"\"\"\n",
    "    ### BEGIN SOLUTION\n",
    "    \n",
    "    ### END SOLUTION"
   ]
  },
  {
   "cell_type": "markdown",
   "metadata": {},
   "source": [
    "## 03. 為 `regression` 特徵矩陣添加截距\n",
    "\n",
    "定義函數 `add_intercepts_for_feature_matrix_regression()` 為特徵矩陣添加截距 $x_0 = 1$\n",
    "\n",
    "- 將預期輸出寫在 `return` 之後。"
   ]
  },
  {
   "cell_type": "code",
   "execution_count": null,
   "metadata": {},
   "outputs": [],
   "source": [
    "def add_intercepts_for_feature_matrix_regression(X: np.ndarray) -> np.ndarray:\n",
    "    \"\"\"\n",
    "    >>> y, X = extract_target_array_feature_matrix_regression()\n",
    "    >>> X = add_intercepts_for_feature_matrix_regression(X)\n",
    "    >>> type(X)\n",
    "    numpy.ndarray\n",
    "    >>> X.shape\n",
    "    (15, 2)\n",
    "    >>> X\n",
    "    array([[ 1,  1],\n",
    "           [ 1,  2],\n",
    "           [ 1,  3],\n",
    "           [ 1,  4],\n",
    "           [ 1,  5],\n",
    "           [ 1,  6],\n",
    "           [ 1,  7],\n",
    "           [ 1,  8],\n",
    "           [ 1,  9],\n",
    "           [ 1, 10],\n",
    "           [ 1, 11],\n",
    "           [ 1, 12],\n",
    "           [ 1, 13],\n",
    "           [ 1, 14],\n",
    "           [ 1, 15]])\n",
    "    \"\"\"\n",
    "    ### BEGIN SOLUTION\n",
    "    \n",
    "    ### END SOLUTION"
   ]
  },
  {
   "cell_type": "markdown",
   "metadata": {},
   "source": [
    "## 04. 使用梯度遞減找出 `regression` 的規則 $w$ \n",
    "\n",
    "定義函數 `find_w_with_gradient_descent_regression()` 找出目標陣列 $y$、特徵矩陣 $X$ 之間的規則 $w$\n",
    "\n",
    "- 使用梯度遞減。\n",
    "- 將預期輸出寫在 `return` 之後。"
   ]
  },
  {
   "cell_type": "code",
   "execution_count": null,
   "metadata": {},
   "outputs": [],
   "source": [
    "def find_w_with_gradient_descent_regression(X: np.ndarray, y: np.ndarray) -> tuple:\n",
    "    \"\"\"\n",
    "    >>> y, X = extract_target_array_feature_matrix_regression()\n",
    "    >>> X = add_intercepts_for_feature_matrix_regression(X)\n",
    "    >>> w0, w1 = find_w_with_gradient_descent_regression(X, y)\n",
    "    >>> w0\n",
    "    54.45457559513067\n",
    "    >>> w1\n",
    "    66.0529262315208\n",
    "    \"\"\"\n",
    "    ### BEGIN SOLUTION\n",
    "    \n",
    "    ### END SOLUTION"
   ]
  },
  {
   "cell_type": "markdown",
   "metadata": {},
   "source": [
    "## 05. 載入 `house-prices` 中的 `train.csv` 與 `test.csv`\n",
    "\n",
    "定義函數 `import_house_prices()` 將位於 `house-prices` 路徑的 `train.csv` 與 `test.csv` 載入。\n",
    "\n",
    "來源：<https://www.kaggle.com/c/house-prices-advanced-regression-techniques>\n",
    "\n",
    "- 運用絕對路徑。\n",
    "- 使用 `pd.read_csv()` 函數。\n",
    "- 將預期輸出寫在 `return` 之後。"
   ]
  },
  {
   "cell_type": "code",
   "execution_count": null,
   "metadata": {},
   "outputs": [],
   "source": [
    "def import_house_prices() -> tuple:\n",
    "    \"\"\"\n",
    "    >>> train, test = import_house_prices()\n",
    "    >>> type(train)\n",
    "    pandas.core.frame.DataFrame\n",
    "    >>> type(test)\n",
    "    pandas.core.frame.DataFrame\n",
    "    >>> train.shape\n",
    "    (1460, 81)\n",
    "    >>> test.shape\n",
    "    (1459, 80)\n",
    "    \"\"\"\n",
    "    ### BEGIN SOLUTION\n",
    "    \n",
    "    ### END SOLUTION"
   ]
  },
  {
   "cell_type": "markdown",
   "metadata": {},
   "source": [
    "## 06. 選擇 `house-prices` 目標陣列與特徵矩陣\n",
    "\n",
    "定義函數 `extract_target_array_feature_matrix_house_prices()` 以 `train.csv` 中的 `SalePrice` 作為目標陣列 $y$、`OverallQual` 以及 `GrLivArea` 作為特徵矩陣 $X$\n",
    "\n",
    "- 使用 `import_house_prices()` 函數。\n",
    "- 運用選擇欄位技巧。\n",
    "- 注意特徵矩陣外型。\n",
    "- 將預期輸出寫在 `return` 之後。"
   ]
  },
  {
   "cell_type": "code",
   "execution_count": null,
   "metadata": {},
   "outputs": [],
   "source": [
    "def extract_target_array_feature_matrix_house_prices() -> tuple:\n",
    "    \"\"\"\n",
    "    >>> y, X = extract_target_array_feature_matrix_house_prices()\n",
    "    >>> type(y)\n",
    "    numpy.ndarray\n",
    "    >>> type(X)\n",
    "    numpy.ndarray\n",
    "    >>> y.shape\n",
    "    (1460,)\n",
    "    >>> X.shape\n",
    "    (1460, 2)\n",
    "    \"\"\"\n",
    "    ### BEGIN SOLUTION\n",
    "    \n",
    "    ### END SOLUTION"
   ]
  },
  {
   "cell_type": "markdown",
   "metadata": {},
   "source": [
    "## 07. 對 `house-prices` 特徵矩陣進行最大最小標準化\n",
    "\n",
    "定義函數 `standardize_feature_matrix_house_prices()` 對特徵矩陣進行最大最小標準化。\n",
    "\n",
    "- 使用 `sklearn.preprocessing.MinMaxScaler`\n",
    "- 將預期輸出寫在 `return` 之後。"
   ]
  },
  {
   "cell_type": "code",
   "execution_count": null,
   "metadata": {},
   "outputs": [],
   "source": [
    "def standardize_feature_matrix_house_prices(X: np.ndarray) -> np.ndarray:\n",
    "    \"\"\"\n",
    "    >>> y, X = extract_target_array_feature_matrix_house_prices()\n",
    "    >>> X_scaled = standardize_feature_matrix_house_prices(X)\n",
    "    >>> type(X_scaled)\n",
    "    numpy.ndarray\n",
    "    >>> X_scaled.shape\n",
    "    (1460, 2)\n",
    "    >>> X_scaled\n",
    "    array([[0.66666667, 0.25923135],\n",
    "           [0.55555556, 0.17483044],\n",
    "           [0.66666667, 0.27354936],\n",
    "           ...,\n",
    "           [0.66666667, 0.37792012],\n",
    "           [0.44444444, 0.14016579],\n",
    "           [0.44444444, 0.17370008]])\n",
    "    \"\"\"\n",
    "    ### BEGIN SOLUTION\n",
    "    \n",
    "    ### END SOLUTION"
   ]
  },
  {
   "cell_type": "markdown",
   "metadata": {},
   "source": [
    "## 08. 為 `house-prices` 特徵矩陣添加截距\n",
    "\n",
    "定義函數 `add_intercepts_for_feature_matrix_house_prices()` 為特徵矩陣添加截距 $x_0 = 1$\n",
    "\n",
    "- 將預期輸出寫在 `return` 之後。"
   ]
  },
  {
   "cell_type": "code",
   "execution_count": null,
   "metadata": {},
   "outputs": [],
   "source": [
    "def add_intercepts_for_feature_matrix_house_prices(X: np.ndarray) -> np.ndarray:\n",
    "    \"\"\"\n",
    "    >>> y, X = extract_target_array_feature_matrix_house_prices()\n",
    "    >>> X_scaled = standardize_feature_matrix_house_prices(X)\n",
    "    >>> X_scaled = add_intercepts_for_feature_matrix_house_prices(X_scaled)\n",
    "    >>> type(X_scaled)\n",
    "    numpy.ndarray\n",
    "    >>> X_scaled.shape\n",
    "    (1460, 3)\n",
    "    >>> X_scaled\n",
    "    array([[1.        , 0.66666667, 0.25923135],\n",
    "           [1.        , 0.55555556, 0.17483044],\n",
    "           [1.        , 0.66666667, 0.27354936],\n",
    "           ...,\n",
    "           [1.        , 0.66666667, 0.37792012],\n",
    "           [1.        , 0.44444444, 0.14016579],\n",
    "           [1.        , 0.44444444, 0.17370008]])\n",
    "    \"\"\"\n",
    "    ### BEGIN SOLUTION\n",
    "    \n",
    "    ### END SOLUTION"
   ]
  },
  {
   "cell_type": "markdown",
   "metadata": {},
   "source": [
    "## 09. 切割 `house-prices` 訓練與驗證資料\n",
    "\n",
    "定義函數 `split_train_valid_house_prices()` 將 $y$ 與 $X$ 切割為訓練與驗證資料。\n",
    "\n",
    "- 使用 `train_test_split(test_size=0.3, random_state=42)` 函數。\n",
    "- 將預期輸出寫在 `return` 之後。"
   ]
  },
  {
   "cell_type": "code",
   "execution_count": null,
   "metadata": {},
   "outputs": [],
   "source": [
    "def split_train_valid_house_prices(X: np.ndarray, y: np.ndarray) -> tuple:\n",
    "    \"\"\"\n",
    "    >>> y, X = extract_target_array_feature_matrix_house_prices()\n",
    "    >>> X_scaled = standardize_feature_matrix_house_prices(X)\n",
    "    >>> X_scaled = add_intercepts_for_feature_matrix_house_prices(X_scaled)\n",
    "    >>> X_train, X_valid, y_train, y_valid = split_train_valid_house_prices(X_scaled, y)\n",
    "    >>> X_train.shape\n",
    "    (1022, 3)\n",
    "    >>> X_valid.shape\n",
    "    (438, 3)\n",
    "    >>> y_train.shape\n",
    "    (1022,)\n",
    "    >>> y_valid.shape\n",
    "    (438,)\n",
    "    \"\"\"\n",
    "    ### BEGIN SOLUTION\n",
    "    \n",
    "    ### END SOLUTION"
   ]
  },
  {
   "cell_type": "markdown",
   "metadata": {},
   "source": [
    "## 10. 使用梯度遞減找出 `house-prices` 的規則 $w$ \n",
    "\n",
    "定義函數 `find_w_with_gradient_descent_house_prices()` 找出目標陣列 $y$、特徵矩陣 $X$ 之間的規則 $w$\n",
    "\n",
    "- 使用梯度遞減。\n",
    "- 將預期輸出寫在 `return` 之後。"
   ]
  },
  {
   "cell_type": "code",
   "execution_count": null,
   "metadata": {},
   "outputs": [],
   "source": [
    "def find_w_with_gradient_descent_house_prices(X: np.ndarray, y: np.ndarray) -> np.ndarray:\n",
    "    \"\"\"\n",
    "    >>> y, X = extract_target_array_feature_matrix_house_prices()\n",
    "    >>> X_scaled = standardize_feature_matrix_house_prices(X)\n",
    "    >>> X_scaled = add_intercepts_for_feature_matrix_house_prices(X_scaled)\n",
    "    >>> X_train, X_valid, y_train, y_valid = split_train_valid_house_prices(X_scaled, y)\n",
    "    >>> w = find_w_with_gradient_descent_house_prices(X_train, y_train)\n",
    "    >>> w\n",
    "    array([-48286.9320018 , 295454.960101  , 272007.71844698])\n",
    "    \"\"\"\n",
    "    ### BEGIN SOLUTION\n",
    "    \n",
    "    ### END SOLUTION"
   ]
  },
  {
   "cell_type": "markdown",
   "metadata": {},
   "source": [
    "## 10. 以梯度遞減找出的 $w$ 預測位於 `house-prices` 路徑的 `test.csv`\n",
    "\n",
    "定義函數 `predict_sale_price()` 能夠依據 `OverallQual` 與 `GrLivArea` 預測 `test.csv` 的 `SalePrice`\n",
    "\n",
    "- 使用 `import_house_prices()` 函數。\n",
    "- 使用 `extract_target_array_feature_matrix_house_prices()` 函數。\n",
    "- 使用 `standardize_feature_matrix_house_prices()` 函數。\n",
    "- 使用 `add_intercepts_for_feature_matrix_house_prices()` 函數。\n",
    "- 使用 `split_train_valid_house_prices()` 函數。\n",
    "- 使用 `find_w_with_gradient_descent_house_prices()` 函數。\n",
    "- 將預期輸出寫在 `return` 之後。"
   ]
  },
  {
   "cell_type": "code",
   "execution_count": null,
   "metadata": {},
   "outputs": [],
   "source": [
    "def predict_sale_price(X_test: pd.core.frame.DataFrame) -> pd.core.frame.DataFrame:\n",
    "    \"\"\"\n",
    "    >>> train, test = import_house_prices()\n",
    "    >>> X_test = test[[\"Id\", \"OverallQual\", \"GrLivArea\"]]\n",
    "    >>> predict_sale_price(X_test)\n",
    "    \n",
    "    >>> predict_sale_price(X_test)\n",
    "            Id      SalePrice\n",
    "    0     1461  111399.202352\n",
    "    1     1462  169351.111050\n",
    "    2     1463  153929.419424\n",
    "    3     1464  185307.195217\n",
    "    4     1465  232164.684760\n",
    "    ...    ...            ...\n",
    "    1454  2915   89943.209805\n",
    "    1455  2916   89943.209805\n",
    "    1456  2917  130430.459105\n",
    "    1457  2918  115692.839546\n",
    "    1458  2919  241112.285317\n",
    "\n",
    "    [1459 rows x 2 columns]\n",
    "    \"\"\"\n",
    "    ### BEGIN SOLUTION\n",
    "    \n",
    "    ### END SOLUTION"
   ]
  },
  {
   "cell_type": "markdown",
   "metadata": {},
   "source": [
    "## 練習題結束，以下儲存格為批改測試使用。"
   ]
  },
  {
   "cell_type": "code",
   "execution_count": null,
   "metadata": {},
   "outputs": [],
   "source": [
    "class TestGradientDescent(unittest.TestCase):\n",
    "    def test_01_import_regression(self):\n",
    "        train = import_regression()\n",
    "        self.assertIsInstance(train, pd.core.frame.DataFrame)\n",
    "        self.assertEqual(train.shape, (15, 2))\n",
    "    def test_02_extract_target_array_feature_matrix_regression(self):\n",
    "        y, X = extract_target_array_feature_matrix_regression()\n",
    "        self.assertIsInstance(y, np.ndarray)\n",
    "        self.assertIsInstance(X, np.ndarray)\n",
    "        self.assertEqual(y.shape, (15,))\n",
    "        self.assertEqual(X.shape, (15, 1))\n",
    "    def test_03_add_intercepts_for_feature_matrix_regression(self):\n",
    "        y, X = extract_target_array_feature_matrix_regression()\n",
    "        X = add_intercepts_for_feature_matrix_regression(X)\n",
    "        self.assertIsInstance(X, np.ndarray)\n",
    "        self.assertEqual(X.shape, (15, 2))\n",
    "    def test_04_find_w_with_gradient_descent_regression(self):\n",
    "        y, X = extract_target_array_feature_matrix_regression()\n",
    "        X = add_intercepts_for_feature_matrix_regression(X)\n",
    "        w0, w1 = find_w_with_gradient_descent_regression(X, y)\n",
    "        self.assertTrue(w0 > 50)\n",
    "        self.assertTrue(w0 < 60)\n",
    "        self.assertTrue(w1 > 65)\n",
    "        self.assertTrue(w1 < 70)\n",
    "    def test_05_import_house_prices(self):\n",
    "        train, test = import_house_prices()\n",
    "        self.assertIsInstance(train, pd.core.frame.DataFrame)\n",
    "        self.assertIsInstance(test, pd.core.frame.DataFrame)\n",
    "        self.assertEqual(train.shape, (1460, 81))\n",
    "        self.assertEqual(test.shape, (1459, 80))\n",
    "    def test_06_extract_target_array_feature_matrix_house_prices(self):\n",
    "        y, X = extract_target_array_feature_matrix_house_prices()\n",
    "        self.assertEqual(y.shape, (1460,))\n",
    "        self.assertEqual(X.shape, (1460, 2))\n",
    "    def test_07_standardize_feature_matrix_house_prices(self):\n",
    "        y, X = extract_target_array_feature_matrix_house_prices()\n",
    "        X_scaled = standardize_feature_matrix_house_prices(X)\n",
    "        self.assertIsInstance(X_scaled, np.ndarray)\n",
    "        self.assertEqual(X_scaled.shape, (1460, 2))\n",
    "        self.assertTrue(X_scaled[:, 0].max() <= 1)\n",
    "        self.assertTrue(X_scaled[:, 0].min() >= 0)\n",
    "        self.assertTrue(X_scaled[:, 1].max() <= 1)\n",
    "        self.assertTrue(X_scaled[:, 1].min() >= 0)\n",
    "    def test_08_add_intercepts_for_feature_matrix_house_prices(self):\n",
    "        y, X = extract_target_array_feature_matrix_house_prices()\n",
    "        X = standardize_feature_matrix_house_prices(X)\n",
    "        X = add_intercepts_for_feature_matrix_house_prices(X)\n",
    "        self.assertEqual(X.shape, (1460, 3))\n",
    "    def test_09_split_train_valid_house_prices(self):\n",
    "        y, X = extract_target_array_feature_matrix_house_prices()\n",
    "        X = standardize_feature_matrix_house_prices(X)\n",
    "        X = add_intercepts_for_feature_matrix_house_prices(X)\n",
    "        X_train, X_valid, y_train, y_valid = split_train_valid_house_prices(X, y)\n",
    "        self.assertEqual(X_train.shape, (1022, 3))\n",
    "        self.assertEqual(X_valid.shape, (438, 3))\n",
    "        self.assertEqual(y_train.shape, (1022,))\n",
    "        self.assertEqual(y_valid.shape, (438,))\n",
    "    def test_10_find_w_with_gradient_descent_house_prices(self):\n",
    "        y, X = extract_target_array_feature_matrix_house_prices()\n",
    "        X = standardize_feature_matrix_house_prices(X)\n",
    "        X = add_intercepts_for_feature_matrix_house_prices(X)\n",
    "        X_train, X_valid, y_train, y_valid = split_train_valid_house_prices(X, y)\n",
    "        w = find_w_with_gradient_descent_house_prices(X_train, y_train)\n",
    "        self.assertEqual(w.shape, (3,))\n",
    "        self.assertTrue(w[0] < 0)\n",
    "        self.assertTrue(w[1] > 0)\n",
    "        self.assertTrue(w[2] > 0)\n",
    "    def test_11_predict_sale_price(self):\n",
    "        train, test = import_house_prices()\n",
    "        X_test = test[[\"Id\", \"OverallQual\", \"GrLivArea\"]]\n",
    "        sale_price = predict_sale_price(X_test)\n",
    "        self.assertIsInstance(sale_price, pd.core.frame.DataFrame)\n",
    "        self.assertEqual(sale_price.shape, (1459, 2))\n",
    "        \n",
    "suite = unittest.TestLoader().loadTestsFromTestCase(TestGradientDescent)\n",
    "runner = unittest.TextTestRunner(verbosity=2)\n",
    "test_results = runner.run(suite)\n",
    "number_of_failures = len(test_results.failures)\n",
    "number_of_errors = len(test_results.errors)\n",
    "number_of_test_runs = test_results.testsRun\n",
    "number_of_successes = number_of_test_runs - (number_of_failures + number_of_errors)"
   ]
  },
  {
   "cell_type": "code",
   "execution_count": null,
   "metadata": {},
   "outputs": [],
   "source": [
    "print(\"你在梯度遞減的 {} 個問題中答對了 {} 題。\".format(number_of_test_runs, number_of_successes))"
   ]
  }
 ],
 "metadata": {
  "kernelspec": {
   "display_name": "ML from Scratch",
   "language": "python",
   "name": "mlfromscratch"
  },
  "language_info": {
   "codemirror_mode": {
    "name": "ipython",
    "version": 3
   },
   "file_extension": ".py",
   "mimetype": "text/x-python",
   "name": "python",
   "nbconvert_exporter": "python",
   "pygments_lexer": "ipython3",
   "version": "3.8.13"
  }
 },
 "nbformat": 4,
 "nbformat_minor": 4
}
