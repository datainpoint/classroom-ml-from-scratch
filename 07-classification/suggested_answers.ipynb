{
 "cells": [
  {
   "cell_type": "markdown",
   "metadata": {
    "deletable": false
   },
   "source": [
    "# Python 機器學習從零至一 \n",
    "\n",
    "> 類別預測的任務\n",
    "\n",
    "[數據交點](https://www.datainpoint.com) | 郭耀仁 <yaojenkuo@datainpoint.com>"
   ]
  },
  {
   "cell_type": "code",
   "execution_count": 1,
   "metadata": {
    "deletable": false
   },
   "outputs": [],
   "source": [
    "import unittest\n",
    "import numpy as np\n",
    "import pandas as pd\n",
    "from sklearn.model_selection import train_test_split"
   ]
  },
  {
   "cell_type": "markdown",
   "metadata": {},
   "source": [
    "## 練習題指引\n",
    "\n",
    "- 練習題閒置超過 15 分鐘會自動斷線，只要重新點選練習題連結即可重新啟動。\n",
    "- 第一個程式碼儲存格會將可能用得到的模組載入。\n",
    "- 如果練習題需要載入檔案，檔案存放於練習題的工作目錄。\n",
    "- 練習題已經給定函數、類別、預期輸入或參數名稱，我們只需要寫作程式區塊。同時也給定函數的類別提示，說明預期輸入以及預期輸出的類別。\n",
    "- 說明（Docstring）會描述測試如何進行，閱讀說明能夠暸解預期輸入以及預期輸出之間的關係，幫助我們更快解題。\n",
    "- 請在 `### BEGIN SOLUTION` 與 `### END SOLUTION` 這兩個註解之間寫作函數或者類別的程式區塊。\n",
    "- 將預期輸出放置在 `return` 保留字之後，若只是用 `print()` 函數將預期輸出印出無法通過測試。\n",
    "- 語法錯誤（`SyntaxError`）或縮排錯誤（`IndentationError`）等將會導致測試失效，測試之前應該先在筆記本使用函數觀察是否與說明（Docstring）描述的功能相符。\n",
    "- 執行測試：點選上方選單的 Kernel -> Restart & Run All -> Restart and Run All Cells"
   ]
  },
  {
   "cell_type": "markdown",
   "metadata": {},
   "source": [
    "## 01. 載入 `titanic` 中的 `train.csv` 與 `test.csv`\n",
    "\n",
    "定義函數 `import_titanic()` 將位於 `titanic` 路徑的 `train.csv` 與 `test.csv` 載入。\n",
    "\n",
    "來源：<https://www.kaggle.com/c/titanic>\n",
    "\n",
    "- 運用絕對路徑。\n",
    "- 使用 `pd.read_csv()` 函數。\n",
    "- 將預期輸出寫在 `return` 之後。"
   ]
  },
  {
   "cell_type": "code",
   "execution_count": 2,
   "metadata": {},
   "outputs": [],
   "source": [
    "def import_titanic() -> tuple:\n",
    "    \"\"\"\n",
    "    >>> train, test = import_titanic()\n",
    "    >>> type(train)\n",
    "    pandas.core.frame.DataFrame\n",
    "    >>> type(test)\n",
    "    pandas.core.frame.DataFrame\n",
    "    >>> train.shape\n",
    "    (891, 12)\n",
    "    >>> test.shape\n",
    "    (418, 11)\n",
    "    \"\"\"\n",
    "    ### BEGIN SOLUTION\n",
    "    train_csv = pd.read_csv(\"titanic/train.csv\")\n",
    "    test_csv = pd.read_csv(\"titanic/test.csv\")\n",
    "    return train_csv, test_csv\n",
    "    ### END SOLUTION"
   ]
  },
  {
   "cell_type": "markdown",
   "metadata": {},
   "source": [
    "## 02. 選擇 `titanic` 目標陣列與特徵矩陣\n",
    "\n",
    "定義函數 `extract_target_array_feature_matrix_titanic()` 以 `train.csv` 中的 `Survived` 作為目標陣列 $y$、`Sex`、`Age` 作為特徵矩陣 $X$\n",
    "\n",
    "- 使用 `import_titanic()` 函數。\n",
    "- 運用選擇欄位技巧。\n",
    "- 注意特徵矩陣外型。\n",
    "- 將預期輸出寫在 `return` 之後。"
   ]
  },
  {
   "cell_type": "code",
   "execution_count": 3,
   "metadata": {},
   "outputs": [],
   "source": [
    "def extract_target_array_feature_matrix_titanic() -> tuple:\n",
    "    \"\"\"\n",
    "    >>> y, X = extract_target_array_feature_matrix_titanic()\n",
    "    >>> type(y)\n",
    "    numpy.ndarray\n",
    "    >>> type(X)\n",
    "    numpy.ndarray\n",
    "    >>> y.shape\n",
    "    (891,)\n",
    "    >>> X.shape\n",
    "    (891, 2)\n",
    "    \"\"\"\n",
    "    ### BEGIN SOLUTION\n",
    "    train, test = import_titanic()\n",
    "    y = train[\"Survived\"].values\n",
    "    X = train[[\"Sex\", \"Age\"]].values\n",
    "    return y, X\n",
    "    ### END SOLUTION"
   ]
  },
  {
   "cell_type": "markdown",
   "metadata": {},
   "source": [
    "## 03. 操作 `titanic` 特徵矩陣\n",
    "\n",
    "定義函數 `wrangle_feature_matrix_titanic()` 將 `extract_target_array_feature_matrix_titanic()` 函數輸出的 `X` 第 0 欄轉換為整數、第 1 欄填補未定義值，轉換與填補的規則如下：\n",
    "\n",
    "- `{'female': 0, 'male': 1}`\n",
    "- 使用 `Series.map()`\n",
    "- 使用 `Series.mean()`\n",
    "- 使用 `Series.fillna()` 以平均數作為填補值。\n",
    "- 將預期輸出寫在 `return` 之後。"
   ]
  },
  {
   "cell_type": "code",
   "execution_count": 4,
   "metadata": {},
   "outputs": [],
   "source": [
    "def wrangle_feature_matrix_titanic(X: np.ndarray) -> np.ndarray:\n",
    "    \"\"\"\n",
    "    >>> y, X = extract_target_array_feature_matrix_titanic()\n",
    "    >>> X_wrangled = wrangle_feature_matrix_titanic(X)\n",
    "    >>> type(X_wrangled)\n",
    "    numpy.ndarray\n",
    "    >>> np.unique(X_wrangled[:, 0])\n",
    "    array([0, 1])\n",
    "    >>> np.sum(np.isnan(X_wrangled[:, 1]))\n",
    "    0\n",
    "    \"\"\"\n",
    "    ### BEGIN SOLUTION\n",
    "    X_dataframe = pd.DataFrame(X)\n",
    "    X_dataframe[0] = X_dataframe[0].map({'female': 0, 'male': 1})\n",
    "    mean_age = X_dataframe[1].mean()\n",
    "    X_dataframe[1] = X_dataframe[1].fillna(mean_age)\n",
    "    X_dataframe[1] = X_dataframe[1].astype(int)\n",
    "    return X_dataframe.values\n",
    "    ### END SOLUTION"
   ]
  },
  {
   "cell_type": "markdown",
   "metadata": {},
   "source": [
    "## 04. 為 `titanic` 特徵矩陣添加截距\n",
    "\n",
    "定義函數 `add_intercepts_for_feature_matrix_titanic()` 為特徵矩陣添加截距 $x_0 = 1$\n",
    "\n",
    "- 將預期輸出寫在 `return` 之後。"
   ]
  },
  {
   "cell_type": "code",
   "execution_count": 5,
   "metadata": {},
   "outputs": [],
   "source": [
    "def add_intercepts_for_feature_matrix_titanic(X: np.ndarray) -> np.ndarray:\n",
    "    \"\"\"\n",
    "    >>> y, X = extract_target_array_feature_matrix_titanic()\n",
    "    >>> X_wrangled = wrangle_feature_matrix_titanic(X)\n",
    "    >>> X_wrangled = add_intercepts_for_feature_matrix_titanic(X_wrangled)\n",
    "    >>> type(X_wrangled)\n",
    "    numpy.ndarray\n",
    "    >>> X_wrangled.shape\n",
    "    (891, 3)\n",
    "    >>> X_wrangled\n",
    "    array([[ 1,  1, 22],\n",
    "           [ 1,  0, 38],\n",
    "           [ 1,  0, 26],\n",
    "           ...,\n",
    "           [ 1,  0, 29],\n",
    "           [ 1,  1, 26],\n",
    "           [ 1,  1, 32]])\n",
    "    \"\"\"\n",
    "    ### BEGIN SOLUTION\n",
    "    m = X.shape[0]\n",
    "    intercepts = np.ones((m, 1), dtype=int)\n",
    "    return np.concatenate((intercepts, X), axis=1)\n",
    "    ### END SOLUTION"
   ]
  },
  {
   "cell_type": "markdown",
   "metadata": {},
   "source": [
    "## 04. 切割 `titanic` 訓練與驗證資料\n",
    "\n",
    "定義函數 `split_train_valid_titanic()` 將 `extract_target_array_feature_matrix_titanic()` 函數所輸出的 $y$ 與 `wrangle_feature_matrix_titanic()` 函數所輸出的 `X_wrangled` 切割為訓練與驗證資料。\n",
    "\n",
    "- 使用 `train_test_split(test_size=0.3, random_state=42)` 函數。\n",
    "- 將預期輸出寫在 `return` 之後。"
   ]
  },
  {
   "cell_type": "code",
   "execution_count": 6,
   "metadata": {},
   "outputs": [],
   "source": [
    "def split_train_valid_titanic(X: np.ndarray, y: np.ndarray) -> tuple:\n",
    "    \"\"\"\n",
    "    >>> y, X = extract_target_array_feature_matrix_titanic()\n",
    "    >>> X_wrangled = wrangle_feature_matrix_titanic(X)\n",
    "    >>> X_wrangled = add_intercepts_for_feature_matrix_titanic(X_wrangled)\n",
    "    >>> X_train, X_valid, y_train, y_valid = split_train_valid_titanic(X_wrangled, y)\n",
    "    >>> X_train.shape\n",
    "    (623, 3)\n",
    "    >>> X_valid.shape\n",
    "    (268, 3)\n",
    "    >>> y_train.shape\n",
    "    (623,)\n",
    "    >>> y_valid.shape\n",
    "    (268,)\n",
    "    \"\"\"\n",
    "    ### BEGIN SOLUTION\n",
    "    return train_test_split(X, y, test_size=0.3, random_state=42)\n",
    "    ### END SOLUTION"
   ]
  },
  {
   "cell_type": "markdown",
   "metadata": {},
   "source": [
    "## 05. 使用梯度遞減找出 `titanic` 的規則 $w$ \n",
    "\n",
    "定義函數 `find_w_with_gradient_descent_titanic()` 找出目標陣列 $y^{(train)}$、特徵矩陣 $X^{(train)}$ 之間的規則 $w$\n",
    "\n",
    "- 使用梯度遞減。\n",
    "- 將預期輸出寫在 `return` 之後。"
   ]
  },
  {
   "cell_type": "code",
   "execution_count": 7,
   "metadata": {},
   "outputs": [],
   "source": [
    "def find_w_with_gradient_descent_titanic(X_train: np.ndarray, y_train: np.ndarray) -> np.ndarray:\n",
    "    \"\"\"\n",
    "    >>> y, X = extract_target_array_feature_matrix_titanic()\n",
    "    >>> X_wrangled = wrangle_feature_matrix_titanic(X)\n",
    "    >>> X_wrangled = add_intercepts_for_feature_matrix_titanic(X_wrangled)\n",
    "    >>> X_train, X_valid, y_train, y_valid = split_train_valid_titanic(X_wrangled, y)\n",
    "    >>> w = find_w_with_gradient_descent_titanic(X_train, y_train)\n",
    "    >>> w[1] < 0\n",
    "    True\n",
    "    >>> w[2] < 0\n",
    "    True\n",
    "    \"\"\"\n",
    "    ### BEGIN SOLUTION\n",
    "    m, n = X_train.shape\n",
    "    w = np.random.rand(n)\n",
    "    epochs = 50000\n",
    "    learning_rate = 0.01\n",
    "    epsilon = 1e-6\n",
    "    for i in range(epochs):\n",
    "        X_w = np.dot(X_train, w)\n",
    "        p_hat = 1 / (1 + np.exp(-X_w))\n",
    "        cost_y1 = -np.dot(y_train, np.log(p_hat + epsilon))\n",
    "        cost_y0 = -np.dot(1 - y_train, np.log(1 - p_hat + epsilon))\n",
    "        cross_entropy = (cost_y1 + cost_y0) / m\n",
    "        X_T = np.transpose(X_train)\n",
    "        gradient = (1/m) * np.dot(X_T, p_hat - y_train)\n",
    "        if i % 5000 == 0:\n",
    "            print(\"epoch: {:6} - loss: {:.6f}\".format(i, cross_entropy))\n",
    "        w -= learning_rate*gradient\n",
    "    return w.ravel()\n",
    "    ### END SOLUTION"
   ]
  },
  {
   "cell_type": "markdown",
   "metadata": {},
   "source": [
    "## 06. 定義 Sigmoid 函數預測機率\n",
    "\n",
    "定義函數 `predict_proba_titanic()` 運用上題找出的規則 $w$ 預測 `Survived` 為 0 或 1 的機率為何。\n",
    "\n",
    "\\begin{equation}\n",
    "\\sigma(x) = \\frac{1}{1 + e^{-x}}\n",
    "\\end{equation}\n",
    "\n",
    "- 使用 Sigmoid 函數。\n",
    "- 將預期輸出寫在 `return` 之後。"
   ]
  },
  {
   "cell_type": "code",
   "execution_count": 8,
   "metadata": {},
   "outputs": [],
   "source": [
    "def predict_proba_titanic(X: np.ndarray, w: np.ndarray) -> np.ndarray:\n",
    "    \"\"\"\n",
    "    >>> y, X = extract_target_array_feature_matrix_titanic()\n",
    "    >>> X_wrangled = wrangle_feature_matrix_titanic(X)\n",
    "    >>> X_wrangled = add_intercepts_for_feature_matrix_titanic(X_wrangled)\n",
    "    >>> X_train, X_valid, y_train, y_valid = split_train_valid_titanic(X_wrangled, y)\n",
    "    >>> w = find_w_with_gradient_descent_titanic(X_train, y_train)\n",
    "    >>> predict_proba_titanic(X_valid, w)[:5]\n",
    "    array([[0.8140447 , 0.1859553 ],\n",
    "           [0.815614  , 0.184386  ],\n",
    "           [0.80685537, 0.19314463],\n",
    "           [0.25045221, 0.74954779],\n",
    "           [0.25834303, 0.74165697]])\n",
    "    \"\"\"\n",
    "    ### BEGIN SOLUTION\n",
    "    X_w = np.dot(X, w)\n",
    "    p_hat_1 = (1 / (1 + np.exp(-X_w))).reshape(-1, 1)\n",
    "    p_hat_0 = 1 - p_hat_1\n",
    "    proba = np.concatenate([p_hat_0, p_hat_1], axis=1)\n",
    "    return proba\n",
    "    ### END SOLUTION"
   ]
  },
  {
   "cell_type": "markdown",
   "metadata": {},
   "source": [
    "## 07. 以梯度遞減找出的 $w$ 預測位於 `titanic` 路徑的 `test.csv`\n",
    "\n",
    "定義函數 `predict_survived()` 能夠依據 `Sex`、`Age` 與基於機器學習的模型預測 `test.csv` 的 `Survived`\n",
    "\n",
    "- 使用 `extract_target_array_feature_matrix_titanic()` 函數。\n",
    "- 使用 `wrangle_feature_matrix_titanic()` 函數。\n",
    "- 使用 `add_intercepts_for_feature_matrix_titanic()` 函數。\n",
    "- 使用 `split_train_valid_titanic()` 函數。\n",
    "- 使用 `find_w_with_gradient_descent_titanic()` 函數。\n",
    "- 使用 `predict_proba_titanic()` 函數。\n",
    "- 使用 `np.argmax()` 函數。\n",
    "- 將預期輸出寫在 `return` 之後。"
   ]
  },
  {
   "cell_type": "code",
   "execution_count": 9,
   "metadata": {},
   "outputs": [],
   "source": [
    "def predict_survived(X_test: pd.core.frame.DataFrame) -> pd.core.frame.DataFrame:\n",
    "    \"\"\"\n",
    "    >>> train, test = import_titanic()\n",
    "    >>> X_test = test[[\"PassengerId\", \"Sex\", \"Age\"]]\n",
    "    >>> predict_survived(X_test)[:5]\n",
    "       PassengerId  Survived\n",
    "    0          892         0\n",
    "    1          893         1\n",
    "    2          894         0\n",
    "    3          895         0\n",
    "    4          896         1\n",
    "    \"\"\"\n",
    "    ### BEGIN SOLUTION\n",
    "    y, X = extract_target_array_feature_matrix_titanic()\n",
    "    X_wrangled = wrangle_feature_matrix_titanic(X)\n",
    "    X_wrangled = add_intercepts_for_feature_matrix_titanic(X_wrangled)\n",
    "    X_train, X_valid, y_train, y_valid = split_train_valid_titanic(X_wrangled, y)\n",
    "    w = find_w_with_gradient_descent_titanic(X_train, y_train)\n",
    "    X_test_ndarray = X_test[[\"Sex\", \"Age\"]].values\n",
    "    X_test_wrangled = wrangle_feature_matrix_titanic(X_test_ndarray)\n",
    "    X_test_wrangled = add_intercepts_for_feature_matrix_titanic(X_test_wrangled)\n",
    "    y_hat_proba = predict_proba_titanic(X_test_wrangled, w)\n",
    "    y_hat = np.argmax(y_hat_proba, axis=1)\n",
    "    out_df = pd.DataFrame()\n",
    "    out_df[\"PassengerId\"] = X_test[\"PassengerId\"].values\n",
    "    out_df[\"Survived\"] = y_hat\n",
    "    return out_df\n",
    "    ### END SOLUTION"
   ]
  },
  {
   "cell_type": "code",
   "execution_count": 10,
   "metadata": {},
   "outputs": [
    {
     "name": "stderr",
     "output_type": "stream",
     "text": [
      "test_01_import_titanic (__main__.TestClassification) ... ok\n",
      "test_02_extract_target_array_feature_matrix_titanic (__main__.TestClassification) ... ok\n",
      "test_03_wrangle_feature_matrix_titanic (__main__.TestClassification) ... ok\n",
      "test_04_add_intercepts_for_feature_matrix_titanic (__main__.TestClassification) ... ok\n",
      "test_05_split_train_valid_titanic (__main__.TestClassification) ... ok\n",
      "test_06_find_w_with_gradient_descent_titanic (__main__.TestClassification) ... "
     ]
    },
    {
     "name": "stdout",
     "output_type": "stream",
     "text": [
      "epoch:      0 - loss: 4.676135\n",
      "epoch:   5000 - loss: 0.519019\n",
      "epoch:  10000 - loss: 0.515746\n",
      "epoch:  15000 - loss: 0.515384\n",
      "epoch:  20000 - loss: 0.515338\n",
      "epoch:  25000 - loss: 0.515331\n",
      "epoch:  30000 - loss: 0.515330\n",
      "epoch:  35000 - loss: 0.515330\n",
      "epoch:  40000 - loss: 0.515330\n",
      "epoch:  45000 - loss: 0.515330\n"
     ]
    },
    {
     "name": "stderr",
     "output_type": "stream",
     "text": [
      "ok\n",
      "test_07_predict_survived (__main__.TestClassification) ... "
     ]
    },
    {
     "name": "stdout",
     "output_type": "stream",
     "text": [
      "epoch:      0 - loss: 5.903722\n",
      "epoch:   5000 - loss: 0.520811\n",
      "epoch:  10000 - loss: 0.515943\n",
      "epoch:  15000 - loss: 0.515409\n",
      "epoch:  20000 - loss: 0.515341\n",
      "epoch:  25000 - loss: 0.515332\n",
      "epoch:  30000 - loss: 0.515331\n",
      "epoch:  35000 - loss: 0.515330\n",
      "epoch:  40000 - loss: 0.515330\n",
      "epoch:  45000 - loss: 0.515330\n"
     ]
    },
    {
     "name": "stderr",
     "output_type": "stream",
     "text": [
      "ok\n",
      "\n",
      "----------------------------------------------------------------------\n",
      "Ran 7 tests in 6.912s\n",
      "\n",
      "OK\n"
     ]
    }
   ],
   "source": [
    "class TestClassification(unittest.TestCase):\n",
    "    def test_01_import_titanic(self):\n",
    "        train, test = import_titanic()\n",
    "        self.assertIsInstance(train, pd.core.frame.DataFrame)\n",
    "        self.assertIsInstance(test, pd.core.frame.DataFrame)\n",
    "        self.assertEqual(train.shape, (891, 12))\n",
    "        self.assertEqual(test.shape, (418, 11))\n",
    "    def test_02_extract_target_array_feature_matrix_titanic(self):\n",
    "        y, X = extract_target_array_feature_matrix_titanic()\n",
    "        self.assertEqual(y.shape, (891,))\n",
    "        self.assertEqual(X.shape, (891, 2))\n",
    "    def test_03_wrangle_feature_matrix_titanic(self):\n",
    "        y, X = extract_target_array_feature_matrix_titanic()\n",
    "        X_wrangled = wrangle_feature_matrix_titanic(X)\n",
    "        self.assertEqual(np.unique(X_wrangled[:, 0]).size, 2)\n",
    "        self.assertEqual(np.sum(np.isnan(X_wrangled[:, 1])), 0)\n",
    "    def test_04_add_intercepts_for_feature_matrix_titanic(self):\n",
    "        y, X = extract_target_array_feature_matrix_titanic()\n",
    "        X_wrangled = wrangle_feature_matrix_titanic(X)\n",
    "        X_wrangled = add_intercepts_for_feature_matrix_titanic(X_wrangled)\n",
    "        self.assertEqual(X_wrangled.shape, (891, 3))\n",
    "    def test_05_split_train_valid_titanic(self):\n",
    "        y, X = extract_target_array_feature_matrix_titanic()\n",
    "        X_wrangled = wrangle_feature_matrix_titanic(X)\n",
    "        X_wrangled = add_intercepts_for_feature_matrix_titanic(X_wrangled)\n",
    "        X_train, X_valid, y_train, y_valid = split_train_valid_titanic(X_wrangled, y)\n",
    "        self.assertEqual(X_train.shape, (623, 3))\n",
    "        self.assertEqual(X_valid.shape, (268, 3))\n",
    "        self.assertEqual(y_train.shape, (623,))\n",
    "        self.assertEqual(y_valid.shape, (268,))\n",
    "    def test_06_find_w_with_gradient_descent_titanic(self):\n",
    "        y, X = extract_target_array_feature_matrix_titanic()\n",
    "        X_wrangled = wrangle_feature_matrix_titanic(X)\n",
    "        X_wrangled = add_intercepts_for_feature_matrix_titanic(X_wrangled)\n",
    "        X_train, X_valid, y_train, y_valid = split_train_valid_titanic(X_wrangled, y)\n",
    "        w = find_w_with_gradient_descent_titanic(X_train, y_train)\n",
    "        self.assertTrue(w[1] < 0)\n",
    "        self.assertTrue(w[2] < 0)\n",
    "    def test_07_predict_survived(self):\n",
    "        train, test = import_titanic()\n",
    "        X_test = test[[\"PassengerId\", \"Sex\", \"Age\"]]\n",
    "        survived = predict_survived(X_test)\n",
    "        self.assertIsInstance(survived, pd.core.frame.DataFrame)\n",
    "        self.assertEqual(survived.shape, (418, 2))\n",
    "        self.assertTrue(survived[\"Survived\"].nunique(), 2)\n",
    "        self.assertEqual(survived[\"Survived\"].max(), 1)\n",
    "        self.assertEqual(survived[\"Survived\"].min(), 0)\n",
    "        \n",
    "suite = unittest.TestLoader().loadTestsFromTestCase(TestClassification)\n",
    "runner = unittest.TextTestRunner(verbosity=2)\n",
    "test_results = runner.run(suite)\n",
    "number_of_failures = len(test_results.failures)\n",
    "number_of_errors = len(test_results.errors)\n",
    "number_of_test_runs = test_results.testsRun\n",
    "number_of_successes = number_of_test_runs - (number_of_failures + number_of_errors)"
   ]
  },
  {
   "cell_type": "code",
   "execution_count": 11,
   "metadata": {},
   "outputs": [
    {
     "name": "stdout",
     "output_type": "stream",
     "text": [
      "你在類別預測的任務的 7 個問題中答對了 7 題。\n"
     ]
    }
   ],
   "source": [
    "print(\"你在類別預測的任務的 {} 個問題中答對了 {} 題。\".format(number_of_test_runs, number_of_successes))"
   ]
  }
 ],
 "metadata": {
  "kernelspec": {
   "display_name": "ML from Scratch",
   "language": "python",
   "name": "mlfromscratch"
  },
  "language_info": {
   "codemirror_mode": {
    "name": "ipython",
    "version": 3
   },
   "file_extension": ".py",
   "mimetype": "text/x-python",
   "name": "python",
   "nbconvert_exporter": "python",
   "pygments_lexer": "ipython3",
   "version": "3.8.13"
  }
 },
 "nbformat": 4,
 "nbformat_minor": 4
}
